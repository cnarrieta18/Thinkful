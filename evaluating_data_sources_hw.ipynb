{
 "cells": [
  {
   "cell_type": "markdown",
   "metadata": {},
   "source": [
    "# Drill\n",
    "\n",
    "In each of the scenarios, find possible shortcomings of the theoretical or actual data sources to answer the given question. What could be done to either adjust the analysis or reframe the question so that you can answer it accurately?\n",
    "\n",
    "\n",
    "Write up your answers and submit below. After trying it yourself, you can find a solution [here.](https://github.com/Thinkful-Ed/data-201-resources/blob/master/solutions/Prep%20course/3.2.7.md)"
   ]
  },
  {
   "cell_type": "markdown",
   "metadata": {},
   "source": [
    "---\n",
    "**Theoretical Data Source**: Amsterdam availability data scraped from AirBnB on December 24th.\n",
    "\n",
    "**Question**: What are the popular neighborhoods in Amsterdam?"
   ]
  },
  {
   "cell_type": "markdown",
   "metadata": {},
   "source": [
    "[ANSWER] Given the data source, the question is too general.  The question can be adjusted specifically to Christmas time.  Additionally, the question can ask if neighborhood is even a significant feature for people looking to book around Christmas time. "
   ]
  },
  {
   "cell_type": "markdown",
   "metadata": {},
   "source": [
    "---\n",
    "**Theoretical Data Source**: Mental health services use on September 12, 2001 in San Francisco, CA and New York City, NY.\n",
    "\n",
    "**Question**: How do patterns of mental health service use vary between cities?"
   ]
  },
  {
   "cell_type": "markdown",
   "metadata": {},
   "source": [
    "[ANSWER] This date is not representative of a typical day in the lives of the population in these cities, or any city in America.  Behavioral patterns may not be reresentative.  Rather than using a data on a particular day/event, look for data that can quantify cumulative patterns over specified duration (annual or monthly is a good start).  If the focus is to find out each city's capacity to provide mental health service after a traumatizing event, then this data source may be helpful."
   ]
  },
  {
   "cell_type": "markdown",
   "metadata": {},
   "source": [
    "---\n",
    "**Actual Data Source**: [Armenian Pub Survey.](https://www.kaggle.com/erikhambardzumyan/pubs)\n",
    "\n",
    "**Question**: What are the most common reasons Armenians visit local pubs?"
   ]
  },
  {
   "cell_type": "markdown",
   "metadata": {},
   "source": [
    "[ANSWER] Over half of the response are from people who rarely go to the pubs in the first place.  This skews the answers to the behavior of those people.  Likewise, students represent a mojority of the sample group.  The question can be reframed to ask: what are the common reasons of Aremenian students for visiting local pubs?  "
   ]
  },
  {
   "cell_type": "code",
   "execution_count": null,
   "metadata": {},
   "outputs": [],
   "source": []
  }
 ],
 "metadata": {
  "kernelspec": {
   "display_name": "Python 3",
   "language": "python",
   "name": "python3"
  },
  "language_info": {
   "codemirror_mode": {
    "name": "ipython",
    "version": 3
   },
   "file_extension": ".py",
   "mimetype": "text/x-python",
   "name": "python",
   "nbconvert_exporter": "python",
   "pygments_lexer": "ipython3",
   "version": "3.7.3"
  }
 },
 "nbformat": 4,
 "nbformat_minor": 2
}
