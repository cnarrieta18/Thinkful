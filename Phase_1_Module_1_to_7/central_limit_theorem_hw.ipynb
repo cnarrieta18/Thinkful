{
 "cells": [
  {
   "cell_type": "markdown",
   "metadata": {},
   "source": [
    "# Assignments\n",
    "\n",
    "Now that you have some code to create your own populations, sample them, and compare the samples to the populations, it's time to experiment. Using your own Jupyter notebook, or a copy of the notebook above, reproduce the `pop1` and `pop2` populations and samples using numpy's binomial function. Specifically, create two binomially distributed populations with n equal to 10 and size equal to 10000. The p-value of `pop1` should be 0.2 and the p-value of `pop2` should be 0.5. Using a sample size of 100, calculate the means and standard deviations of your samples.\n",
    "\n",
    "For each of the following tasks, first write what you expect will happen, then code the changes and observe what does happen. Discuss the results with your mentor.\n",
    "\n",
    "When you've given it a try, you can find a sample solution [here.](https://github.com/Thinkful-Ed/data-201-resources/blob/master/solutions/Prep%20course/3.3.7.ipynb)\n"
   ]
  },
  {
   "cell_type": "code",
   "execution_count": 1,
   "metadata": {},
   "outputs": [],
   "source": [
    "import numpy as np\n",
    "import matplotlib.pyplot as plt\n",
    "%matplotlib inline"
   ]
  },
  {
   "cell_type": "code",
   "execution_count": 2,
   "metadata": {},
   "outputs": [
    {
     "name": "stdout",
     "output_type": "stream",
     "text": [
      " mean of pop1 with size=10000: 2.0\n",
      " standard deviation of pop1 with size=10000: 1.27\n",
      " mean of pop2 with size=10000: 4.99\n",
      " standard deviation of pop2 with size=10000: 1.59\n"
     ]
    }
   ],
   "source": [
    "# create population from random binomial distribution\n",
    "pop1 = np.random.binomial(10, 0.2, 10000)\n",
    "pop2 = np.random.binomial(10, 0.5, 10000)\n",
    "print(\" mean of pop1 with size=10000: {}\\n\".format(round(pop1.mean(),2)),\n",
    "      \"standard deviation of pop1 with size=10000: {}\\n\".format(round(pop1.std(),2)),\n",
    "      \"mean of pop2 with size=10000: {}\\n\".format(round(pop2.mean(),2)),\n",
    "      \"standard deviation of pop2 with size=10000: {}\".format(round(pop2.std(),2)))"
   ]
  },
  {
   "cell_type": "code",
   "execution_count": 3,
   "metadata": {},
   "outputs": [
    {
     "name": "stdout",
     "output_type": "stream",
     "text": [
      " mean of sample_1 with size=100: 1.99\n",
      " standard deviation of sample_1 with size=100: 1.34\n",
      " mean of sample_2 with size=100: 4.96\n",
      " standard deviation of sample_2 with size=100: 1.62\n"
     ]
    }
   ],
   "source": [
    "# sample size of 100\n",
    "sample1 = np.random.choice(pop1, 100, replace=True)\n",
    "sample2 = np.random.choice(pop2, 100, replace=True)\n",
    "print(\" mean of sample_1 with size=100: {}\\n\".format(round(sample1.mean(),2)),\n",
    "      \"standard deviation of sample_1 with size=100: {}\\n\".format(round(sample1.std(),2)),\n",
    "      \"mean of sample_2 with size=100: {}\\n\".format(round(sample2.mean(),2)),\n",
    "      \"standard deviation of sample_2 with size=100: {}\".format(round(sample2.std(),2)))"
   ]
  },
  {
   "cell_type": "code",
   "execution_count": 31,
   "metadata": {},
   "outputs": [
    {
     "name": "stdout",
     "output_type": "stream",
     "text": [
      "-3.01\n",
      "1.8275\n",
      "1.7763999999999998\n"
     ]
    }
   ],
   "source": [
    "print(sample1.mean() - sample2.mean())\n",
    "print(sample1.var())\n",
    "print(sample2.var())"
   ]
  },
  {
   "cell_type": "markdown",
   "metadata": {},
   "source": [
    "### Problem 1\n",
    "Increase the size of your samples from 100 to 1000, then calculate the means and standard deviations for your new samples and create histograms for each. Repeat this again, decreasing the size of your samples to 20. What values change, and what remain the same?\n",
    "\n",
    "**Expectations:** I expect the larger sample size to result in a sample mean that matches the population mean.  Inversely, I expect the smaller sample size (20) to result in a sample mean that deviates from the population mean.        "
   ]
  },
  {
   "cell_type": "code",
   "execution_count": 8,
   "metadata": {},
   "outputs": [],
   "source": [
    "#change sample size to 1000\n",
    "sample1_1000 = np.random.choice(pop1, 1000, replace=True)\n",
    "sample2_1000 = np.random.choice(pop2, 1000, replace=True)"
   ]
  },
  {
   "cell_type": "code",
   "execution_count": 9,
   "metadata": {},
   "outputs": [
    {
     "name": "stdout",
     "output_type": "stream",
     "text": [
      " mean of sample_1 with size=1000: 1.99\n",
      " standard deviation of sample_1 with size=1000: 1.29\n",
      " mean of sample_2 with size=1000: 5.0\n",
      " standard deviation of sample_2 with size=1000: 1.6\n"
     ]
    }
   ],
   "source": [
    "print(\" mean of sample_1 with size=1000: {}\\n\".format(round(sample1_1000.mean(),2)),\n",
    "      \"standard deviation of sample_1 with size=1000: {}\\n\".format(round(sample1_1000.std(),2)),\n",
    "      \"mean of sample_2 with size=1000: {}\\n\".format(round(sample2_1000.mean(),2)),\n",
    "      \"standard deviation of sample_2 with size=1000: {}\".format(round(sample2_1000.std(),2)))"
   ]
  },
  {
   "cell_type": "code",
   "execution_count": 12,
   "metadata": {},
   "outputs": [],
   "source": [
    "#change sample size to 20\n",
    "sample1_20 = np.random.choice(pop1, 20, replace=True)\n",
    "sample2_20 = np.random.choice(pop2, 20, replace=True)"
   ]
  },
  {
   "cell_type": "code",
   "execution_count": 13,
   "metadata": {},
   "outputs": [
    {
     "name": "stdout",
     "output_type": "stream",
     "text": [
      " mean of sample_1 with size=20: 2.0\n",
      " standard deviation of sample_1 with size=20: 1.18\n",
      " mean of sample_2 with size=20: 4.45\n",
      " standard deviation of sample_2 with size=20: 1.28\n"
     ]
    }
   ],
   "source": [
    "print(\" mean of sample_1 with size=20: {}\\n\".format(round(sample1_20.mean(),2)),\n",
    "      \"standard deviation of sample_1 with size=20: {}\\n\".format(round(sample1_20.std(),2)),\n",
    "      \"mean of sample_2 with size=20: {}\\n\".format(round(sample2_20.mean(),2)),\n",
    "      \"standard deviation of sample_2 with size=20: {}\".format(round(sample2_20.std(),2)))"
   ]
  },
  {
   "cell_type": "markdown",
   "metadata": {},
   "source": [
    "**Result:** As expected, the large sample size had a mean that matches population mean, while the much smaller sample size did not match population mean with p = 0.5.  Interesting that this is the same case with standard deviation."
   ]
  },
  {
   "cell_type": "markdown",
   "metadata": {},
   "source": [
    "### Problem 2\n",
    "Change the probability value (p in the [NumPy documentation](https://docs.scipy.org/doc/numpy/reference/random/generated/numpy.random.Generator.binomial.html?highlight=binomial%20p#numpy.random.Generator.binomial)) for `pop1` to 0.3, then take new samples and compute the t-statistic and p-value. Then change the probability value p for group 1 to 0.4, and do it again. What changes, and why?\n",
    "\n",
    "**Expectations:** I expect t-value to drop and p-value to increase because the populations are becoming more similar "
   ]
  },
  {
   "cell_type": "code",
   "execution_count": 14,
   "metadata": {},
   "outputs": [
    {
     "name": "stdout",
     "output_type": "stream",
     "text": [
      "Ttest_indResult(statistic=7.9944387218546975, pvalue=1.0622629971016045e-13)\n"
     ]
    }
   ],
   "source": [
    "# change pop1 to probability = 0.3\n",
    "pop1 = np.random.binomial(10, 0.3, 10000)\n",
    "pop2 = np.random.binomial(10, 0.5, 10000)\n",
    "sample1 = np.random.choice(pop1, 100, replace=True)\n",
    "sample2 = np.random.choice(pop2, 100, replace=True)\n",
    "from scipy.stats import ttest_ind\n",
    "print(ttest_ind(sample2, sample1, equal_var=False))"
   ]
  },
  {
   "cell_type": "code",
   "execution_count": 15,
   "metadata": {},
   "outputs": [
    {
     "name": "stdout",
     "output_type": "stream",
     "text": [
      "Ttest_indResult(statistic=4.693347323848563, pvalue=5.00897154378882e-06)\n"
     ]
    }
   ],
   "source": [
    "# change pop1 to probability = 0.4\n",
    "pop1 = np.random.binomial(10, 0.4, 10000)\n",
    "pop2 = np.random.binomial(10, 0.5, 10000)\n",
    "sample1 = np.random.choice(pop1, 100, replace=True)\n",
    "sample2 = np.random.choice(pop2, 100, replace=True)\n",
    "from scipy.stats import ttest_ind\n",
    "print(ttest_ind(sample2, sample1, equal_var=False))"
   ]
  },
  {
   "cell_type": "markdown",
   "metadata": {},
   "source": [
    "**Result:** Yes! It turned out as expected.  I hope it wasn't a fluke, and my reasoning was sound."
   ]
  },
  {
   "cell_type": "markdown",
   "metadata": {},
   "source": [
    "### Problem 3\n",
    "Change the distribution of your populations from binomial to a distribution of your choice. Do the sample mean values still accurately represent the population values?\n",
    "\n",
    "**Expectations:** I think it depends on sample size.  Above 30 should yield sample mean that reflects population mean, and below 20 should have low success with matching population mean."
   ]
  },
  {
   "cell_type": "code",
   "execution_count": 20,
   "metadata": {},
   "outputs": [
    {
     "data": {
      "image/png": "[encoded data removed]",
      "text/plain": [
       "<Figure size 432x288 with 1 Axes>"
      ]
     },
     "metadata": {
      "needs_background": "light"
     },
     "output_type": "display_data"
    }
   ],
   "source": [
    "pop1 = np.random.uniform(1, 10, 10000)\n",
    "pop2 = np.random.uniform(10, 20, 10000)\n",
    "plt.hist(pop1, alpha=0.5, label='Population 1') \n",
    "plt.hist(pop2, alpha=0.5, label='Population 2') \n",
    "plt.legend(loc='upper right') \n",
    "plt.show()"
   ]
  },
  {
   "cell_type": "code",
   "execution_count": 26,
   "metadata": {},
   "outputs": [
    {
     "data": {
      "image/png": "[encoded data removed]",
      "text/plain": [
       "<Figure size 432x288 with 1 Axes>"
      ]
     },
     "metadata": {
      "needs_background": "light"
     },
     "output_type": "display_data"
    },
    {
     "name": "stdout",
     "output_type": "stream",
     "text": [
      " mean of pop1 with size=10000: 5.51\n",
      " mean of pop2 with size=10000: 15.06\n",
      " mean of sample_1 with size=100: 5.98\n",
      " mean of sample_2 with size=100: 16.15\n"
     ]
    }
   ],
   "source": [
    "sample1 = np.random.choice(pop1, 20, replace=True)\n",
    "sample2 = np.random.choice(pop2, 20, replace=True)\n",
    "plt.hist(sample1, alpha=0.5, label='sample 1') \n",
    "plt.hist(sample2, alpha=0.5, label='sample 2') \n",
    "plt.legend(loc='upper right') \n",
    "plt.show()\n",
    "\n",
    "print(\" mean of pop1 with size=10000: {}\\n\".format(round(pop1.mean(),2)),\n",
    "      \"mean of pop2 with size=10000: {}\\n\".format(round(pop2.mean(),2)),\n",
    "      \"mean of sample_1 with size=100: {}\\n\".format(round(sample1.mean(),2)),\n",
    "      \"mean of sample_2 with size=100: {}\".format(round(sample2.mean(),2)))      "
   ]
  },
  {
   "cell_type": "code",
   "execution_count": 29,
   "metadata": {},
   "outputs": [
    {
     "data": {
      "image/png": "[encoded data removed]",
      "text/plain": [
       "<Figure size 432x288 with 1 Axes>"
      ]
     },
     "metadata": {
      "needs_background": "light"
     },
     "output_type": "display_data"
    },
    {
     "name": "stdout",
     "output_type": "stream",
     "text": [
      " mean of pop1 with size=10000: 5.51\n",
      " mean of pop2 with size=10000: 15.06\n",
      " mean of sample_1 with size=100: 6.01\n",
      " mean of sample_2 with size=100: 15.24\n"
     ]
    }
   ],
   "source": [
    "sample1 = np.random.choice(pop1, 30, replace=True)\n",
    "sample2 = np.random.choice(pop2, 30, replace=True)\n",
    "plt.hist(sample1, alpha=0.5, label='sample 1') \n",
    "plt.hist(sample2, alpha=0.5, label='sample 2') \n",
    "plt.legend(loc='upper right') \n",
    "plt.show()\n",
    "\n",
    "print(\" mean of pop1 with size=10000: {}\\n\".format(round(pop1.mean(),2)),\n",
    "      \"mean of pop2 with size=10000: {}\\n\".format(round(pop2.mean(),2)),\n",
    "      \"mean of sample_1 with size=100: {}\\n\".format(round(sample1.mean(),2)),\n",
    "      \"mean of sample_2 with size=100: {}\".format(round(sample2.mean(),2)))      "
   ]
  },
  {
   "cell_type": "markdown",
   "metadata": {},
   "source": [
    "**Results:** Hm, looks like sample size of 30 is not that reliable either."
   ]
  },
  {
   "cell_type": "code",
   "execution_count": null,
   "metadata": {},
   "outputs": [],
   "source": []
  }
 ],
 "metadata": {
  "kernelspec": {
   "display_name": "Python 3",
   "language": "python",
   "name": "python3"
  },
  "language_info": {
   "codemirror_mode": {
    "name": "ipython",
    "version": 3
   },
   "file_extension": ".py",
   "mimetype": "text/x-python",
   "name": "python",
   "nbconvert_exporter": "python",
   "pygments_lexer": "ipython3",
   "version": "3.7.3"
  }
 },
 "nbformat": 4,
 "nbformat_minor": 2
}
