{
 "cells": [
  {
   "cell_type": "markdown",
   "metadata": {},
   "source": [
    "# Drill set 1\n",
    "\n",
    "When you're done, the solution for this drillset can be found [here.](https://github.com/Thinkful-Ed/data-201-resources/blob/master/solutions/Prep%20course/3.2.4.md)"
   ]
  },
  {
   "cell_type": "markdown",
   "metadata": {},
   "source": [
    "1. Calculate the probability of flipping a balanced coin four times and getting each pattern: HTTH, HHHH and TTHH."
   ]
  },
  {
   "cell_type": "code",
   "execution_count": 1,
   "metadata": {},
   "outputs": [
    {
     "data": {
      "text/plain": [
       "{'HTTH': 0.0625, 'HHHH': 0.0625, 'TTHH': 0.0625}"
      ]
     },
     "execution_count": 1,
     "metadata": {},
     "output_type": "execute_result"
    }
   ],
   "source": [
    "probability = {}\n",
    "\n",
    "probability['HTTH'] = 0.5*0.5*0.5*0.5\n",
    "probability['HHHH'] = 0.5*0.5*0.5*0.5\n",
    "probability['TTHH'] = 0.5*0.5*0.5*0.5\n",
    "\n",
    "probability"
   ]
  },
  {
   "cell_type": "markdown",
   "metadata": {},
   "source": [
    "2. If a list of people has 24 women and 21 men, then the probability of choosing a man from the list is 21/45. What is the probability of not choosing a man?"
   ]
  },
  {
   "cell_type": "code",
   "execution_count": 24,
   "metadata": {},
   "outputs": [
    {
     "data": {
      "text/plain": [
       "'8/15'"
      ]
     },
     "execution_count": 24,
     "metadata": {},
     "output_type": "execute_result"
    }
   ],
   "source": [
    "from fractions import Fraction\n",
    "\n",
    "p_man = Fraction(21,45)\n",
    "p_not_man = (1 - p_man)\n",
    "str(p_not_man)"
   ]
  },
  {
   "cell_type": "markdown",
   "metadata": {},
   "source": [
    "3. The probability that Bernice will travel by plane sometime in the next year is 10%. The probability of a plane crash at any time is .005%. What is the probability that Bernice will be in a plane crash sometime in the next year?"
   ]
  },
  {
   "cell_type": "code",
   "execution_count": 26,
   "metadata": {},
   "outputs": [
    {
     "name": "stdout",
     "output_type": "stream",
     "text": [
      "Probability of Bernice getting in a plane crash sometime next year is 0.0005%\n"
     ]
    }
   ],
   "source": [
    "p_traveling = 0.1\n",
    "p_crash = 0.00005\n",
    "p_traveling_given_crash = 1\n",
    "p_crash_given_traveling = p_traveling_given_crash * p_crash / p_traveling\n",
    "\n",
    "print('Probability of Bernice getting in a plane crash sometime next year is {}%'.format(p_crash_given_traveling))"
   ]
  },
  {
   "cell_type": "markdown",
   "metadata": {},
   "source": [
    "4. A data scientist wants to study the behavior of users on the company website. Each time a user clicks on a link on the website, there is a 5% chance that the user will be asked to complete a short survey about their behavior on the website. The data scientist uses the survey data to conclude that, on average, users spend 15 minutes surfing the company website before moving on to other things. What is wrong with this conclusion?"
   ]
  },
  {
   "cell_type": "markdown",
   "metadata": {},
   "source": [
    "[answer] The sample is not be representative of the user population.  \n",
    "\n",
    "- behavior of users that clicks a link on the website\n",
    "    - 5% of those users get a link\n",
    "        - behavior of a portion of those who receive a survey and asnwer"
   ]
  },
  {
   "cell_type": "markdown",
   "metadata": {},
   "source": [
    "# Drill set 2\n",
    "\n",
    "Now it's time to use Bayes' rule to compute some conditional probabilities. First look over the numbers and estimate each of the four probabilities, using your intuition. Then, calculate the probabilities using Bayes' rule. Keep track of your work in a Google document or markdown file that you can share with your mentor.\n",
    "\n",
    "Discuss your answer to each of these questions with your mentor. If you want more Bayes practice, try [these exercises.](http://stony.me/statistics-for-beginners-bayes-rule-4/)\n",
    "\n",
    "After giving it a try yourself, you can find a solution [here.](https://github.com/Thinkful-Ed/data-201-resources/blob/master/solutions/Prep%20course/3.2.6.md)"
   ]
  },
  {
   "cell_type": "markdown",
   "metadata": {},
   "source": [
    "A diagnostic test has a 98% probability of giving a positive result when applied to a person suffering from Thripshaw's Disease, and 10% probability of giving a (false) positive when applied to a non-sufferer. It is estimated that 0.5 % of the population are sufferers. Suppose that the test is now administered to a person whose disease status is unknown. Calculate the probability that the test will:\n",
    "\n",
    "1. Be positive\n",
    "2. Correctly diagnose a sufferer of Thripshaw's\n",
    "3. Correctly identify a non-sufferer of Thripshaw's\n",
    "4. Misclassify the person"
   ]
  },
  {
   "cell_type": "code",
   "execution_count": 3,
   "metadata": {},
   "outputs": [
    {
     "name": "stdout",
     "output_type": "stream",
     "text": [
      "Probability of positive test: 0.1044\n",
      "Probability of a positive test from a sufferer of Thripshaw's: 0.98\n",
      "Probability of a negative test from a non-sufferer of Thripshaw's: 0.9\n",
      "Probability of misclassifying a person: 0.0996, does it match correct answer 0.0996??\n",
      "Probability of suffering from Thripshaw's given positive test: 0.05\n",
      "Probability of not suffering from Thripshaw's given negative test: 1.0\n"
     ]
    }
   ],
   "source": [
    "p_positive_disease = 0.98\n",
    "p_positive_no_disease = 0.1\n",
    "p_disease = 0.005\n",
    "\n",
    "p_positive = (p_disease*p_positive_disease) + ((1-p_disease)*p_positive_no_disease)\n",
    "\n",
    "p_disease_positive = p_positive_disease * p_disease / p_positive\n",
    "\n",
    "p_no_disease_negative = (1-p_positive_no_disease) * (1-p_disease) / (1-p_positive)\n",
    "\n",
    "p_wrong = p_positive_no_disease*(1-p_disease) + (1-p_positive_disease)*p_disease\n",
    "\n",
    "print(\n",
    "    f'Probability of positive test: {p_positive}''\\n'\n",
    "    f'Probability of a positive test from a sufferer of Thripshaw\\'s: {p_positive_disease}''\\n'\n",
    "    f'Probability of a negative test from a non-sufferer of Thripshaw\\'s: {1-p_positive_no_disease}''\\n'\n",
    "    f'Probability of misclassifying a person: {round(p_wrong,4)}, does it match correct answer 0.0996??''\\n'\n",
    "    f'Probability of suffering from Thripshaw\\'s given positive test: {round(p_disease_positive,2)}''\\n'\n",
    "    f'Probability of not suffering from Thripshaw\\'s given negative test: {round(p_no_disease_negative,2)}'\n",
    "    )"
   ]
  },
  {
   "cell_type": "code",
   "execution_count": 3,
   "metadata": {},
   "outputs": [
    {
     "name": "stdout",
     "output_type": "stream",
     "text": [
      "0.09960000000000002\n"
     ]
    }
   ],
   "source": [
    "## from Seye\n",
    "## Probability of Missclassification \n",
    "# This gives the probability of a true positive\n",
    "probability_of_positive_result_given_disease_present = 0.98 * 0.005\n",
    "# This gives the probablity of a true negative\n",
    "probability_of_negative_result_given_disease_absent = 0.9 * 0.995\n",
    "# The sum of the probabilities above gives the probability of correct classification\n",
    "probability_of_correct_classification = probability_of_positive_result_given_disease_present + probability_of_negative_result_given_disease_absent\n",
    "# Therefore the probability of misclassification will be 1 minus the probability above\n",
    "probability_of_misclassication = 1 - probability_of_correct_classification\n",
    "print(probability_of_misclassication)"
   ]
  },
  {
   "cell_type": "code",
   "execution_count": 1,
   "metadata": {},
   "outputs": [
    {
     "name": "stdout",
     "output_type": "stream",
     "text": [
      "Probability of misclassifying a person: 0.12, why is correct answer 0.0996??\n",
      "\n"
     ]
    }
   ],
   "source": [
    "p_positive_disease = 0.98\n",
    "p_positive_no_disease = 0.1\n",
    "p_disease = 0.005\n",
    "\n",
    "p_negative_disease = 1 - p_positive_disease\n",
    "\n",
    "p_misclassification = p_positive_no_disease + p_negative_disease \n",
    "\n",
    "print(\n",
    "    f'Probability of misclassifying a person: {round(p_misclassification,4)}, why is correct answer 0.0996??''\\n'\n",
    "    )"
   ]
  },
  {
   "cell_type": "markdown",
   "metadata": {},
   "source": [
    "Were your intuitions on the mark, or way off? If your statistical intuition is leading you astray, you aren't alone. According to Nobel-prize winning Daniel Kahneman, humans simply are not good intuitive statisticians. That fact has two strong implications for you as you prepare for a career in data science:\n",
    "\n",
    "1. Just because your statistical intuition is wrong does not mean you're a bad statistician. We're all in this boat. Don't give up on yourself. And,\n",
    "2. Just because you easily intuit the answer to a statistical question does not mean you're right. Don't trust your intuition. Check your work."
   ]
  },
  {
   "cell_type": "markdown",
   "metadata": {},
   "source": [
    "# [Additional Baye's Exercise with Answers](http://stony.me/statistics-for-beginners-bayes-rule-4/)"
   ]
  },
  {
   "cell_type": "code",
   "execution_count": 18,
   "metadata": {},
   "outputs": [],
   "source": [
    "def bayes_rule(P_A, P_B, P_B_given_A):\n",
    "    \n",
    "    '''\n",
    "    Estimates the posterior P[A|B] from \n",
    "    prior P[A]\n",
    "    marginal likelihood P[B]\n",
    "    likelihood P[B|A]\n",
    "    '''\n",
    "    \n",
    "    return round(P_B_given_A * P_A / P_B, 3)"
   ]
  },
  {
   "cell_type": "code",
   "execution_count": 15,
   "metadata": {},
   "outputs": [],
   "source": [
    "def total_probability(prob, conditional_prob):\n",
    "    \n",
    "    '''\n",
    "    Estimates a P[B]\n",
    "    when provided a conditional P[B|A] and P[A]\n",
    "    '''\n",
    "    if type(prob) != list:\n",
    "        prob_complement = 1 - prob\n",
    "        conditional_prob_complement = 1 - conditional_prob\n",
    "        total_prob = conditional_prob*prob + conditional_prob_complement*prob_complement\n",
    "    else: #when list of conditionals and probabilities are given\n",
    "        total_prob = sum([prob[i]*conditional_prob[i] for i in range(len(prob))])\n",
    "    \n",
    "    return total_prob"
   ]
  },
  {
   "cell_type": "markdown",
   "metadata": {},
   "source": [
    "## 1. Aircraft emergency locator transmitter\n",
    "\n",
    "An aircraft emergency locator transmitter (ELT) is a device designed to transmit a signal in the case of a crash. The Altigauge Manufacturing Company makes 80% of the ELTs, the Bryant Company makes 15% of them, and the Chartair Company makes the other 5%. The ELTs made by Altigauge have a 4% rate of defects, the Bryant ELTs have a 6% rate of defects, and the Chartair ELTs have a 9% rate of defects (which helps to explain why Chartair has the lowest market share).\n",
    "\n",
    "1. If an ELT is randomly selected from the general population of all ELTs, find the probability that it was made by the Altigauge Manufacturing Company.\n",
    "2. If a randomly selected ELT is then tested and is found to be defective, find the probability that it was made by the Altigauge Manufacturing Company.\n"
   ]
  },
  {
   "cell_type": "code",
   "execution_count": 20,
   "metadata": {},
   "outputs": [
    {
     "name": "stdout",
     "output_type": "stream",
     "text": [
      "0.8\n",
      "0.703\n"
     ]
    }
   ],
   "source": [
    "#1 probability of AMC brand ELT\n",
    "p_AMC = 0.80\n",
    "print(p_AMC)\n",
    "\n",
    "#2 probability of AMC brand given defective ELT\n",
    "p_defect_given_AMC = 0.04\n",
    "p_defect = total_probability([.80,.15,.05],[.04,.06,.09])\n",
    "p_AMC_given_defect = bayes_rule(p_AMC, p_defect, p_defect_given_AMC)\n",
    "print(p_AMC_given_defect)"
   ]
  },
  {
   "cell_type": "markdown",
   "metadata": {},
   "source": [
    "## 2. Ingrowing toenail\n",
    "\n",
    "You go to see the doctor about an ingrowing toenail. The doctor selects you at random to have a blood test for swine flu, which for the purposes of this exercise we will say is currently suspected to affect 1 in 10,000 people in Australia. The test is 99% accurate, in the sense that the probability of a false positive is 1%. The probability of a false negative is zero. You test positive. What is the new probability that you have swine flu?\n",
    "\n",
    "Now imagine that you went to a friend’s wedding in Mexico recently, and (for the purposes of this exercise) it is know that 1 in 200 people who visited Mexico recently come back with swine flu. Given the same test result as above, what should your revised estimate be for the probability you have the disease?"
   ]
  },
  {
   "cell_type": "code",
   "execution_count": 22,
   "metadata": {},
   "outputs": [
    {
     "name": "stdout",
     "output_type": "stream",
     "text": [
      "0.01\n",
      "0.332\n"
     ]
    }
   ],
   "source": [
    "p_disease = 0.0001\n",
    "p_positive_given_disease = 0.99\n",
    "p_positive_given_no_disease = 0.01\n",
    "p_negative_given_disease = 0.00\n",
    "p_negative_given_no_disease = 1.00\n",
    "\n",
    "#probability of having swine flu given a positive test result\n",
    "p_positive = total_probability(p_disease, p_positive_given_disease)\n",
    "p_disease_given_positive = bayes_rule(p_disease, p_positive, p_positive_given_disease)\n",
    "print(p_disease_given_positive)\n",
    "\n",
    "#posibility of having swine flu given a positive test result and visit from Mexico\n",
    "p_disease_given_mexicotrip = 0.005\n",
    "p_disease = p_disease_given_mexicotrip   #why are we able to just transform the \n",
    "                                         #conditional probability as new probability_disease???? \n",
    "p_positive = total_probability(p_disease, p_positive_given_disease)\n",
    "p_disease_given_positive = bayes_rule(p_disease, p_positive, p_positive_given_disease)\n",
    "print(p_disease_given_positive)\n"
   ]
  },
  {
   "cell_type": "markdown",
   "metadata": {},
   "source": [
    "## 3. Trip to Las Vegas\n",
    "\n",
    "Imagine that, while in Mexico, you also took a side trip to Las Vegas, to pay homage to the TV show CSI. Late one night in a bar you meet a guy who claims to know that in the casino at the Tropicana there are two sorts of slot machines: one that pays out 10% of the time, and one that pays out 20% of the time [note these numbers may not be very realistic]. The two types of machines are coloured red and blue. The only problem is, the guy is so drunk he can’t quite remember which colour corresponds to which kind of machine. Unfortunately, that night the guy becomes the vic in the next CSI episode, so you are unable to ask him again when he’s sober\n",
    "\n",
    "Next day you go to the Tropicana to find out more. You find a red and a blue machine side by side. You toss a coin to decide which machine to try first; based on this you then put the coin into the red machine. It doesn’t pay out. How should you update your estimate of the probability that this is the machine you’re interested in? What if it had paid out - what would be your new estimate then?"
   ]
  },
  {
   "cell_type": "code",
   "execution_count": 27,
   "metadata": {},
   "outputs": [
    {
     "name": "stdout",
     "output_type": "stream",
     "text": [
      "0.667\n"
     ]
    }
   ],
   "source": [
    "p_A = 0.5\n",
    "p_B = 0.5\n",
    "\n",
    "#if machine had paid out\n",
    "#if machine had not paid out we get complements (ie 1 - P(win|A)) \n",
    "p_win_given_A = 0.2\n",
    "p_win_given_B = 0.1\n",
    "p_win = total_probability([p_A, p_B],[p_win_given_A, p_win_given_B])\n",
    "\n",
    "#we are interested in the machine that pays more\n",
    "p_A_given_win = bayes_rule(p_A, p_win, p_win_given_A)\n",
    "print(p_A_given_win)"
   ]
  },
  {
   "cell_type": "markdown",
   "metadata": {},
   "source": [
    "## 4. Genetic defects\n",
    "\n",
    "1% of people have a certain genetic defect.\n",
    "\n",
    "90% of tests for the gene detect the defect (true positives).\n",
    "\n",
    "9.6% of the tests are false positives.\n",
    "\n",
    "If a person gets a positive test result, what are the odds they actually have the genetic defect?"
   ]
  },
  {
   "cell_type": "code",
   "execution_count": 30,
   "metadata": {},
   "outputs": [
    {
     "name": "stdout",
     "output_type": "stream",
     "text": [
      "0.087\n"
     ]
    }
   ],
   "source": [
    "p_defect = 0.010\n",
    "p_no_defect = 1 - p_defect\n",
    "p_positive_given_defect = 0.900\n",
    "p_positive_given_no_defect = 0.096\n",
    "\n",
    "p_positive = total_probability([p_defect, p_no_defect], [p_positive_given_defect, p_positive_given_no_defect])\n",
    "p_defect_given_positive = bayes_rule(p_defect, p_positive, p_positive_given_defect)\n",
    "print(p_defect_given_positive)"
   ]
  },
  {
   "cell_type": "markdown",
   "metadata": {},
   "source": [
    "## 5. A test for cancer\n",
    "\n",
    "Given the following statistics, what is the probability that a woman has cancer if she has a positive mammogram result?\n",
    "\n",
    "   - One percent of women over 50 have breast cancer.\n",
    "   - Ninety percent of women who have breast cancer test positive on mammograms.\n",
    "   - Eight percent of women will have false positives."
   ]
  },
  {
   "cell_type": "code",
   "execution_count": 34,
   "metadata": {},
   "outputs": [
    {
     "name": "stdout",
     "output_type": "stream",
     "text": [
      "0.102\n"
     ]
    }
   ],
   "source": [
    "p_cancer = 0.010\n",
    "p_no_cancer = 1 - p_cancer\n",
    "p_positive_given_cancer = 0.900\n",
    "p_positive_given_no_cancer = 0.080\n",
    "\n",
    "p_positive = total_probability([p_cancer, p_no_cancer],[p_positive_given_cancer,p_positive_given_no_cancer])\n",
    "p_cancer_given_positive = bayes_rule(p_cancer, p_positive, p_positive_given_cancer)\n",
    "print(p_cancer_given_positive)"
   ]
  },
  {
   "cell_type": "code",
   "execution_count": null,
   "metadata": {},
   "outputs": [],
   "source": []
  }
 ],
 "metadata": {
  "kernelspec": {
   "display_name": "Python 3",
   "language": "python",
   "name": "python3"
  },
  "language_info": {
   "codemirror_mode": {
    "name": "ipython",
    "version": 3
   },
   "file_extension": ".py",
   "mimetype": "text/x-python",
   "name": "python",
   "nbconvert_exporter": "python",
   "pygments_lexer": "ipython3",
   "version": "3.7.3"
  },
  "latex_envs": {
   "LaTeX_envs_menu_present": true,
   "autoclose": false,
   "autocomplete": true,
   "bibliofile": "biblio.bib",
   "cite_by": "apalike",
   "current_citInitial": 1,
   "eqLabelWithNumbers": true,
   "eqNumInitial": 1,
   "hotkeys": {
    "equation": "Ctrl-E",
    "itemize": "Ctrl-I"
   },
   "labels_anchors": false,
   "latex_user_defs": false,
   "report_style_numbering": false,
   "user_envs_cfg": false
  }
 },
 "nbformat": 4,
 "nbformat_minor": 2
}
