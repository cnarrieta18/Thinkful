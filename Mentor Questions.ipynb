{
 "cells": [
  {
   "cell_type": "markdown",
   "metadata": {},
   "source": [
    "Hi Seye, maybe we can use this for practice with github process! (push, pull, merge, branches, etc.)\n",
    "\n",
    "I have it sorted so latest sessions come up first.  \n",
    "\n",
    "---\n",
    "You can find the Current/Upcoming Session at top.  Followed by:\n",
    "   - reminder check on questions from previous session \n",
    "   - hw entry (either from lecture or from previous session)\n",
    "   - *notes* and questions (??) from lectures I have gone over since our previous session \n",
    "---\n",
    "You can find the Previous Sessions right after in descending order (later ones at the bottom):\n",
    "   - for answered questions, I ended the line with [ANSWERED] and answer is in *italics* on a new line\n",
    "   - feel free to let me know if the answer I put in isn't good enough/shows I'm not completely understanding it"
   ]
  },
  {
   "cell_type": "markdown",
   "metadata": {},
   "source": [
    "---\n",
    "---\n",
    "# CURRENT/UPCOMING SESSION!"
   ]
  },
  {
   "cell_type": "markdown",
   "metadata": {},
   "source": [
    "### Any Unanswered Questions From Previous Session Below?"
   ]
  },
  {
   "cell_type": "markdown",
   "metadata": {},
   "source": [
    "---\n",
    "## [Insert Session Date]"
   ]
  },
  {
   "cell_type": "markdown",
   "metadata": {},
   "source": [
    "### HW"
   ]
  },
  {
   "cell_type": "markdown",
   "metadata": {},
   "source": [
    "**Codewars Area code**"
   ]
  },
  {
   "cell_type": "code",
   "execution_count": 76,
   "metadata": {},
   "outputs": [],
   "source": [
    "def area_code(text):\n",
    "    import re #wow I hate regex\n",
    "    \n",
    "    #extract strings inside parentheses\n",
    "    text_inside_parenthesis = re.findall('\\(([^)]+)',text)\n",
    "\n",
    "    #check for number string\n",
    "    for item in text_inside_parenthesis:\n",
    "        try: \n",
    "            int(item)\n",
    "            return item\n",
    "        except ValueError:\n",
    "            pass #if list item not a string"
   ]
  },
  {
   "cell_type": "code",
   "execution_count": 77,
   "metadata": {},
   "outputs": [
    {
     "data": {
      "text/plain": [
       "'555'"
      ]
     },
     "execution_count": 77,
     "metadata": {},
     "output_type": "execute_result"
    }
   ],
   "source": [
    "text = \"The 88 supplier's (phone) number is (555) 867-5309\"\n",
    "area_code(text)"
   ]
  },
  {
   "cell_type": "markdown",
   "metadata": {},
   "source": [
    "**Module Assignments**\n",
    "Let me know what I did well on, and where I missed and can improve on.  Thanks!\n",
    "\n",
    "- [See stats summary assignment.](https://github.com/cnarrieta18/Thinkful/blob/master/summary_stats_hw.ipynb)\n",
    "     \n",
    "- [See probability basics assignment.](https://github.com/cnarrieta18/Thinkful/blob/master/probability_basics_hw.ipynb) \n",
    "    - The very last problem I am getting a different probability.\n",
    "\n",
    "- [See evaluating data source assignment.](https://github.com/cnarrieta18/Thinkful/blob/master/evaluating_data_sources_hw.ipynb)"
   ]
  },
  {
   "cell_type": "markdown",
   "metadata": {},
   "source": [
    "### 6.5 Summary Statistics\n",
    "\n",
    "- ***Bias vs Unbias***\n",
    "    - what is population value **??** [ANSWERED] \n",
    "        - *when summary statistics are derived from the population not just sample/subset*\n",
    "    - *unbiased is when the estimates converge to population value. Estimates of sample variance divide by n - 1 (aka Bessel's correction) because dividing by n would underestimate the population variance, creating bias.*\n",
    "    \n",
    "- ***Variance is exciting!*** \n",
    "    - *how much variables differ from central tendency and from each other*\n",
    "\t- *highlights where some case/data points are different….good place to start asking “why is that?”* \n",
    "\t- *the average of the differences between x and mean is 0 (positives and negatives cancel out); this might explain the delta plot in previous hw*\n",
    "\t- *higher variance means higher error from actual mean*\n",
    "    - why square the difference over just getting absolute value **??** what is the mathematical advantage **??**\n",
    "    - why does dividing by n underestimate the population **??**\n",
    "\t- larger sample size can help with finding mean of high variance populations **??**\n",
    "\n",
    "- ***Standard Deviation***\n",
    "\t- what is it other than square root of variance **??** [ANSWERED]\n",
    "        - *while var. gives you a rough idea of spread, the standard deviation is more concrete, giving you exact distances from the mean*\n",
    "\t- `np.std(df['age'], ddof=1)` difference between population std (n) and sample std (n-1); when do we want which one **??** [ANSWERED]\n",
    "        - *Bessel's correction (n-1) when sample set is not too big that it is almost same size as population; when sample set is not too small that estimates are likely to be entirely off anyway.*\n",
    "\n",
    "- ***Standard Error***\n",
    "\t- *precision of sample mean estimate*\n",
    "\t- *aka margin of error*\n",
    "\n",
    "- **Central Limit Theory??**\n",
    "    - module 6.9 will cover this, but can you describe it in layman's terms?\n",
    "\t\n",
    "- ***Pandas***\n",
    "\t- *describe() and value_counts() for EDA*\n",
    "    \n",
    "- **anything missed in this module I should look into? (is this a big vague question?)**"
   ]
  },
  {
   "cell_type": "markdown",
   "metadata": {},
   "source": [
    "### 6.6 Basics of Probability\n",
    "\n",
    "***Frequentist vs Bayesian***\n",
    "- *fixed probability vs. continuously-adjusting probability*\n",
    "\n",
    "***Independent vs Dependent***\n",
    "- difference between independence and mutual exclusivity **??** [ANSWERED]\n",
    "    - *independent events do not affect each other's probability*\n",
    "    - *mutually exclusive event have 0 probability of happening together*\n",
    "\n",
    "***Baye's Rule and Conditional Probability***\n",
    "- I feel like there should be more covered on this...\n",
    "\n",
    "**Combinations and Permutations (not covered)**\n",
    "- I am still confused on when to apply which...\n",
    "\n",
    "**anything important missed in this module?** "
   ]
  },
  {
   "cell_type": "markdown",
   "metadata": {},
   "source": [
    "### 6.7 Evaluating Data Sources\n",
    "- what are your practices for checking quality of data **??**"
   ]
  },
  {
   "cell_type": "markdown",
   "metadata": {},
   "source": [
    "### 6.8 Data Distributions"
   ]
  },
  {
   "cell_type": "markdown",
   "metadata": {},
   "source": [
    "### Additional Resource...\n",
    "\n",
    "Hey Seye, I just saw this [online course](https://cdn.www.getsmarter.com/uploads/course/info_pack/125/mit_commercial_real_estate_analysis_and_investment_online_short_program_brochure.pdf) on real estate investment analysis.  I am interested in taking it along with the data science course to build domain knowledge and build my projects around the topic of real estate invesment.  It starts this Wednesday and they are still accepting enrollment.  The class is only 7-10 hours per week so I should be able to squeeze it in, I think.  Curious if you have thoughts on this."
   ]
  },
  {
   "cell_type": "markdown",
   "metadata": {},
   "source": [
    "---\n",
    "---\n",
    "# PREVIOUS SESSIONS"
   ]
  },
  {
   "cell_type": "markdown",
   "metadata": {},
   "source": [
    "---\n",
    "## Thursday, August 8"
   ]
  },
  {
   "cell_type": "markdown",
   "metadata": {},
   "source": [
    "### 6.2 Numpy And Pandas Basics\n",
    "\n",
    "**Pandas**:\n",
    "   - why do you need to import Numpy separately when Pandas is built on Numpy? [ANSWERED]\n",
    "   \n",
    "   *Pandas is a module.  It contains several functions that use* `import Numpy`, *but Numpy methods cannot be accessed directly from importing Pandas.*\n",
    "   \n",
    "   \n",
    "   - with dataframe filters, why is lambda considered more robust? [ANSWERED]\n",
    "    \n",
    "   *lambda allows for more complex filters. ex:*\n",
    "   \n",
    "   `df.loc[lambda df: df['column'] > 1 and df['column'] < 5, :]`"
   ]
  },
  {
   "cell_type": "markdown",
   "metadata": {},
   "source": [
    "### 6.3 Working With Files\n",
    "\n",
    "   - csv is **structured** vs. JSON and XML which are **semi-structured** [ANSWERED]\n",
    "   \n",
    "   *Each new line of csv file will have the same count of items separated by commas.* \n",
    "\n",
    "   *Whereas each new key-value pair of a JSON file may have different items under value*\n",
    "\n",
    "**JSON**: \n",
    "   - normalizing and requests; what are these, but more importantly, why are these important?\n",
    "\n",
    "**io.py**: `open()`, `close()`, `with`, `write()`, `readline()`, `readlines()`, mode; this is what was covered\n",
    "   - when is `open()` preferred over pandas read methods like `read_csv()`, `read_html()`, etc.?\n",
    "   - how important is this in the professional world?\n",
    "    \n",
    "**encoding issues**: \n",
    "   - have you had experience with this?  how did you know how to address the problem? (method, resources, etc)"
   ]
  },
  {
   "cell_type": "markdown",
   "metadata": {},
   "source": [
    "### 6.4 Plotting Basics\n",
    "\n",
    "- In the lecture, it was recommended to end with `plt.show()`.  My plots are showing fine without it.  Why is this the practice they're recommending?\n",
    "\n",
    "\n",
    "- There are 2 boxplots in the end of the lecture.  Compared to the first boxplot, the second boxplot is presented to show only fliers above.  The code provided shows the size argument inside `np.random.normal()` is different between the 2 boxplots.  I don't understand why this is resulting in no fliers below for the second boxplot.\n",
    "\n",
    "\n",
    "- In the paragraph just above the second boxplot, it states:\n",
    "\n",
    "    \"Then there are the whiskers above and below the box (these plots are sometimes called \"box and whisker plots\"). The whiskers will extend up and down up to a distance of 1.5x the IQR away from the top and bottom of the box. If all values are within that range, the whiskers will go to the max and min of the variable.\"\n",
    "\n",
    "    Is the last part saying: If there are no outliers, the whiskers represent the max and min values?  I think that's what it's saying.  I'm just having a brain fart right now.\n",
    "\n",
    "\n",
    "- [See plotting assignment.](https://github.com/cnarrieta18/Thinkful/blob/master/plotting_sample.ipynb)\n",
    "    Let me know what I did well on, and where I missed and can improve on.  Thanks!"
   ]
  },
  {
   "cell_type": "markdown",
   "metadata": {},
   "source": [
    "---\n",
    "## Tuesday, August 6\n",
    "\n",
    "### Resources\n",
    "\n",
    "NoSQL:"
   ]
  }
 ],
 "metadata": {
  "kernelspec": {
   "display_name": "Python 3",
   "language": "python",
   "name": "python3"
  },
  "language_info": {
   "codemirror_mode": {
    "name": "ipython",
    "version": 3
   },
   "file_extension": ".py",
   "mimetype": "text/x-python",
   "name": "python",
   "nbconvert_exporter": "python",
   "pygments_lexer": "ipython3",
   "version": "3.7.3"
  }
 },
 "nbformat": 4,
 "nbformat_minor": 2
}
