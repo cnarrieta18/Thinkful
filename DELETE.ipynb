{
 "cells": [
  {
   "cell_type": "code",
   "execution_count": null,
   "metadata": {},
   "outputs": [],
   "source": [
    "# what happens with variability?\n",
    "\n",
    "tvalues_plot=pd.DataFrame({'t':tvalues,\n",
    "                           'p':pvalues,\n",
    "                          'variability':variability*3,\n",
    "                          'size':np.repeat(sizes,3)})"
   ]
  },
  {
   "cell_type": "code",
   "execution_count": 5,
   "metadata": {},
   "outputs": [],
   "source": [
    "set1 = {'y1':5, 'y2':8, 's1':1, 's2':3, 'N1':200, 'N2':500}\n",
    "set2 = {'y1':1090, 'y2':999, 's1':400, 's2':30, 'N1':900, 'N2':100}\n",
    "set3 = {'y1':45, 'y2':40, 's1':45, 's2':40, 'N1':2000, 'N2':2000}"
   ]
  },
  {
   "cell_type": "code",
   "execution_count": 6,
   "metadata": {},
   "outputs": [],
   "source": [
    "def t_val(set):\n",
    "    delta_mean = set['y1'] - set['y2']\n",
    "    var_size = (((set['s1']**2)/(set['N1']))+((set['s2']**2)/(set['N2'])))**(1/2)\n",
    "    return delta_mean/var_size"
   ]
  },
  {
   "cell_type": "code",
   "execution_count": 11,
   "metadata": {},
   "outputs": [
    {
     "name": "stdout",
     "output_type": "stream",
     "text": [
      "-19.78141420187361\n",
      "6.658536585365854\n",
      "3.7139067635410377\n"
     ]
    }
   ],
   "source": [
    "print(t_val(set1))\n",
    "print(t_val(set2))\n",
    "print(t_val(set3))"
   ]
  },
  {
   "cell_type": "code",
   "execution_count": null,
   "metadata": {},
   "outputs": [],
   "source": []
  }
 ],
 "metadata": {
  "kernelspec": {
   "display_name": "Python 3",
   "language": "python",
   "name": "python3"
  },
  "language_info": {
   "codemirror_mode": {
    "name": "ipython",
    "version": 3
   },
   "file_extension": ".py",
   "mimetype": "text/x-python",
   "name": "python",
   "nbconvert_exporter": "python",
   "pygments_lexer": "ipython3",
   "version": "3.7.3"
  }
 },
 "nbformat": 4,
 "nbformat_minor": 2
}
