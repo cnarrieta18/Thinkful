{
 "cells": [
  {
   "cell_type": "code",
   "execution_count": 2,
   "metadata": {},
   "outputs": [],
   "source": [
    "import pandas as pd"
   ]
  },
  {
   "cell_type": "code",
   "execution_count": 3,
   "metadata": {},
   "outputs": [],
   "source": [
    "df = pd.read_csv('UNdata_Export_20190819_182923011.csv')"
   ]
  },
  {
   "cell_type": "code",
   "execution_count": 4,
   "metadata": {},
   "outputs": [
    {
     "data": {
      "text/html": [
       "<div>\n",
       "<style scoped>\n",
       "    .dataframe tbody tr th:only-of-type {\n",
       "        vertical-align: middle;\n",
       "    }\n",
       "\n",
       "    .dataframe tbody tr th {\n",
       "        vertical-align: top;\n",
       "    }\n",
       "\n",
       "    .dataframe thead th {\n",
       "        text-align: right;\n",
       "    }\n",
       "</style>\n",
       "<table border=\"1\" class=\"dataframe\">\n",
       "  <thead>\n",
       "    <tr style=\"text-align: right;\">\n",
       "      <th></th>\n",
       "      <th>Country or Area</th>\n",
       "      <th>Year</th>\n",
       "      <th>Commodity</th>\n",
       "      <th>Flow</th>\n",
       "      <th>Trade (USD)</th>\n",
       "      <th>Weight (kg)</th>\n",
       "      <th>Quantity Name</th>\n",
       "      <th>Quantity</th>\n",
       "    </tr>\n",
       "  </thead>\n",
       "  <tbody>\n",
       "    <tr>\n",
       "      <th>0</th>\n",
       "      <td>Afghanistan</td>\n",
       "      <td>2016</td>\n",
       "      <td>ALL COMMODITIES</td>\n",
       "      <td>Import</td>\n",
       "      <td>6.534140e+09</td>\n",
       "      <td>NaN</td>\n",
       "      <td>No Quantity</td>\n",
       "      <td>NaN</td>\n",
       "    </tr>\n",
       "    <tr>\n",
       "      <th>1</th>\n",
       "      <td>Afghanistan</td>\n",
       "      <td>2016</td>\n",
       "      <td>ALL COMMODITIES</td>\n",
       "      <td>Export</td>\n",
       "      <td>5.964553e+08</td>\n",
       "      <td>NaN</td>\n",
       "      <td>No Quantity</td>\n",
       "      <td>NaN</td>\n",
       "    </tr>\n",
       "    <tr>\n",
       "      <th>2</th>\n",
       "      <td>Afghanistan</td>\n",
       "      <td>2015</td>\n",
       "      <td>ALL COMMODITIES</td>\n",
       "      <td>Import</td>\n",
       "      <td>7.722865e+09</td>\n",
       "      <td>NaN</td>\n",
       "      <td>No Quantity</td>\n",
       "      <td>NaN</td>\n",
       "    </tr>\n",
       "    <tr>\n",
       "      <th>3</th>\n",
       "      <td>Afghanistan</td>\n",
       "      <td>2015</td>\n",
       "      <td>ALL COMMODITIES</td>\n",
       "      <td>Export</td>\n",
       "      <td>5.714050e+08</td>\n",
       "      <td>NaN</td>\n",
       "      <td>No Quantity</td>\n",
       "      <td>NaN</td>\n",
       "    </tr>\n",
       "    <tr>\n",
       "      <th>4</th>\n",
       "      <td>Afghanistan</td>\n",
       "      <td>2014</td>\n",
       "      <td>ALL COMMODITIES</td>\n",
       "      <td>Import</td>\n",
       "      <td>7.697178e+09</td>\n",
       "      <td>NaN</td>\n",
       "      <td>No Quantity</td>\n",
       "      <td>NaN</td>\n",
       "    </tr>\n",
       "  </tbody>\n",
       "</table>\n",
       "</div>"
      ],
      "text/plain": [
       "  Country or Area  Year        Commodity    Flow   Trade (USD)  Weight (kg)  \\\n",
       "0     Afghanistan  2016  ALL COMMODITIES  Import  6.534140e+09          NaN   \n",
       "1     Afghanistan  2016  ALL COMMODITIES  Export  5.964553e+08          NaN   \n",
       "2     Afghanistan  2015  ALL COMMODITIES  Import  7.722865e+09          NaN   \n",
       "3     Afghanistan  2015  ALL COMMODITIES  Export  5.714050e+08          NaN   \n",
       "4     Afghanistan  2014  ALL COMMODITIES  Import  7.697178e+09          NaN   \n",
       "\n",
       "  Quantity Name  Quantity  \n",
       "0   No Quantity       NaN  \n",
       "1   No Quantity       NaN  \n",
       "2   No Quantity       NaN  \n",
       "3   No Quantity       NaN  \n",
       "4   No Quantity       NaN  "
      ]
     },
     "execution_count": 4,
     "metadata": {},
     "output_type": "execute_result"
    }
   ],
   "source": [
    "df.head(5)"
   ]
  },
  {
   "cell_type": "code",
   "execution_count": 5,
   "metadata": {},
   "outputs": [
    {
     "data": {
      "text/plain": [
       "array([2016, 2015, 2014, 2013, 2012, 2011, 2010, 2009, 2008, 2017, 2007,\n",
       "       2006, 2005, 2004, 2003, 2002, 2001, 2000, 1999, 1998, 1997, 1996,\n",
       "       1995, 1994, 1993, 1992, 1991, 1990, 1989, 1988, 2018])"
      ]
     },
     "execution_count": 5,
     "metadata": {},
     "output_type": "execute_result"
    }
   ],
   "source": [
    "df['Year'].unique()"
   ]
  },
  {
   "cell_type": "code",
   "execution_count": 8,
   "metadata": {},
   "outputs": [
    {
     "data": {
      "text/plain": [
       "array(['Afghanistan', 'Albania', 'Algeria', 'Andorra', 'Angola',\n",
       "       'Anguilla', 'Antigua and Barbuda', 'Argentina', 'Armenia', 'Aruba',\n",
       "       'Australia', 'Austria', 'Azerbaijan', 'Bahamas', 'Bahrain',\n",
       "       'Bangladesh', 'Barbados', 'Belarus', 'Belgium',\n",
       "       'Belgium-Luxembourg', 'Belize', 'Benin', 'Bermuda', 'Bhutan',\n",
       "       'Bolivia (Plurinational State of)', 'Bosnia Herzegovina',\n",
       "       'Botswana', 'Brazil', 'Brunei Darussalam', 'Bulgaria',\n",
       "       'Burkina Faso', 'Burundi', 'Cabo Verde', 'Cambodia', 'Cameroon',\n",
       "       'Canada', 'Cayman Isds', 'Central African Rep.', 'Chad', 'Chile',\n",
       "       'China', 'China, Hong Kong SAR', 'China, Macao SAR', 'Colombia',\n",
       "       'Comoros', 'Congo', 'Cook Isds', 'Costa Rica', \"Côte d'Ivoire\",\n",
       "       'Croatia', 'Cuba', 'Cyprus', 'Czech Rep.', 'Denmark', 'Djibouti',\n",
       "       'Dominica', 'Dominican Rep.', 'Ecuador', 'Egypt', 'El Salvador',\n",
       "       'Eritrea', 'Estonia', 'Ethiopia', 'EU-28', 'Faeroe Isds', 'Fiji',\n",
       "       'Finland', 'Fmr Fed. Rep. of Germany', 'Fmr Sudan', 'France',\n",
       "       'French Guiana', 'French Polynesia', 'FS Micronesia', 'Gabon',\n",
       "       'Gambia', 'Georgia', 'Germany', 'Ghana', 'Greece', 'Greenland',\n",
       "       'Grenada', 'Guadeloupe', 'Guatemala', 'Guinea', 'Guinea-Bissau',\n",
       "       'Guyana', 'Haiti', 'Honduras', 'Hungary', 'Iceland', 'India',\n",
       "       'Indonesia', 'Iran', 'Iraq', 'Ireland', 'Israel', 'Italy',\n",
       "       'Jamaica', 'Japan', 'Jordan', 'Kazakhstan', 'Kenya', 'Kiribati',\n",
       "       'Kuwait', 'Kyrgyzstan', \"Lao People's Dem. Rep.\", 'Latvia',\n",
       "       'Lebanon', 'Lesotho', 'Libya', 'Lithuania', 'Luxembourg',\n",
       "       'Madagascar', 'Malawi', 'Malaysia', 'Maldives', 'Mali', 'Malta',\n",
       "       'Martinique', 'Mauritania', 'Mauritius', 'Mayotte', 'Mexico',\n",
       "       'Mongolia', 'Montenegro', 'Montserrat', 'Morocco', 'Mozambique',\n",
       "       'Myanmar', 'Namibia', 'Nepal', 'Neth. Antilles', 'Netherlands',\n",
       "       'New Caledonia', 'New Zealand', 'Nicaragua', 'Niger', 'Nigeria',\n",
       "       'Norway', 'Oman', 'Other Asia, nes', 'Pakistan', 'Palau', 'Panama',\n",
       "       'Papua New Guinea', 'Paraguay', 'Peru', 'Philippines', 'Poland',\n",
       "       'Portugal', 'Qatar', 'Rep. of Korea', 'Rep. of Moldova', 'Réunion',\n",
       "       'Romania', 'Russian Federation', 'Rwanda', 'Saint Kitts and Nevis',\n",
       "       'Saint Lucia', 'Saint Vincent and the Grenadines', 'Samoa',\n",
       "       'Sao Tome and Principe', 'Saudi Arabia', 'Senegal', 'Serbia',\n",
       "       'Serbia and Montenegro', 'Seychelles', 'Sierra Leone', 'Singapore',\n",
       "       'Slovakia', 'Slovenia', 'So. African Customs Union',\n",
       "       'Solomon Isds', 'South Africa', 'Spain', 'Sri Lanka',\n",
       "       'State of Palestine', 'Sudan', 'Suriname', 'Swaziland', 'Sweden',\n",
       "       'Switzerland', 'Syria', 'Tajikistan', 'TFYR of Macedonia',\n",
       "       'Thailand', 'Timor-Leste', 'Togo', 'Tonga', 'Trinidad and Tobago',\n",
       "       'Tunisia', 'Turkey', 'Turkmenistan', 'Turks and Caicos Isds',\n",
       "       'Tuvalu', 'Uganda', 'Ukraine', 'United Arab Emirates',\n",
       "       'United Kingdom', 'United Rep. of Tanzania', 'Uruguay', 'USA',\n",
       "       'Vanuatu', 'Venezuela', 'Viet Nam', 'Wallis and Futuna Isds',\n",
       "       'Yemen', 'Zambia', 'Zimbabwe'], dtype=object)"
      ]
     },
     "execution_count": 8,
     "metadata": {},
     "output_type": "execute_result"
    }
   ],
   "source": [
    "df['Country or Area'].unique()"
   ]
  },
  {
   "cell_type": "code",
   "execution_count": 16,
   "metadata": {},
   "outputs": [],
   "source": [
    "columns = df.columns"
   ]
  },
  {
   "cell_type": "code",
   "execution_count": 17,
   "metadata": {
    "scrolled": true
   },
   "outputs": [
    {
     "data": {
      "text/plain": [
       "['country or area',\n",
       " 'year',\n",
       " 'commodity',\n",
       " 'flow',\n",
       " 'trade (usd)',\n",
       " 'weight (kg)',\n",
       " 'quantity name',\n",
       " 'quantity']"
      ]
     },
     "execution_count": 17,
     "metadata": {},
     "output_type": "execute_result"
    }
   ],
   "source": [
    "columns = [column.lower() for column in columns]\n",
    "columns"
   ]
  },
  {
   "cell_type": "code",
   "execution_count": 18,
   "metadata": {},
   "outputs": [
    {
     "data": {
      "text/html": [
       "<div>\n",
       "<style scoped>\n",
       "    .dataframe tbody tr th:only-of-type {\n",
       "        vertical-align: middle;\n",
       "    }\n",
       "\n",
       "    .dataframe tbody tr th {\n",
       "        vertical-align: top;\n",
       "    }\n",
       "\n",
       "    .dataframe thead th {\n",
       "        text-align: right;\n",
       "    }\n",
       "</style>\n",
       "<table border=\"1\" class=\"dataframe\">\n",
       "  <thead>\n",
       "    <tr style=\"text-align: right;\">\n",
       "      <th></th>\n",
       "      <th>country or area</th>\n",
       "      <th>year</th>\n",
       "      <th>commodity</th>\n",
       "      <th>flow</th>\n",
       "      <th>trade (usd)</th>\n",
       "      <th>weight (kg)</th>\n",
       "      <th>quantity name</th>\n",
       "      <th>quantity</th>\n",
       "    </tr>\n",
       "  </thead>\n",
       "  <tbody>\n",
       "    <tr>\n",
       "      <th>0</th>\n",
       "      <td>Afghanistan</td>\n",
       "      <td>2016</td>\n",
       "      <td>ALL COMMODITIES</td>\n",
       "      <td>Import</td>\n",
       "      <td>6.534140e+09</td>\n",
       "      <td>NaN</td>\n",
       "      <td>No Quantity</td>\n",
       "      <td>NaN</td>\n",
       "    </tr>\n",
       "    <tr>\n",
       "      <th>1</th>\n",
       "      <td>Afghanistan</td>\n",
       "      <td>2016</td>\n",
       "      <td>ALL COMMODITIES</td>\n",
       "      <td>Export</td>\n",
       "      <td>5.964553e+08</td>\n",
       "      <td>NaN</td>\n",
       "      <td>No Quantity</td>\n",
       "      <td>NaN</td>\n",
       "    </tr>\n",
       "    <tr>\n",
       "      <th>2</th>\n",
       "      <td>Afghanistan</td>\n",
       "      <td>2015</td>\n",
       "      <td>ALL COMMODITIES</td>\n",
       "      <td>Import</td>\n",
       "      <td>7.722865e+09</td>\n",
       "      <td>NaN</td>\n",
       "      <td>No Quantity</td>\n",
       "      <td>NaN</td>\n",
       "    </tr>\n",
       "    <tr>\n",
       "      <th>3</th>\n",
       "      <td>Afghanistan</td>\n",
       "      <td>2015</td>\n",
       "      <td>ALL COMMODITIES</td>\n",
       "      <td>Export</td>\n",
       "      <td>5.714050e+08</td>\n",
       "      <td>NaN</td>\n",
       "      <td>No Quantity</td>\n",
       "      <td>NaN</td>\n",
       "    </tr>\n",
       "    <tr>\n",
       "      <th>4</th>\n",
       "      <td>Afghanistan</td>\n",
       "      <td>2014</td>\n",
       "      <td>ALL COMMODITIES</td>\n",
       "      <td>Import</td>\n",
       "      <td>7.697178e+09</td>\n",
       "      <td>NaN</td>\n",
       "      <td>No Quantity</td>\n",
       "      <td>NaN</td>\n",
       "    </tr>\n",
       "  </tbody>\n",
       "</table>\n",
       "</div>"
      ],
      "text/plain": [
       "  country or area  year        commodity    flow   trade (usd)  weight (kg)  \\\n",
       "0     Afghanistan  2016  ALL COMMODITIES  Import  6.534140e+09          NaN   \n",
       "1     Afghanistan  2016  ALL COMMODITIES  Export  5.964553e+08          NaN   \n",
       "2     Afghanistan  2015  ALL COMMODITIES  Import  7.722865e+09          NaN   \n",
       "3     Afghanistan  2015  ALL COMMODITIES  Export  5.714050e+08          NaN   \n",
       "4     Afghanistan  2014  ALL COMMODITIES  Import  7.697178e+09          NaN   \n",
       "\n",
       "  quantity name  quantity  \n",
       "0   No Quantity       NaN  \n",
       "1   No Quantity       NaN  \n",
       "2   No Quantity       NaN  \n",
       "3   No Quantity       NaN  \n",
       "4   No Quantity       NaN  "
      ]
     },
     "execution_count": 18,
     "metadata": {},
     "output_type": "execute_result"
    }
   ],
   "source": [
    "df.columns = columns\n",
    "df.head(5)"
   ]
  },
  {
   "cell_type": "code",
   "execution_count": 59,
   "metadata": {},
   "outputs": [
    {
     "name": "stdout",
     "output_type": "stream",
     "text": [
      "<class 'pandas.core.frame.DataFrame'>\n",
      "RangeIndex: 9781 entries, 0 to 9780\n",
      "Data columns (total 8 columns):\n",
      "Country or Area    9781 non-null object\n",
      "Year               9781 non-null int64\n",
      "Commodity          9781 non-null object\n",
      "Flow               9781 non-null object\n",
      "Trade (USD)        9781 non-null float64\n",
      "Weight (kg)        506 non-null float64\n",
      "Quantity Name      9781 non-null object\n",
      "Quantity           750 non-null float64\n",
      "dtypes: float64(3), int64(1), object(4)\n",
      "memory usage: 611.4+ KB\n"
     ]
    }
   ],
   "source": [
    "df.info()"
   ]
  },
  {
   "cell_type": "code",
   "execution_count": 61,
   "metadata": {},
   "outputs": [],
   "source": [
    "df = df.loc[:,['Country or Area', 'Year', 'Commodity', 'Flow', 'Trade (USD)']]"
   ]
  },
  {
   "cell_type": "code",
   "execution_count": 65,
   "metadata": {},
   "outputs": [],
   "source": [
    "trade_18 = df[df['Year'] == 2018]"
   ]
  },
  {
   "cell_type": "code",
   "execution_count": 10,
   "metadata": {},
   "outputs": [
    {
     "ename": "NameError",
     "evalue": "name 'trade_2018' is not defined",
     "output_type": "error",
     "traceback": [
      "\u001b[0;31m---------------------------------------------------------------------------\u001b[0m",
      "\u001b[0;31mNameError\u001b[0m                                 Traceback (most recent call last)",
      "\u001b[0;32m<ipython-input-10-6f9779ebd71d>\u001b[0m in \u001b[0;36m<module>\u001b[0;34m\u001b[0m\n\u001b[0;32m----> 1\u001b[0;31m \u001b[0mtrade_2018\u001b[0m\u001b[0;34m[\u001b[0m\u001b[0;34m'Country or Area'\u001b[0m\u001b[0;34m]\u001b[0m\u001b[0;34m.\u001b[0m\u001b[0munique\u001b[0m\u001b[0;34m(\u001b[0m\u001b[0;34m)\u001b[0m\u001b[0;34m\u001b[0m\u001b[0;34m\u001b[0m\u001b[0m\n\u001b[0m",
      "\u001b[0;31mNameError\u001b[0m: name 'trade_2018' is not defined"
     ]
    }
   ],
   "source": [
    "trade_2018['Country or Area'].unique()"
   ]
  },
  {
   "cell_type": "code",
   "execution_count": 67,
   "metadata": {},
   "outputs": [
    {
     "data": {
      "text/html": [
       "<div>\n",
       "<style scoped>\n",
       "    .dataframe tbody tr th:only-of-type {\n",
       "        vertical-align: middle;\n",
       "    }\n",
       "\n",
       "    .dataframe tbody tr th {\n",
       "        vertical-align: top;\n",
       "    }\n",
       "\n",
       "    .dataframe thead th {\n",
       "        text-align: right;\n",
       "    }\n",
       "</style>\n",
       "<table border=\"1\" class=\"dataframe\">\n",
       "  <thead>\n",
       "    <tr style=\"text-align: right;\">\n",
       "      <th></th>\n",
       "      <th>Country or Area</th>\n",
       "      <th>Year</th>\n",
       "      <th>Commodity</th>\n",
       "      <th>Flow</th>\n",
       "      <th>Trade (USD)</th>\n",
       "    </tr>\n",
       "  </thead>\n",
       "  <tbody>\n",
       "    <tr>\n",
       "      <th>0</th>\n",
       "      <td>Afghanistan</td>\n",
       "      <td>2016</td>\n",
       "      <td>ALL COMMODITIES</td>\n",
       "      <td>Import</td>\n",
       "      <td>6.534140e+09</td>\n",
       "    </tr>\n",
       "    <tr>\n",
       "      <th>1</th>\n",
       "      <td>Afghanistan</td>\n",
       "      <td>2016</td>\n",
       "      <td>ALL COMMODITIES</td>\n",
       "      <td>Export</td>\n",
       "      <td>5.964553e+08</td>\n",
       "    </tr>\n",
       "    <tr>\n",
       "      <th>2</th>\n",
       "      <td>Afghanistan</td>\n",
       "      <td>2015</td>\n",
       "      <td>ALL COMMODITIES</td>\n",
       "      <td>Import</td>\n",
       "      <td>7.722865e+09</td>\n",
       "    </tr>\n",
       "    <tr>\n",
       "      <th>3</th>\n",
       "      <td>Afghanistan</td>\n",
       "      <td>2015</td>\n",
       "      <td>ALL COMMODITIES</td>\n",
       "      <td>Export</td>\n",
       "      <td>5.714050e+08</td>\n",
       "    </tr>\n",
       "    <tr>\n",
       "      <th>4</th>\n",
       "      <td>Afghanistan</td>\n",
       "      <td>2014</td>\n",
       "      <td>ALL COMMODITIES</td>\n",
       "      <td>Import</td>\n",
       "      <td>7.697178e+09</td>\n",
       "    </tr>\n",
       "    <tr>\n",
       "      <th>5</th>\n",
       "      <td>Afghanistan</td>\n",
       "      <td>2014</td>\n",
       "      <td>ALL COMMODITIES</td>\n",
       "      <td>Export</td>\n",
       "      <td>5.705340e+08</td>\n",
       "    </tr>\n",
       "    <tr>\n",
       "      <th>6</th>\n",
       "      <td>Afghanistan</td>\n",
       "      <td>2013</td>\n",
       "      <td>ALL COMMODITIES</td>\n",
       "      <td>Import</td>\n",
       "      <td>8.554414e+09</td>\n",
       "    </tr>\n",
       "    <tr>\n",
       "      <th>7</th>\n",
       "      <td>Afghanistan</td>\n",
       "      <td>2013</td>\n",
       "      <td>ALL COMMODITIES</td>\n",
       "      <td>Export</td>\n",
       "      <td>5.149730e+08</td>\n",
       "    </tr>\n",
       "    <tr>\n",
       "      <th>8</th>\n",
       "      <td>Afghanistan</td>\n",
       "      <td>2012</td>\n",
       "      <td>ALL COMMODITIES</td>\n",
       "      <td>Import</td>\n",
       "      <td>6.204984e+09</td>\n",
       "    </tr>\n",
       "    <tr>\n",
       "      <th>9</th>\n",
       "      <td>Afghanistan</td>\n",
       "      <td>2012</td>\n",
       "      <td>ALL COMMODITIES</td>\n",
       "      <td>Export</td>\n",
       "      <td>4.289027e+08</td>\n",
       "    </tr>\n",
       "    <tr>\n",
       "      <th>10</th>\n",
       "      <td>Afghanistan</td>\n",
       "      <td>2011</td>\n",
       "      <td>ALL COMMODITIES</td>\n",
       "      <td>Import</td>\n",
       "      <td>6.390311e+09</td>\n",
       "    </tr>\n",
       "    <tr>\n",
       "      <th>11</th>\n",
       "      <td>Afghanistan</td>\n",
       "      <td>2011</td>\n",
       "      <td>ALL COMMODITIES</td>\n",
       "      <td>Export</td>\n",
       "      <td>3.758509e+08</td>\n",
       "    </tr>\n",
       "    <tr>\n",
       "      <th>12</th>\n",
       "      <td>Afghanistan</td>\n",
       "      <td>2010</td>\n",
       "      <td>ALL COMMODITIES</td>\n",
       "      <td>Import</td>\n",
       "      <td>5.154250e+09</td>\n",
       "    </tr>\n",
       "    <tr>\n",
       "      <th>13</th>\n",
       "      <td>Afghanistan</td>\n",
       "      <td>2010</td>\n",
       "      <td>ALL COMMODITIES</td>\n",
       "      <td>Export</td>\n",
       "      <td>3.884836e+08</td>\n",
       "    </tr>\n",
       "    <tr>\n",
       "      <th>14</th>\n",
       "      <td>Afghanistan</td>\n",
       "      <td>2009</td>\n",
       "      <td>ALL COMMODITIES</td>\n",
       "      <td>Import</td>\n",
       "      <td>3.336435e+09</td>\n",
       "    </tr>\n",
       "    <tr>\n",
       "      <th>15</th>\n",
       "      <td>Afghanistan</td>\n",
       "      <td>2009</td>\n",
       "      <td>ALL COMMODITIES</td>\n",
       "      <td>Export</td>\n",
       "      <td>4.034410e+08</td>\n",
       "    </tr>\n",
       "    <tr>\n",
       "      <th>16</th>\n",
       "      <td>Afghanistan</td>\n",
       "      <td>2008</td>\n",
       "      <td>ALL COMMODITIES</td>\n",
       "      <td>Import</td>\n",
       "      <td>3.019860e+09</td>\n",
       "    </tr>\n",
       "    <tr>\n",
       "      <th>17</th>\n",
       "      <td>Afghanistan</td>\n",
       "      <td>2008</td>\n",
       "      <td>ALL COMMODITIES</td>\n",
       "      <td>Export</td>\n",
       "      <td>5.400656e+08</td>\n",
       "    </tr>\n",
       "  </tbody>\n",
       "</table>\n",
       "</div>"
      ],
      "text/plain": [
       "   Country or Area  Year        Commodity    Flow   Trade (USD)\n",
       "0      Afghanistan  2016  ALL COMMODITIES  Import  6.534140e+09\n",
       "1      Afghanistan  2016  ALL COMMODITIES  Export  5.964553e+08\n",
       "2      Afghanistan  2015  ALL COMMODITIES  Import  7.722865e+09\n",
       "3      Afghanistan  2015  ALL COMMODITIES  Export  5.714050e+08\n",
       "4      Afghanistan  2014  ALL COMMODITIES  Import  7.697178e+09\n",
       "5      Afghanistan  2014  ALL COMMODITIES  Export  5.705340e+08\n",
       "6      Afghanistan  2013  ALL COMMODITIES  Import  8.554414e+09\n",
       "7      Afghanistan  2013  ALL COMMODITIES  Export  5.149730e+08\n",
       "8      Afghanistan  2012  ALL COMMODITIES  Import  6.204984e+09\n",
       "9      Afghanistan  2012  ALL COMMODITIES  Export  4.289027e+08\n",
       "10     Afghanistan  2011  ALL COMMODITIES  Import  6.390311e+09\n",
       "11     Afghanistan  2011  ALL COMMODITIES  Export  3.758509e+08\n",
       "12     Afghanistan  2010  ALL COMMODITIES  Import  5.154250e+09\n",
       "13     Afghanistan  2010  ALL COMMODITIES  Export  3.884836e+08\n",
       "14     Afghanistan  2009  ALL COMMODITIES  Import  3.336435e+09\n",
       "15     Afghanistan  2009  ALL COMMODITIES  Export  4.034410e+08\n",
       "16     Afghanistan  2008  ALL COMMODITIES  Import  3.019860e+09\n",
       "17     Afghanistan  2008  ALL COMMODITIES  Export  5.400656e+08"
      ]
     },
     "execution_count": 67,
     "metadata": {},
     "output_type": "execute_result"
    }
   ],
   "source": [
    "df[df['Country or Area'] == 'Afghanistan']"
   ]
  },
  {
   "cell_type": "code",
   "execution_count": 9,
   "metadata": {},
   "outputs": [
    {
     "data": {
      "text/plain": [
       "<pandas.core.groupby.generic.DataFrameGroupBy object at 0x11cef5908>"
      ]
     },
     "execution_count": 9,
     "metadata": {},
     "output_type": "execute_result"
    }
   ],
   "source": [
    "df.groupby(['Country or Area', 'Flow'])"
   ]
  },
  {
   "cell_type": "code",
   "execution_count": 70,
   "metadata": {},
   "outputs": [
    {
     "data": {
      "text/plain": [
       "Country or Area          Flow     \n",
       "Afghanistan              Export       4.877901e+08\n",
       "                         Import       6.068271e+09\n",
       "Albania                  Export       1.102133e+09\n",
       "                         Import       3.208874e+09\n",
       "                         Re-Export    6.089496e+08\n",
       "                         Re-Import    6.724883e+07\n",
       "Algeria                  Export       3.527966e+10\n",
       "                         Import       2.624501e+10\n",
       "                         Re-Import    8.060810e+05\n",
       "Andorra                  Export       9.110226e+07\n",
       "                         Import       1.405378e+09\n",
       "                         Re-Import    2.788370e+06\n",
       "Angola                   Export       5.426906e+10\n",
       "                         Import       2.186729e+10\n",
       "                         Re-Import    3.920000e+02\n",
       "Anguilla                 Export       6.803920e+06\n",
       "                         Import       1.394845e+08\n",
       "Antigua and Barbuda      Export       5.852358e+07\n",
       "                         Import       5.223066e+08\n",
       "                         Re-Export    5.531902e+07\n",
       "Argentina                Export       4.438551e+10\n",
       "                         Import       3.939279e+10\n",
       "                         Re-Import    3.181985e+07\n",
       "Armenia                  Export       9.975997e+08\n",
       "                         Import       2.597464e+09\n",
       "                         Re-Export    1.420257e+08\n",
       "                         Re-Import    8.952993e+06\n",
       "Aruba                    Export       1.199364e+08\n",
       "                         Import       1.075440e+09\n",
       "                         Re-Export    8.190823e+07\n",
       "                                          ...     \n",
       "United Kingdom           Import       4.990097e+11\n",
       "                         Re-Export    7.679699e+09\n",
       "                         Re-Import    5.061428e+09\n",
       "United Rep. of Tanzania  Export       2.752592e+09\n",
       "                         Import       5.739479e+09\n",
       "                         Re-Export    1.449989e+08\n",
       "                         Re-Import    9.982544e+07\n",
       "Uruguay                  Export       4.703674e+09\n",
       "                         Import       5.973113e+09\n",
       "                         Re-Import    2.290161e+07\n",
       "Vanuatu                  Export       3.243518e+07\n",
       "                         Import       1.798128e+08\n",
       "                         Re-Import    2.456160e+05\n",
       "Venezuela                Export       4.536041e+10\n",
       "                         Import       2.499898e+10\n",
       "                         Re-Export    9.813520e+07\n",
       "                         Re-Import    1.564800e+08\n",
       "Viet Nam                 Export       8.072812e+10\n",
       "                         Import       8.572856e+10\n",
       "Wallis and Futuna Isds   Import       4.423441e+07\n",
       "Yemen                    Export       5.581640e+09\n",
       "                         Import       8.845478e+09\n",
       "                         Re-Export    2.220523e+08\n",
       "                         Re-Import    4.505609e+07\n",
       "Zambia                   Export       4.358314e+09\n",
       "                         Import       4.233917e+09\n",
       "                         Re-Export    2.757621e+08\n",
       "Zimbabwe                 Export       2.867999e+09\n",
       "                         Import       4.545600e+09\n",
       "                         Re-Export    8.562136e+07\n",
       "Name: Trade (USD), Length: 622, dtype: float64"
      ]
     },
     "execution_count": 70,
     "metadata": {},
     "output_type": "execute_result"
    }
   ],
   "source": [
    "df.groupby(['Country or Area', 'Flow'])['Trade (USD)'].mean()"
   ]
  },
  {
   "cell_type": "code",
   "execution_count": 11,
   "metadata": {},
   "outputs": [],
   "source": [
    "trade_17 = df[df['Year'] == 2017]"
   ]
  },
  {
   "cell_type": "code",
   "execution_count": 13,
   "metadata": {},
   "outputs": [
    {
     "name": "stderr",
     "output_type": "stream",
     "text": [
      "/anaconda3/lib/python3.7/site-packages/ipykernel_launcher.py:1: DeprecationWarning: elementwise comparison failed; this will raise an error in the future.\n",
      "  \"\"\"Entry point for launching an IPython kernel.\n"
     ]
    },
    {
     "data": {
      "text/plain": [
       "False"
      ]
     },
     "execution_count": 13,
     "metadata": {},
     "output_type": "execute_result"
    }
   ],
   "source": [
    "trade_17['Country or Area'].unique() == df['Country or Area'].unique()"
   ]
  },
  {
   "cell_type": "code",
   "execution_count": null,
   "metadata": {},
   "outputs": [],
   "source": []
  }
 ],
 "metadata": {
  "kernelspec": {
   "display_name": "Python 3",
   "language": "python",
   "name": "python3"
  },
  "language_info": {
   "codemirror_mode": {
    "name": "ipython",
    "version": 3
   },
   "file_extension": ".py",
   "mimetype": "text/x-python",
   "name": "python",
   "nbconvert_exporter": "python",
   "pygments_lexer": "ipython3",
   "version": "3.7.3"
  }
 },
 "nbformat": 4,
 "nbformat_minor": 2
}
