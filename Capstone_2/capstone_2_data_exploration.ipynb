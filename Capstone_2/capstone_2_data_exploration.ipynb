{
 "cells": [
  {
   "cell_type": "code",
   "execution_count": 1,
   "metadata": {},
   "outputs": [],
   "source": [
    "import pandas as pd\n",
    "import numpy as np\n",
    "import matplotlib.pyplot as plt\n",
    "import seaborn as sns"
   ]
  },
  {
   "cell_type": "code",
   "execution_count": 2,
   "metadata": {},
   "outputs": [],
   "source": [
    "pd.set_option('display.max_columns', None)\n",
    "pd.set_option('display.max_rows', None)\n",
    "pd.set_option('display.precision', 3) #data output display settings"
   ]
  },
  {
   "cell_type": "code",
   "execution_count": 4,
   "metadata": {},
   "outputs": [],
   "source": [
    "berkeley_business = pd.read_csv('berkeley_business_eda.csv')"
   ]
  },
  {
   "cell_type": "code",
   "execution_count": 5,
   "metadata": {},
   "outputs": [
    {
     "data": {
      "text/html": [
       "<div>\n",
       "<style scoped>\n",
       "    .dataframe tbody tr th:only-of-type {\n",
       "        vertical-align: middle;\n",
       "    }\n",
       "\n",
       "    .dataframe tbody tr th {\n",
       "        vertical-align: top;\n",
       "    }\n",
       "\n",
       "    .dataframe thead th {\n",
       "        text-align: right;\n",
       "    }\n",
       "</style>\n",
       "<table border=\"1\" class=\"dataframe\">\n",
       "  <thead>\n",
       "    <tr style=\"text-align: right;\">\n",
       "      <th></th>\n",
       "      <th>APN</th>\n",
       "      <th>MINORITY_OWNED</th>\n",
       "      <th>FEMALE_OWNED</th>\n",
       "      <th>RECORDID</th>\n",
       "      <th>BUSDESC</th>\n",
       "      <th>B1_PER_SUB_TYPE</th>\n",
       "      <th>DBA</th>\n",
       "      <th>NAICS</th>\n",
       "      <th>TAX_CODE</th>\n",
       "      <th>EMPLOYEE_NUM</th>\n",
       "      <th>BUS_OWN_TYPE</th>\n",
       "      <th>B1_STATE</th>\n",
       "      <th>B1_FULL_ADDRESS</th>\n",
       "      <th>B1_SITUS_STATE</th>\n",
       "    </tr>\n",
       "  </thead>\n",
       "  <tbody>\n",
       "    <tr>\n",
       "      <th>0</th>\n",
       "      <td>ZZZZZZZZZZZZZ</td>\n",
       "      <td>Yes</td>\n",
       "      <td>No</td>\n",
       "      <td>BL-000058</td>\n",
       "      <td>PLUMBING CONTRACTOR</td>\n",
       "      <td>Construction or Contractor</td>\n",
       "      <td>BAY PLUMBING &amp; ROOTER</td>\n",
       "      <td>238220 - Plumbing, Heating, and Air-Conditioni...</td>\n",
       "      <td>C</td>\n",
       "      <td>0.0</td>\n",
       "      <td>Sole Ownership</td>\n",
       "      <td>CA</td>\n",
       "      <td>0 VARIOUS</td>\n",
       "      <td>CA</td>\n",
       "    </tr>\n",
       "    <tr>\n",
       "      <th>1</th>\n",
       "      <td>NaN</td>\n",
       "      <td>NaN</td>\n",
       "      <td>NaN</td>\n",
       "      <td>BL-009497</td>\n",
       "      <td>OUT CALL MASSAGE SERVICES</td>\n",
       "      <td>Massage</td>\n",
       "      <td>WILSON ROBIN A</td>\n",
       "      <td>812199 - Other Personal Care Services</td>\n",
       "      <td>BM</td>\n",
       "      <td>1.0</td>\n",
       "      <td>Sole Ownership</td>\n",
       "      <td>CA</td>\n",
       "      <td>0 VARIOUS</td>\n",
       "      <td>CA</td>\n",
       "    </tr>\n",
       "    <tr>\n",
       "      <th>2</th>\n",
       "      <td>NaN</td>\n",
       "      <td>NaN</td>\n",
       "      <td>NaN</td>\n",
       "      <td>BL-004830</td>\n",
       "      <td>CONSTRUCTION</td>\n",
       "      <td>Construction or Contractor</td>\n",
       "      <td>VANIR CONSTRUCTORS LLC</td>\n",
       "      <td>236118 - Residential Remodelers</td>\n",
       "      <td>C</td>\n",
       "      <td>0.0</td>\n",
       "      <td>LLC</td>\n",
       "      <td>CA</td>\n",
       "      <td>0 VARIOUS</td>\n",
       "      <td>CA</td>\n",
       "    </tr>\n",
       "    <tr>\n",
       "      <th>3</th>\n",
       "      <td>ZZZZZZZZZZZZZ</td>\n",
       "      <td>NaN</td>\n",
       "      <td>NaN</td>\n",
       "      <td>BL-012442</td>\n",
       "      <td>GENERAL CONTRACTOR</td>\n",
       "      <td>Construction or Contractor</td>\n",
       "      <td>FLOW BUILDER</td>\n",
       "      <td>236115 - New Single-Family Housing Constructio...</td>\n",
       "      <td>C</td>\n",
       "      <td>0.0</td>\n",
       "      <td>Sole Ownership</td>\n",
       "      <td>CA</td>\n",
       "      <td>0 VARIOUS</td>\n",
       "      <td>CA</td>\n",
       "    </tr>\n",
       "    <tr>\n",
       "      <th>4</th>\n",
       "      <td>NaN</td>\n",
       "      <td>No</td>\n",
       "      <td>No</td>\n",
       "      <td>BL-003956</td>\n",
       "      <td>REPAIR &amp; SELL OFFICE MACHINES</td>\n",
       "      <td>Business Personal Repair Svs</td>\n",
       "      <td>NUANCE COMMUNICATIONS</td>\n",
       "      <td>811212 - Computer and Office Machine Repair an...</td>\n",
       "      <td>B</td>\n",
       "      <td>0.0</td>\n",
       "      <td>Corporation</td>\n",
       "      <td>MA</td>\n",
       "      <td>0   VARIOUS</td>\n",
       "      <td>CA</td>\n",
       "    </tr>\n",
       "  </tbody>\n",
       "</table>\n",
       "</div>"
      ],
      "text/plain": [
       "             APN MINORITY_OWNED FEMALE_OWNED   RECORDID  \\\n",
       "0  ZZZZZZZZZZZZZ            Yes           No  BL-000058   \n",
       "1            NaN            NaN          NaN  BL-009497   \n",
       "2            NaN            NaN          NaN  BL-004830   \n",
       "3  ZZZZZZZZZZZZZ            NaN          NaN  BL-012442   \n",
       "4            NaN             No           No  BL-003956   \n",
       "\n",
       "                         BUSDESC               B1_PER_SUB_TYPE  \\\n",
       "0            PLUMBING CONTRACTOR    Construction or Contractor   \n",
       "1      OUT CALL MASSAGE SERVICES                       Massage   \n",
       "2                   CONSTRUCTION    Construction or Contractor   \n",
       "3             GENERAL CONTRACTOR    Construction or Contractor   \n",
       "4  REPAIR & SELL OFFICE MACHINES  Business Personal Repair Svs   \n",
       "\n",
       "                      DBA                                              NAICS  \\\n",
       "0   BAY PLUMBING & ROOTER  238220 - Plumbing, Heating, and Air-Conditioni...   \n",
       "1          WILSON ROBIN A              812199 - Other Personal Care Services   \n",
       "2  VANIR CONSTRUCTORS LLC                    236118 - Residential Remodelers   \n",
       "3            FLOW BUILDER  236115 - New Single-Family Housing Constructio...   \n",
       "4   NUANCE COMMUNICATIONS  811212 - Computer and Office Machine Repair an...   \n",
       "\n",
       "  TAX_CODE  EMPLOYEE_NUM    BUS_OWN_TYPE B1_STATE B1_FULL_ADDRESS  \\\n",
       "0        C           0.0  Sole Ownership       CA       0 VARIOUS   \n",
       "1       BM           1.0  Sole Ownership       CA       0 VARIOUS   \n",
       "2        C           0.0             LLC       CA       0 VARIOUS   \n",
       "3        C           0.0  Sole Ownership       CA       0 VARIOUS   \n",
       "4        B           0.0     Corporation       MA     0   VARIOUS   \n",
       "\n",
       "  B1_SITUS_STATE  \n",
       "0             CA  \n",
       "1             CA  \n",
       "2             CA  \n",
       "3             CA  \n",
       "4             CA  "
      ]
     },
     "execution_count": 5,
     "metadata": {},
     "output_type": "execute_result"
    }
   ],
   "source": [
    "berkeley_business.head(5)"
   ]
  },
  {
   "cell_type": "code",
   "execution_count": 7,
   "metadata": {},
   "outputs": [
    {
     "data": {
      "image/png": "[encoded data removed]",
      "text/plain": [
       "<Figure size 432x288 with 1 Axes>"
      ]
     },
     "metadata": {
      "needs_background": "light"
     },
     "output_type": "display_data"
    }
   ],
   "source": [
    "#visualize null entries\n",
    "\n",
    "sns.heatmap(berkeley_business.isnull(), cbar=False);"
   ]
  },
  {
   "cell_type": "markdown",
   "metadata": {},
   "source": [
    "### Relationships between columns with null (APN, MINORITY_OWNED, and FEMALE_OWNED)"
   ]
  },
  {
   "cell_type": "code",
   "execution_count": 8,
   "metadata": {},
   "outputs": [
    {
     "data": {
      "text/plain": [
       "1893"
      ]
     },
     "execution_count": 8,
     "metadata": {},
     "output_type": "execute_result"
    }
   ],
   "source": [
    "# number of null APN entries where minority and female owned entries are also null\n",
    "\n",
    "len(berkeley_business[berkeley_business['APN'].isnull() & berkeley_business['MINORITY_OWNED'].isnull() & berkeley_business['FEMALE_OWNED'].isnull()])"
   ]
  },
  {
   "cell_type": "code",
   "execution_count": 9,
   "metadata": {
    "scrolled": true
   },
   "outputs": [
    {
     "name": "stdout",
     "output_type": "stream",
     "text": [
      "1004\n",
      "No     808\n",
      "Yes    196\n",
      "Name: MINORITY_OWNED, dtype: int64\n",
      "No     789\n",
      "Yes    215\n",
      "Name: FEMALE_OWNED, dtype: int64\n"
     ]
    }
   ],
   "source": [
    "# number of null APN entries where minority and female owned entries are not null\n",
    "print(len(berkeley_business[berkeley_business['APN'].isnull() & berkeley_business['MINORITY_OWNED'].notnull() & berkeley_business['FEMALE_OWNED'].notnull()]))\n",
    "\n",
    "print(berkeley_business[berkeley_business['APN'].isnull() & berkeley_business['MINORITY_OWNED'].notnull() & berkeley_business['FEMALE_OWNED'].notnull()]['MINORITY_OWNED'].value_counts())\n",
    "\n",
    "print(berkeley_business[berkeley_business['APN'].isnull() & berkeley_business['MINORITY_OWNED'].notnull() & berkeley_business['FEMALE_OWNED'].notnull()]['FEMALE_OWNED'].value_counts())\n"
   ]
  },
  {
   "cell_type": "code",
   "execution_count": 10,
   "metadata": {},
   "outputs": [
    {
     "data": {
      "text/plain": [
       "No     13\n",
       "Yes     6\n",
       "Name: FEMALE_OWNED, dtype: int64"
      ]
     },
     "execution_count": 10,
     "metadata": {},
     "output_type": "execute_result"
    }
   ],
   "source": [
    "# number of null APN entries where minority is null and female is not null\n",
    "\n",
    "berkeley_business[berkeley_business['APN'].isnull() & berkeley_business['MINORITY_OWNED'].isnull() & berkeley_business['FEMALE_OWNED'].notnull()]['FEMALE_OWNED'].value_counts()"
   ]
  },
  {
   "cell_type": "code",
   "execution_count": 11,
   "metadata": {},
   "outputs": [
    {
     "name": "stdout",
     "output_type": "stream",
     "text": [
      "No     4\n",
      "Yes    3\n",
      "Name: MINORITY_OWNED, dtype: int64\n"
     ]
    }
   ],
   "source": [
    "# number of null APN entries where minority is not null and female is null\n",
    "\n",
    "print(berkeley_business[berkeley_business['APN'].isnull() & berkeley_business['MINORITY_OWNED'].notnull() & berkeley_business['FEMALE_OWNED'].isnull()]['MINORITY_OWNED'].value_counts())\n"
   ]
  },
  {
   "cell_type": "code",
   "execution_count": 12,
   "metadata": {},
   "outputs": [
    {
     "name": "stdout",
     "output_type": "stream",
     "text": [
      "No     7099\n",
      "Yes    2388\n",
      "Name: MINORITY_OWNED, dtype: int64\n",
      "No     6359\n",
      "Yes    3216\n",
      "Name: FEMALE_OWNED, dtype: int64\n"
     ]
    }
   ],
   "source": [
    "print(berkeley_business['MINORITY_OWNED'].value_counts())\n",
    "print(berkeley_business['FEMALE_OWNED'].value_counts())"
   ]
  },
  {
   "cell_type": "markdown",
   "metadata": {},
   "source": [
    "### Relationship between APN and other complete (no null) columns"
   ]
  },
  {
   "cell_type": "code",
   "execution_count": 22,
   "metadata": {},
   "outputs": [
    {
     "data": {
      "text/plain": [
       "Construction or Contractor       1556\n",
       "Professional SemiProfessional     421\n",
       "Business Personal Repair Svs      264\n",
       "Rental of Real Property           252\n",
       "Retail Trade                      200\n",
       "Non Profit Organizations           79\n",
       "Entertainment Recreation           51\n",
       "Manufacturing                      43\n",
       "Wholesale Trade                    23\n",
       "Auto Vehicle For Hire              17\n",
       "Massage                             8\n",
       "Administrative Headquarters         4\n",
       "Grocer                              3\n",
       "Solicitor                           1\n",
       "Motor Vehicle Sales                 1\n",
       "Name: B1_PER_SUB_TYPE, dtype: int64"
      ]
     },
     "execution_count": 22,
     "metadata": {},
     "output_type": "execute_result"
    }
   ],
   "source": [
    "berkeley_business[berkeley_business['APN'].isnull()]['B1_PER_SUB_TYPE'].value_counts()"
   ]
  },
  {
   "cell_type": "code",
   "execution_count": 15,
   "metadata": {},
   "outputs": [
    {
     "data": {
      "text/plain": [
       "C     1559\n",
       "P      422\n",
       "B      259\n",
       "L      252\n",
       "R      200\n",
       "N       79\n",
       "E       51\n",
       "M       44\n",
       "W       23\n",
       "A       17\n",
       "BM       8\n",
       "Q        4\n",
       "G        3\n",
       "S        1\n",
       "V        1\n",
       "Name: TAX_CODE, dtype: int64"
      ]
     },
     "execution_count": 15,
     "metadata": {},
     "output_type": "execute_result"
    }
   ],
   "source": [
    "berkeley_business[berkeley_business['APN'].isnull()]['TAX_CODE'].value_counts()"
   ]
  },
  {
   "cell_type": "code",
   "execution_count": 23,
   "metadata": {},
   "outputs": [
    {
     "data": {
      "text/plain": [
       "0.0     896\n",
       "1.0     451\n",
       "2.0     335\n",
       "3.0     186\n",
       "4.0     173\n",
       "5.0     122\n",
       "6.0      83\n",
       "10.0     82\n",
       "8.0      62\n",
       "15.0     39\n",
       "20.0     36\n",
       "12.0     33\n",
       "7.0      31\n",
       "9.0      26\n",
       "25.0     20\n",
       "30.0     19\n",
       "16.0     18\n",
       "17.0     15\n",
       "50.0     14\n",
       "13.0     14\n",
       "Name: EMPLOYEE_NUM, dtype: int64"
      ]
     },
     "execution_count": 23,
     "metadata": {},
     "output_type": "execute_result"
    }
   ],
   "source": [
    "berkeley_business[berkeley_business['APN'].isnull()]['EMPLOYEE_NUM'].value_counts().head(20)"
   ]
  },
  {
   "cell_type": "code",
   "execution_count": 17,
   "metadata": {},
   "outputs": [
    {
     "data": {
      "text/plain": [
       "Corporation       1482\n",
       "Sole Ownership    1040\n",
       "LLC                280\n",
       "Partnership        121\n",
       "Name: BUS_OWN_TYPE, dtype: int64"
      ]
     },
     "execution_count": 17,
     "metadata": {},
     "output_type": "execute_result"
    }
   ],
   "source": [
    "berkeley_business[berkeley_business['APN'].isnull()]['BUS_OWN_TYPE'].value_counts()"
   ]
  },
  {
   "cell_type": "code",
   "execution_count": 24,
   "metadata": {},
   "outputs": [
    {
     "data": {
      "text/plain": [
       "0 VARIOUS                 1981\n",
       "0   VARIOUS                229\n",
       "2703 SEVENTH ST              3\n",
       "2801   ADELINE ST            3\n",
       "134   BERKELEY SQ            2\n",
       "2525 EIGHTH ST               2\n",
       "1440 FOURTH ST B             2\n",
       "1301   SHATTUCK AVE          2\n",
       "2300   WARRING ST            2\n",
       "729   HEINZ AVE              2\n",
       "919   THE ALAMEDA            2\n",
       "2310   TELEGRAPH AVE         2\n",
       "1255 EASTSHORE HWY           2\n",
       "2369   TELEGRAPH AVE         2\n",
       "2421   FOURTH ST             2\n",
       "2915 PINE AVE                2\n",
       "2213   SAN PABLO AVE A       1\n",
       "2231 CEDAR ST                1\n",
       "2739 CHANNING WAY            1\n",
       "2919 ACTON ST                1\n",
       "Name: B1_FULL_ADDRESS, dtype: int64"
      ]
     },
     "execution_count": 24,
     "metadata": {},
     "output_type": "execute_result"
    }
   ],
   "source": [
    "berkeley_business[berkeley_business['APN'].isnull()]['B1_FULL_ADDRESS'].value_counts().head(20)"
   ]
  },
  {
   "cell_type": "markdown",
   "metadata": {},
   "source": [
    "### Relationship between MINORITY_OWNED and other complete (no null) columns"
   ]
  },
  {
   "cell_type": "code",
   "execution_count": 27,
   "metadata": {},
   "outputs": [
    {
     "data": {
      "text/plain": [
       "Construction or Contractor       2739\n",
       "Professional SemiProfessional    1625\n",
       "Retail Trade                      752\n",
       "Business Personal Repair Svs      713\n",
       "Rental of Real Property           653\n",
       "Entertainment Recreation          197\n",
       "Non Profit Organizations          172\n",
       "Manufacturing                      71\n",
       "Wholesale Trade                    63\n",
       "Massage                            49\n",
       "Administrative Headquarters        40\n",
       "Grocer                              6\n",
       "Motor Vehicle Sales                 3\n",
       "Auto Vehicle For Hire               1\n",
       "Food Vendors                        1\n",
       "Street Vendors                      1\n",
       "Name: B1_PER_SUB_TYPE, dtype: int64"
      ]
     },
     "execution_count": 27,
     "metadata": {},
     "output_type": "execute_result"
    }
   ],
   "source": [
    "berkeley_business[berkeley_business['MINORITY_OWNED'].isnull()]['B1_PER_SUB_TYPE'].value_counts()"
   ]
  },
  {
   "cell_type": "code",
   "execution_count": 20,
   "metadata": {},
   "outputs": [
    {
     "data": {
      "text/plain": [
       "B1_PER_SUB_TYPE                MINORITY_OWNED\n",
       "Administrative Headquarters    No                  48\n",
       "                               Yes                  3\n",
       "Auto Vehicle For Hire          Yes                 57\n",
       "Business Personal Repair Svs   No                 574\n",
       "                               Yes                255\n",
       "Construction or Contractor     No                1442\n",
       "                               Yes                281\n",
       "Entertainment Recreation       No                 121\n",
       "                               Yes                 33\n",
       "Grocer                         No                  14\n",
       "                               Yes                 13\n",
       "Manufacturing                  No                 210\n",
       "                               Yes                 28\n",
       "Massage                        No                  24\n",
       "                               Yes                  9\n",
       "Motor Vehicle Sales            No                   8\n",
       "Non Profit Organizations       No                 426\n",
       "                               Yes                 44\n",
       "Professional SemiProfessional  No                1625\n",
       "                               Yes                316\n",
       "Rental of Real Property        No                1894\n",
       "                               Yes                977\n",
       "Retail Trade                   No                 600\n",
       "                               Yes                349\n",
       "Solicitor                      Yes                  1\n",
       "Wholesale Trade                No                 113\n",
       "                               Yes                 22\n",
       "Name: MINORITY_OWNED, dtype: int64"
      ]
     },
     "execution_count": 20,
     "metadata": {},
     "output_type": "execute_result"
    }
   ],
   "source": [
    "berkeley_business.groupby('B1_PER_SUB_TYPE')['MINORITY_OWNED'].value_counts()"
   ]
  },
  {
   "cell_type": "code",
   "execution_count": 10,
   "metadata": {},
   "outputs": [
    {
     "data": {
      "text/plain": [
       "<matplotlib.axes._subplots.AxesSubplot at 0x1a18e9b3c8>"
      ]
     },
     "execution_count": 10,
     "metadata": {},
     "output_type": "execute_result"
    },
    {
     "data": {
      "image/png": "[encoded data removed]",
      "text/plain": [
       "<Figure size 432x288 with 1 Axes>"
      ]
     },
     "metadata": {
      "needs_background": "light"
     },
     "output_type": "display_data"
    }
   ],
   "source": [
    "berkeley_business['MINORITY_OWNED'].value_counts(dropna=False).plot(kind='bar')"
   ]
  },
  {
   "cell_type": "code",
   "execution_count": 9,
   "metadata": {},
   "outputs": [
    {
     "data": {
      "text/plain": [
       "No     7099\n",
       "NaN    7086\n",
       "Yes    2388\n",
       "Name: MINORITY_OWNED, dtype: int64"
      ]
     },
     "execution_count": 9,
     "metadata": {},
     "output_type": "execute_result"
    }
   ],
   "source": [
    "berkeley_business['MINORITY_OWNED'].value_counts(dropna=False)"
   ]
  },
  {
   "cell_type": "code",
   "execution_count": 11,
   "metadata": {},
   "outputs": [
    {
     "ename": "TypeError",
     "evalue": "ufunc 'isnan' not supported for the input types, and the inputs could not be safely coerced to any supported types according to the casting rule ''safe''",
     "output_type": "error",
     "traceback": [
      "\u001b[0;31m---------------------------------------------------------------------------\u001b[0m",
      "\u001b[0;31mTypeError\u001b[0m                                 Traceback (most recent call last)",
      "\u001b[0;32m<ipython-input-11-7bb85783204a>\u001b[0m in \u001b[0;36m<module>\u001b[0;34m\u001b[0m\n\u001b[0;32m----> 1\u001b[0;31m \u001b[0msns\u001b[0m\u001b[0;34m.\u001b[0m\u001b[0mheatmap\u001b[0m\u001b[0;34m(\u001b[0m\u001b[0mberkeley_business\u001b[0m\u001b[0;34m)\u001b[0m\u001b[0;34m\u001b[0m\u001b[0;34m\u001b[0m\u001b[0m\n\u001b[0m",
      "\u001b[0;32m/anaconda3/lib/python3.7/site-packages/seaborn/matrix.py\u001b[0m in \u001b[0;36mheatmap\u001b[0;34m(data, vmin, vmax, cmap, center, robust, annot, fmt, annot_kws, linewidths, linecolor, cbar, cbar_kws, cbar_ax, square, xticklabels, yticklabels, mask, ax, **kwargs)\u001b[0m\n\u001b[1;32m    515\u001b[0m     plotter = _HeatMapper(data, vmin, vmax, cmap, center, robust, annot, fmt,\n\u001b[1;32m    516\u001b[0m                           \u001b[0mannot_kws\u001b[0m\u001b[0;34m,\u001b[0m \u001b[0mcbar\u001b[0m\u001b[0;34m,\u001b[0m \u001b[0mcbar_kws\u001b[0m\u001b[0;34m,\u001b[0m \u001b[0mxticklabels\u001b[0m\u001b[0;34m,\u001b[0m\u001b[0;34m\u001b[0m\u001b[0;34m\u001b[0m\u001b[0m\n\u001b[0;32m--> 517\u001b[0;31m                           yticklabels, mask)\n\u001b[0m\u001b[1;32m    518\u001b[0m \u001b[0;34m\u001b[0m\u001b[0m\n\u001b[1;32m    519\u001b[0m     \u001b[0;31m# Add the pcolormesh kwargs here\u001b[0m\u001b[0;34m\u001b[0m\u001b[0;34m\u001b[0m\u001b[0;34m\u001b[0m\u001b[0m\n",
      "\u001b[0;32m/anaconda3/lib/python3.7/site-packages/seaborn/matrix.py\u001b[0m in \u001b[0;36m__init__\u001b[0;34m(self, data, vmin, vmax, cmap, center, robust, annot, fmt, annot_kws, cbar, cbar_kws, xticklabels, yticklabels, mask)\u001b[0m\n\u001b[1;32m    165\u001b[0m         \u001b[0;31m# Determine good default values for the colormapping\u001b[0m\u001b[0;34m\u001b[0m\u001b[0;34m\u001b[0m\u001b[0;34m\u001b[0m\u001b[0m\n\u001b[1;32m    166\u001b[0m         self._determine_cmap_params(plot_data, vmin, vmax,\n\u001b[0;32m--> 167\u001b[0;31m                                     cmap, center, robust)\n\u001b[0m\u001b[1;32m    168\u001b[0m \u001b[0;34m\u001b[0m\u001b[0m\n\u001b[1;32m    169\u001b[0m         \u001b[0;31m# Sort out the annotations\u001b[0m\u001b[0;34m\u001b[0m\u001b[0;34m\u001b[0m\u001b[0;34m\u001b[0m\u001b[0m\n",
      "\u001b[0;32m/anaconda3/lib/python3.7/site-packages/seaborn/matrix.py\u001b[0m in \u001b[0;36m_determine_cmap_params\u001b[0;34m(self, plot_data, vmin, vmax, cmap, center, robust)\u001b[0m\n\u001b[1;32m    202\u001b[0m                                cmap, center, robust):\n\u001b[1;32m    203\u001b[0m         \u001b[0;34m\"\"\"Use some heuristics to set good defaults for colorbar and range.\"\"\"\u001b[0m\u001b[0;34m\u001b[0m\u001b[0;34m\u001b[0m\u001b[0m\n\u001b[0;32m--> 204\u001b[0;31m         \u001b[0mcalc_data\u001b[0m \u001b[0;34m=\u001b[0m \u001b[0mplot_data\u001b[0m\u001b[0;34m.\u001b[0m\u001b[0mdata\u001b[0m\u001b[0;34m[\u001b[0m\u001b[0;34m~\u001b[0m\u001b[0mnp\u001b[0m\u001b[0;34m.\u001b[0m\u001b[0misnan\u001b[0m\u001b[0;34m(\u001b[0m\u001b[0mplot_data\u001b[0m\u001b[0;34m.\u001b[0m\u001b[0mdata\u001b[0m\u001b[0;34m)\u001b[0m\u001b[0;34m]\u001b[0m\u001b[0;34m\u001b[0m\u001b[0;34m\u001b[0m\u001b[0m\n\u001b[0m\u001b[1;32m    205\u001b[0m         \u001b[0;32mif\u001b[0m \u001b[0mvmin\u001b[0m \u001b[0;32mis\u001b[0m \u001b[0;32mNone\u001b[0m\u001b[0;34m:\u001b[0m\u001b[0;34m\u001b[0m\u001b[0;34m\u001b[0m\u001b[0m\n\u001b[1;32m    206\u001b[0m             \u001b[0mvmin\u001b[0m \u001b[0;34m=\u001b[0m \u001b[0mnp\u001b[0m\u001b[0;34m.\u001b[0m\u001b[0mpercentile\u001b[0m\u001b[0;34m(\u001b[0m\u001b[0mcalc_data\u001b[0m\u001b[0;34m,\u001b[0m \u001b[0;36m2\u001b[0m\u001b[0;34m)\u001b[0m \u001b[0;32mif\u001b[0m \u001b[0mrobust\u001b[0m \u001b[0;32melse\u001b[0m \u001b[0mcalc_data\u001b[0m\u001b[0;34m.\u001b[0m\u001b[0mmin\u001b[0m\u001b[0;34m(\u001b[0m\u001b[0;34m)\u001b[0m\u001b[0;34m\u001b[0m\u001b[0;34m\u001b[0m\u001b[0m\n",
      "\u001b[0;31mTypeError\u001b[0m: ufunc 'isnan' not supported for the input types, and the inputs could not be safely coerced to any supported types according to the casting rule ''safe''"
     ]
    }
   ],
   "source": [
    "sns.heatmap(berkeley_business)"
   ]
  },
  {
   "cell_type": "code",
   "execution_count": null,
   "metadata": {},
   "outputs": [],
   "source": []
  },
  {
   "cell_type": "code",
   "execution_count": null,
   "metadata": {},
   "outputs": [],
   "source": []
  },
  {
   "cell_type": "code",
   "execution_count": null,
   "metadata": {},
   "outputs": [],
   "source": []
  },
  {
   "cell_type": "code",
   "execution_count": null,
   "metadata": {},
   "outputs": [],
   "source": []
  },
  {
   "cell_type": "code",
   "execution_count": 12,
   "metadata": {},
   "outputs": [],
   "source": [
    "# delete later\n",
    "import numpy as np\n",
    "\n",
    "data = []\n",
    "\n",
    "data.extend(np.random.normal(20,20,10000))"
   ]
  },
  {
   "cell_type": "code",
   "execution_count": 10,
   "metadata": {},
   "outputs": [
    {
     "data": {
      "text/plain": [
       "[39.465802439439216,\n",
       " 21.521398618929382,\n",
       " 9.804395235989174,\n",
       " 9.446793424172135,\n",
       " 19.117093121274706,\n",
       " 54.70616320873522,\n",
       " -36.80470073532583,\n",
       " 34.13554506607838,\n",
       " -19.928648941751092,\n",
       " 32.603352242565165]"
      ]
     },
     "execution_count": 10,
     "metadata": {},
     "output_type": "execute_result"
    }
   ],
   "source": [
    "data"
   ]
  },
  {
   "cell_type": "code",
   "execution_count": 13,
   "metadata": {},
   "outputs": [
    {
     "data": {
      "text/plain": [
       "20.056810634170155"
      ]
     },
     "execution_count": 13,
     "metadata": {},
     "output_type": "execute_result"
    }
   ],
   "source": [
    "np.std(data)"
   ]
  },
  {
   "cell_type": "code",
   "execution_count": null,
   "metadata": {},
   "outputs": [],
   "source": []
  }
 ],
 "metadata": {
  "kernelspec": {
   "display_name": "Python 3",
   "language": "python",
   "name": "python3"
  },
  "language_info": {
   "codemirror_mode": {
    "name": "ipython",
    "version": 3
   },
   "file_extension": ".py",
   "mimetype": "text/x-python",
   "name": "python",
   "nbconvert_exporter": "python",
   "pygments_lexer": "ipython3",
   "version": "3.7.3"
  }
 },
 "nbformat": 4,
 "nbformat_minor": 2
}
