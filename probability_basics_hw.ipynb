{
 "cells": [
  {
   "cell_type": "markdown",
   "metadata": {},
   "source": [
    "# Drill set 1\n",
    "\n",
    "When you're done, the solution for this drillset can be found [here.](https://github.com/Thinkful-Ed/data-201-resources/blob/master/solutions/Prep%20course/3.2.4.md)"
   ]
  },
  {
   "cell_type": "markdown",
   "metadata": {},
   "source": [
    "1. Calculate the probability of flipping a balanced coin four times and getting each pattern: HTTH, HHHH and TTHH."
   ]
  },
  {
   "cell_type": "code",
   "execution_count": 1,
   "metadata": {},
   "outputs": [
    {
     "data": {
      "text/plain": [
       "{'HTTH': 0.0625, 'HHHH': 0.0625, 'TTHH': 0.0625}"
      ]
     },
     "execution_count": 1,
     "metadata": {},
     "output_type": "execute_result"
    }
   ],
   "source": [
    "probability = {}\n",
    "\n",
    "probability['HTTH'] = 0.5*0.5*0.5*0.5\n",
    "probability['HHHH'] = 0.5*0.5*0.5*0.5\n",
    "probability['TTHH'] = 0.5*0.5*0.5*0.5\n",
    "\n",
    "probability"
   ]
  },
  {
   "cell_type": "markdown",
   "metadata": {},
   "source": [
    "2. If a list of people has 24 women and 21 men, then the probability of choosing a man from the list is 21/45. What is the probability of not choosing a man?"
   ]
  },
  {
   "cell_type": "code",
   "execution_count": 24,
   "metadata": {},
   "outputs": [
    {
     "data": {
      "text/plain": [
       "'8/15'"
      ]
     },
     "execution_count": 24,
     "metadata": {},
     "output_type": "execute_result"
    }
   ],
   "source": [
    "from fractions import Fraction\n",
    "\n",
    "p_man = Fraction(21,45)\n",
    "p_not_man = (1 - p_man)\n",
    "str(p_not_man)"
   ]
  },
  {
   "cell_type": "markdown",
   "metadata": {},
   "source": [
    "3. The probability that Bernice will travel by plane sometime in the next year is 10%. The probability of a plane crash at any time is .005%. What is the probability that Bernice will be in a plane crash sometime in the next year?"
   ]
  },
  {
   "cell_type": "code",
   "execution_count": 26,
   "metadata": {},
   "outputs": [
    {
     "name": "stdout",
     "output_type": "stream",
     "text": [
      "Probability of Bernice getting in a plane crash sometime next year is 0.0005%\n"
     ]
    }
   ],
   "source": [
    "p_traveling = 0.1\n",
    "p_crash = 0.00005\n",
    "p_traveling_given_crash = 1\n",
    "p_crash_given_traveling = p_traveling_given_crash * p_crash / p_traveling\n",
    "\n",
    "print('Probability of Bernice getting in a plane crash sometime next year is {}%'.format(p_crash_given_traveling))"
   ]
  },
  {
   "cell_type": "markdown",
   "metadata": {},
   "source": [
    "4. A data scientist wants to study the behavior of users on the company website. Each time a user clicks on a link on the website, there is a 5% chance that the user will be asked to complete a short survey about their behavior on the website. The data scientist uses the survey data to conclude that, on average, users spend 15 minutes surfing the company website before moving on to other things. What is wrong with this conclusion?"
   ]
  },
  {
   "cell_type": "markdown",
   "metadata": {},
   "source": [
    "[answer] The sample is not be representative of the user population.  \n",
    "\n",
    "- behavior of users that clicks a link on the website\n",
    "    - 5% of those users get a link\n",
    "        - behavior of a portion of those who receive a survey and asnwer"
   ]
  },
  {
   "cell_type": "markdown",
   "metadata": {},
   "source": [
    "# Drill set 2\n",
    "\n",
    "Now it's time to use Bayes' rule to compute some conditional probabilities. First look over the numbers and estimate each of the four probabilities, using your intuition. Then, calculate the probabilities using Bayes' rule. Keep track of your work in a Google document or markdown file that you can share with your mentor.\n",
    "\n",
    "Discuss your answer to each of these questions with your mentor. If you want more Bayes practice, try [these exercises.](http://stony.me/statistics-for-beginners-bayes-rule-4/)\n",
    "\n",
    "After giving it a try yourself, you can find a solution [here.](https://github.com/Thinkful-Ed/data-201-resources/blob/master/solutions/Prep%20course/3.2.6.md)"
   ]
  },
  {
   "cell_type": "markdown",
   "metadata": {},
   "source": [
    "A diagnostic test has a 98% probability of giving a positive result when applied to a person suffering from Thripshaw's Disease, and 10% probability of giving a (false) positive when applied to a non-sufferer. It is estimated that 0.5 % of the population are sufferers. Suppose that the test is now administered to a person whose disease status is unknown. Calculate the probability that the test will:\n",
    "\n",
    "1. Be positive\n",
    "2. Correctly diagnose a sufferer of Thripshaw's\n",
    "3. Correctly identify a non-sufferer of Thripshaw's\n",
    "4. Misclassify the person"
   ]
  },
  {
   "cell_type": "code",
   "execution_count": 48,
   "metadata": {},
   "outputs": [
    {
     "name": "stdout",
     "output_type": "stream",
     "text": [
      "Probability of positive test: 0.1044\n",
      "Probability of a positive test from a sufferer of Thripshaw's: 0.98\n",
      "Probability of a negative test from a non-sufferer of Thripshaw's: 0.9\n",
      "Probability of misclassifying a person: 0.12, why is correct answer 0.0996??\n",
      "Probability of suffering from Thripshaw's given positive test: 0.05\n",
      "Probability of not suffering from Thripshaw's given negative test: 1.0\n"
     ]
    }
   ],
   "source": [
    "p_positive_disease = 0.98\n",
    "p_positive_no_disease = 0.1\n",
    "p_disease = 0.005\n",
    "\n",
    "p_positive = (p_disease*p_positive_disease) + ((1-p_disease)*p_positive_no_disease)\n",
    "\n",
    "p_disease_positive = p_positive_disease * p_disease / p_positive\n",
    "\n",
    "p_no_disease_negative = (1-p_positive_no_disease) * (1-p_disease) / (1-p_positive)\n",
    "\n",
    "p_wrong = p_positive_no_disease + (1-p_positive_disease)\n",
    "\n",
    "print(\n",
    "    f'Probability of positive test: {p_positive}''\\n'\n",
    "    f'Probability of a positive test from a sufferer of Thripshaw\\'s: {p_positive_disease}''\\n'\n",
    "    f'Probability of a negative test from a non-sufferer of Thripshaw\\'s: {1-p_positive_no_disease}''\\n'\n",
    "    f'Probability of misclassifying a person: {round(p_wrong,2)}, why is correct answer 0.0996??''\\n'\n",
    "    f'Probability of suffering from Thripshaw\\'s given positive test: {round(p_disease_positive,2)}''\\n'\n",
    "    f'Probability of not suffering from Thripshaw\\'s given negative test: {round(p_no_disease_negative,2)}'\n",
    "    )"
   ]
  },
  {
   "cell_type": "markdown",
   "metadata": {},
   "source": [
    "Were your intuitions on the mark, or way off? If your statistical intuition is leading you astray, you aren't alone. According to Nobel-prize winning Daniel Kahneman, humans simply are not good intuitive statisticians. That fact has two strong implications for you as you prepare for a career in data science:\n",
    "\n",
    "1. Just because your statistical intuition is wrong does not mean you're a bad statistician. We're all in this boat. Don't give up on yourself. And,\n",
    "2. Just because you easily intuit the answer to a statistical question does not mean you're right. Don't trust your intuition. Check your work."
   ]
  },
  {
   "cell_type": "code",
   "execution_count": null,
   "metadata": {},
   "outputs": [],
   "source": []
  }
 ],
 "metadata": {
  "kernelspec": {
   "display_name": "Python 3",
   "language": "python",
   "name": "python3"
  },
  "language_info": {
   "codemirror_mode": {
    "name": "ipython",
    "version": 3
   },
   "file_extension": ".py",
   "mimetype": "text/x-python",
   "name": "python",
   "nbconvert_exporter": "python",
   "pygments_lexer": "ipython3",
   "version": "3.7.3"
  }
 },
 "nbformat": 4,
 "nbformat_minor": 2
}
