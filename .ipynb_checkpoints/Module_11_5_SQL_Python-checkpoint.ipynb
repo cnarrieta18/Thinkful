{
 "cells": [
  {
   "cell_type": "code",
   "execution_count": 1,
   "metadata": {},
   "outputs": [],
   "source": [
    "# Import the SQL ALchemy engine\n",
    "from sqlalchemy import create_engine"
   ]
  },
  {
   "cell_type": "code",
   "execution_count": 2,
   "metadata": {},
   "outputs": [],
   "source": [
    "# Database credentials\n",
    "postgres_user = 'dsbc_student'\n",
    "postgres_pw = '7*.8G9QH21'\n",
    "postgres_host = '142.93.121.174'\n",
    "postgres_port = '5432'\n",
    "postgres_db = 'dvdrentals'\n",
    "\n",
    "# use the credentials to start a connection\n",
    "engine = create_engine('postgresql://{}:{}@{}:{}/{}'.format(\n",
    "    postgres_user, postgres_pw, postgres_host, postgres_port, postgres_db))"
   ]
  },
  {
   "cell_type": "code",
   "execution_count": 3,
   "metadata": {},
   "outputs": [],
   "source": [
    "# Execute the SQL statement again\n",
    "film = engine.execute('select * from film limit 10')\n",
    "rental = engine.execute('select * from rental limit 10')\n",
    "\n",
    "# dispose the connection\n",
    "engine.dispose()\n",
    "\n",
    "# use fetchall() to get a list of rows from the results.\n",
    "film_rows = film.fetchall()\n",
    "rental_rows = rental.fetchall()\n",
    "\n",
    "# now process the list of rows\n",
    "# for row in rows:\n",
    "#   print(row)"
   ]
  },
  {
   "cell_type": "code",
   "execution_count": 4,
   "metadata": {},
   "outputs": [
    {
     "data": {
      "text/plain": [
       "['film_id',\n",
       " 'title',\n",
       " 'description',\n",
       " 'release_year',\n",
       " 'language_id',\n",
       " 'original_language_id',\n",
       " 'rental_duration',\n",
       " 'rental_rate',\n",
       " 'length',\n",
       " 'replacement_cost',\n",
       " 'rating',\n",
       " 'last_update',\n",
       " 'special_features',\n",
       " 'fulltext']"
      ]
     },
     "execution_count": 4,
     "metadata": {},
     "output_type": "execute_result"
    }
   ],
   "source": [
    "film.keys()"
   ]
  },
  {
   "cell_type": "code",
   "execution_count": 7,
   "metadata": {},
   "outputs": [],
   "source": [
    "rental.keys();"
   ]
  },
  {
   "cell_type": "markdown",
   "metadata": {},
   "source": [
    "1. How many movies are released for each rating?"
   ]
  },
  {
   "cell_type": "code",
   "execution_count": 15,
   "metadata": {},
   "outputs": [
    {
     "name": "stdout",
     "output_type": "stream",
     "text": [
      "R: 195 movies\n",
      "NC-17: 210 movies\n",
      "PG: 194 movies\n",
      "PG-13: 223 movies\n",
      "G: 178 movies\n"
     ]
    }
   ],
   "source": [
    "sql= '''\n",
    "SELECT rating, COUNT(*) FROM film\n",
    "GROUP BY rating\n",
    "'''\n",
    "# Execute the SQL statement again\n",
    "rating_movie_count = engine.execute(sql)\n",
    "\n",
    "# dispose the connection\n",
    "engine.dispose()\n",
    "\n",
    "# use fetchall() to get a list of rows from the results.\n",
    "rows = rating_movie_count.fetchall()\n",
    "\n",
    "# now process the list of rows\n",
    "for row in rows:\n",
    "  print(f\"{row[0]}: {row[1]} movies\")"
   ]
  },
  {
   "cell_type": "markdown",
   "metadata": {},
   "source": [
    "2. What is the average rental duration for each rating?"
   ]
  },
  {
   "cell_type": "code",
   "execution_count": 14,
   "metadata": {},
   "outputs": [
    {
     "name": "stdout",
     "output_type": "stream",
     "text": [
      "R: 4.77 days\n",
      "NC-17: 5.14 days\n",
      "PG: 5.08 days\n",
      "PG-13: 5.05 days\n",
      "G: 4.84 days\n"
     ]
    }
   ],
   "source": [
    "sql = '''\n",
    "SELECT rating, ROUND(AVG(rental_duration),2) FROM film\n",
    "GROUP BY rating\n",
    "'''\n",
    "\n",
    "# Execute the SQL statement again\n",
    "rating_avg_rental_duration = engine.execute(sql)\n",
    "\n",
    "# dispose the connection\n",
    "engine.dispose()\n",
    "\n",
    "# use fetchall() to get a list of rows from the results.\n",
    "rows = rating_avg_rental_duration.fetchall()\n",
    "\n",
    "# now process the list of rows\n",
    "for row in rows:\n",
    "  print(f\"{row[0]}: {row[1]} days\")"
   ]
  },
  {
   "cell_type": "markdown",
   "metadata": {},
   "source": [
    "3. What is the mean movie length? Calculate this by defining a function?"
   ]
  },
  {
   "cell_type": "code",
   "execution_count": 25,
   "metadata": {},
   "outputs": [],
   "source": [
    "def mean(list_of_numbers):\n",
    "    total = 0\n",
    "    length = len(list_of_numbers)\n",
    "    for number in list_of_numbers:\n",
    "        total += number\n",
    "    return total/length    "
   ]
  },
  {
   "cell_type": "code",
   "execution_count": 71,
   "metadata": {},
   "outputs": [
    {
     "name": "stdout",
     "output_type": "stream",
     "text": [
      "The average movie length is 115.27 minutes\n"
     ]
    }
   ],
   "source": [
    "sql = '''\n",
    "SELECT length FROM film\n",
    "'''\n",
    "\n",
    "# Execute the SQL statement again\n",
    "movie_length = engine.execute(sql)\n",
    "\n",
    "# dispose the connection\n",
    "engine.dispose()\n",
    "\n",
    "# use fetchall() to get a list of rows from the results.\n",
    "movie_lengths = movie_length.fetchall()\n",
    "\n",
    "list_movie_lengths = [x['length'] for x in movie_lengths]\n",
    "\n",
    "print(f\"The average movie length is {mean(list_movie_lengths):.2f} minutes\")"
   ]
  },
  {
   "cell_type": "markdown",
   "metadata": {},
   "source": [
    "4. What is the median movie length? Calculate this by defining a function"
   ]
  },
  {
   "cell_type": "code",
   "execution_count": 49,
   "metadata": {},
   "outputs": [],
   "source": [
    "def median(items_list):\n",
    "    items_list.sort()\n",
    "    length = len(items_list)\n",
    "    if length%2 == 1:\n",
    "        return items_list[length//2]\n",
    "    elif length%2 == 0:\n",
    "        return (items_list[length//2] + items_list[length//2 - 1])/2"
   ]
  },
  {
   "cell_type": "code",
   "execution_count": 63,
   "metadata": {},
   "outputs": [
    {
     "name": "stdout",
     "output_type": "stream",
     "text": [
      "The median movie length is 114 minutes.\n"
     ]
    }
   ],
   "source": [
    "sql = '''\n",
    "SELECT length FROM film\n",
    "'''\n",
    "\n",
    "movie_length = engine.execute(sql)\n",
    "engine.dispose()\n",
    "\n",
    "movie_lengths = movie_length.fetchall()\n",
    "list_movie_lengths = [x['length'] for x in movie_lengths]\n",
    "\n",
    "print(f\"The median movie length is {median(list_movie_lengths):.0f} minutes.\")"
   ]
  },
  {
   "cell_type": "markdown",
   "metadata": {},
   "source": [
    "5. Calculate the standard deviation of the movie lengths. Calculate this by defining a function."
   ]
  },
  {
   "cell_type": "code",
   "execution_count": 78,
   "metadata": {},
   "outputs": [],
   "source": [
    "def standard_deviation(items_list):\n",
    "    total = 0\n",
    "    length = len(items_list)\n",
    "    avg = mean(items_list)\n",
    "    for item in items_list:\n",
    "        total += (item-avg)**2\n",
    "    return (total/(length - 1))**(1/2)"
   ]
  },
  {
   "cell_type": "code",
   "execution_count": 79,
   "metadata": {},
   "outputs": [
    {
     "name": "stdout",
     "output_type": "stream",
     "text": [
      "The standard deviation of movie lengths is: 40.43\n"
     ]
    }
   ],
   "source": [
    "print(f\"The standard deviation of movie lengths is: {standard_deviation(list_movie_lengths):.2f}\")"
   ]
  }
 ],
 "metadata": {
  "kernelspec": {
   "display_name": "Python 3",
   "language": "python",
   "name": "python3"
  },
  "language_info": {
   "codemirror_mode": {
    "name": "ipython",
    "version": 3
   },
   "file_extension": ".py",
   "mimetype": "text/x-python",
   "name": "python",
   "nbconvert_exporter": "python",
   "pygments_lexer": "ipython3",
   "version": "3.7.3"
  }
 },
 "nbformat": 4,
 "nbformat_minor": 2
}
