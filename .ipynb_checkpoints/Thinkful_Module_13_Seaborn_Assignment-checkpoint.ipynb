{
 "cells": [
  {
   "cell_type": "code",
   "execution_count": 4,
   "metadata": {},
   "outputs": [],
   "source": [
    "import pandas as pd\n",
    "import seaborn as sns"
   ]
  },
  {
   "cell_type": "code",
   "execution_count": 13,
   "metadata": {},
   "outputs": [
    {
     "data": {
      "text/plain": [
       "'0.9.0'"
      ]
     },
     "execution_count": 13,
     "metadata": {},
     "output_type": "execute_result"
    }
   ],
   "source": [
    "# Check Seaborn version\n",
    "sns.__version__"
   ]
  },
  {
   "cell_type": "code",
   "execution_count": 11,
   "metadata": {},
   "outputs": [],
   "source": [
    "# Setting the overall aesthetic.\n",
    "sns.set(style=\"darkgrid\")"
   ]
  },
  {
   "cell_type": "markdown",
   "metadata": {},
   "source": [
    "# The Dataset\n",
    "\n",
    "From Kaggle [https://www.kaggle.com/chirin/africa-economic-banking-and-systemic-crisis-data/downloads/africa-economic-banking-and-systemic-crisis-data.zip/1]"
   ]
  },
  {
   "cell_type": "code",
   "execution_count": 15,
   "metadata": {},
   "outputs": [],
   "source": [
    "# Load dataframe from Kaggle\n",
    "african_economy = pd.read_csv('sample_data/african_crises.csv')"
   ]
  },
  {
   "cell_type": "code",
   "execution_count": 43,
   "metadata": {},
   "outputs": [
    {
     "data": {
      "text/html": [
       "<div>\n",
       "<style scoped>\n",
       "    .dataframe tbody tr th:only-of-type {\n",
       "        vertical-align: middle;\n",
       "    }\n",
       "\n",
       "    .dataframe tbody tr th {\n",
       "        vertical-align: top;\n",
       "    }\n",
       "\n",
       "    .dataframe thead th {\n",
       "        text-align: right;\n",
       "    }\n",
       "</style>\n",
       "<table border=\"1\" class=\"dataframe\">\n",
       "  <thead>\n",
       "    <tr style=\"text-align: right;\">\n",
       "      <th></th>\n",
       "      <th>case</th>\n",
       "      <th>cc3</th>\n",
       "      <th>country</th>\n",
       "      <th>year</th>\n",
       "      <th>systemic_crisis</th>\n",
       "      <th>exch_usd</th>\n",
       "      <th>domestic_debt_in_default</th>\n",
       "      <th>sovereign_external_debt_default</th>\n",
       "      <th>gdp_weighted_default</th>\n",
       "      <th>inflation_annual_cpi</th>\n",
       "      <th>independence</th>\n",
       "      <th>currency_crises</th>\n",
       "      <th>inflation_crises</th>\n",
       "      <th>banking_crisis</th>\n",
       "    </tr>\n",
       "  </thead>\n",
       "  <tbody>\n",
       "    <tr>\n",
       "      <th>0</th>\n",
       "      <td>1</td>\n",
       "      <td>DZA</td>\n",
       "      <td>Algeria</td>\n",
       "      <td>1870</td>\n",
       "      <td>1</td>\n",
       "      <td>0.052264</td>\n",
       "      <td>0</td>\n",
       "      <td>0</td>\n",
       "      <td>0.0</td>\n",
       "      <td>3.441456</td>\n",
       "      <td>0</td>\n",
       "      <td>0</td>\n",
       "      <td>0</td>\n",
       "      <td>crisis</td>\n",
       "    </tr>\n",
       "    <tr>\n",
       "      <th>1</th>\n",
       "      <td>1</td>\n",
       "      <td>DZA</td>\n",
       "      <td>Algeria</td>\n",
       "      <td>1871</td>\n",
       "      <td>0</td>\n",
       "      <td>0.052798</td>\n",
       "      <td>0</td>\n",
       "      <td>0</td>\n",
       "      <td>0.0</td>\n",
       "      <td>14.149140</td>\n",
       "      <td>0</td>\n",
       "      <td>0</td>\n",
       "      <td>0</td>\n",
       "      <td>no_crisis</td>\n",
       "    </tr>\n",
       "    <tr>\n",
       "      <th>2</th>\n",
       "      <td>1</td>\n",
       "      <td>DZA</td>\n",
       "      <td>Algeria</td>\n",
       "      <td>1872</td>\n",
       "      <td>0</td>\n",
       "      <td>0.052274</td>\n",
       "      <td>0</td>\n",
       "      <td>0</td>\n",
       "      <td>0.0</td>\n",
       "      <td>-3.718593</td>\n",
       "      <td>0</td>\n",
       "      <td>0</td>\n",
       "      <td>0</td>\n",
       "      <td>no_crisis</td>\n",
       "    </tr>\n",
       "    <tr>\n",
       "      <th>3</th>\n",
       "      <td>1</td>\n",
       "      <td>DZA</td>\n",
       "      <td>Algeria</td>\n",
       "      <td>1873</td>\n",
       "      <td>0</td>\n",
       "      <td>0.051680</td>\n",
       "      <td>0</td>\n",
       "      <td>0</td>\n",
       "      <td>0.0</td>\n",
       "      <td>11.203897</td>\n",
       "      <td>0</td>\n",
       "      <td>0</td>\n",
       "      <td>0</td>\n",
       "      <td>no_crisis</td>\n",
       "    </tr>\n",
       "  </tbody>\n",
       "</table>\n",
       "</div>"
      ],
      "text/plain": [
       "   case  cc3  country  year  systemic_crisis  exch_usd  \\\n",
       "0     1  DZA  Algeria  1870                1  0.052264   \n",
       "1     1  DZA  Algeria  1871                0  0.052798   \n",
       "2     1  DZA  Algeria  1872                0  0.052274   \n",
       "3     1  DZA  Algeria  1873                0  0.051680   \n",
       "\n",
       "   domestic_debt_in_default  sovereign_external_debt_default  \\\n",
       "0                         0                                0   \n",
       "1                         0                                0   \n",
       "2                         0                                0   \n",
       "3                         0                                0   \n",
       "\n",
       "   gdp_weighted_default  inflation_annual_cpi  independence  currency_crises  \\\n",
       "0                   0.0              3.441456             0                0   \n",
       "1                   0.0             14.149140             0                0   \n",
       "2                   0.0             -3.718593             0                0   \n",
       "3                   0.0             11.203897             0                0   \n",
       "\n",
       "   inflation_crises banking_crisis  \n",
       "0                 0         crisis  \n",
       "1                 0      no_crisis  \n",
       "2                 0      no_crisis  \n",
       "3                 0      no_crisis  "
      ]
     },
     "execution_count": 43,
     "metadata": {},
     "output_type": "execute_result"
    }
   ],
   "source": [
    "african_economy.head(4)"
   ]
  },
  {
   "cell_type": "code",
   "execution_count": 17,
   "metadata": {},
   "outputs": [
    {
     "name": "stdout",
     "output_type": "stream",
     "text": [
      "<class 'pandas.core.frame.DataFrame'>\n",
      "RangeIndex: 1059 entries, 0 to 1058\n",
      "Data columns (total 14 columns):\n",
      "case                               1059 non-null int64\n",
      "cc3                                1059 non-null object\n",
      "country                            1059 non-null object\n",
      "year                               1059 non-null int64\n",
      "systemic_crisis                    1059 non-null int64\n",
      "exch_usd                           1059 non-null float64\n",
      "domestic_debt_in_default           1059 non-null int64\n",
      "sovereign_external_debt_default    1059 non-null int64\n",
      "gdp_weighted_default               1059 non-null float64\n",
      "inflation_annual_cpi               1059 non-null float64\n",
      "independence                       1059 non-null int64\n",
      "currency_crises                    1059 non-null int64\n",
      "inflation_crises                   1059 non-null int64\n",
      "banking_crisis                     1059 non-null object\n",
      "dtypes: float64(3), int64(8), object(3)\n",
      "memory usage: 115.9+ KB\n"
     ]
    }
   ],
   "source": [
    "african_economy.info()"
   ]
  },
  {
   "cell_type": "code",
   "execution_count": 19,
   "metadata": {},
   "outputs": [
    {
     "data": {
      "text/plain": [
       "Index(['case', 'cc3', 'country', 'year', 'systemic_crisis', 'exch_usd',\n",
       "       'domestic_debt_in_default', 'sovereign_external_debt_default',\n",
       "       'gdp_weighted_default', 'inflation_annual_cpi', 'independence',\n",
       "       'currency_crises', 'inflation_crises', 'banking_crisis'],\n",
       "      dtype='object')"
      ]
     },
     "execution_count": 19,
     "metadata": {},
     "output_type": "execute_result"
    }
   ],
   "source": [
    "african_economy.columns"
   ]
  },
  {
   "cell_type": "code",
   "execution_count": 40,
   "metadata": {},
   "outputs": [],
   "source": [
    "meta_data = []\n",
    "\n",
    "for column in african_economy.columns:\n",
    "    meta_data.append([column, african_economy[column].unique(), len(african_economy[column].unique())])\n",
    "    \n",
    "meta_data = pd.DataFrame(meta_data)\n",
    "meta_data.columns = ['column', 'unique_entries', 'number_of_unique_entries']"
   ]
  },
  {
   "cell_type": "code",
   "execution_count": 41,
   "metadata": {},
   "outputs": [
    {
     "data": {
      "text/html": [
       "<div>\n",
       "<style scoped>\n",
       "    .dataframe tbody tr th:only-of-type {\n",
       "        vertical-align: middle;\n",
       "    }\n",
       "\n",
       "    .dataframe tbody tr th {\n",
       "        vertical-align: top;\n",
       "    }\n",
       "\n",
       "    .dataframe thead th {\n",
       "        text-align: right;\n",
       "    }\n",
       "</style>\n",
       "<table border=\"1\" class=\"dataframe\">\n",
       "  <thead>\n",
       "    <tr style=\"text-align: right;\">\n",
       "      <th></th>\n",
       "      <th>column</th>\n",
       "      <th>unique_entries</th>\n",
       "      <th>number_of_unique_entries</th>\n",
       "    </tr>\n",
       "  </thead>\n",
       "  <tbody>\n",
       "    <tr>\n",
       "      <th>0</th>\n",
       "      <td>case</td>\n",
       "      <td>[1, 2, 10, 15, 19, 35, 38, 40, 45, 56, 63, 69,...</td>\n",
       "      <td>13</td>\n",
       "    </tr>\n",
       "    <tr>\n",
       "      <th>1</th>\n",
       "      <td>cc3</td>\n",
       "      <td>[DZA, AGO, CAF, CIV, EGY, KEN, MUS, MAR, NGA, ...</td>\n",
       "      <td>13</td>\n",
       "    </tr>\n",
       "    <tr>\n",
       "      <th>2</th>\n",
       "      <td>country</td>\n",
       "      <td>[Algeria, Angola, Central African Republic, Iv...</td>\n",
       "      <td>13</td>\n",
       "    </tr>\n",
       "    <tr>\n",
       "      <th>3</th>\n",
       "      <td>year</td>\n",
       "      <td>[1870, 1871, 1872, 1873, 1874, 1875, 1876, 187...</td>\n",
       "      <td>155</td>\n",
       "    </tr>\n",
       "    <tr>\n",
       "      <th>4</th>\n",
       "      <td>systemic_crisis</td>\n",
       "      <td>[1, 0]</td>\n",
       "      <td>2</td>\n",
       "    </tr>\n",
       "    <tr>\n",
       "      <th>5</th>\n",
       "      <td>exch_usd</td>\n",
       "      <td>[0.052264, 0.052798000000000005, 0.052274, 0.0...</td>\n",
       "      <td>772</td>\n",
       "    </tr>\n",
       "    <tr>\n",
       "      <th>6</th>\n",
       "      <td>domestic_debt_in_default</td>\n",
       "      <td>[0, 1]</td>\n",
       "      <td>2</td>\n",
       "    </tr>\n",
       "    <tr>\n",
       "      <th>7</th>\n",
       "      <td>sovereign_external_debt_default</td>\n",
       "      <td>[0, 1]</td>\n",
       "      <td>2</td>\n",
       "    </tr>\n",
       "    <tr>\n",
       "      <th>8</th>\n",
       "      <td>gdp_weighted_default</td>\n",
       "      <td>[0.0, 0.23, 0.4, 0.13, 0.36, 0.06]</td>\n",
       "      <td>6</td>\n",
       "    </tr>\n",
       "    <tr>\n",
       "      <th>9</th>\n",
       "      <td>inflation_annual_cpi</td>\n",
       "      <td>[3.4414556960000002, 14.14913958, -3.718592965...</td>\n",
       "      <td>1022</td>\n",
       "    </tr>\n",
       "    <tr>\n",
       "      <th>10</th>\n",
       "      <td>independence</td>\n",
       "      <td>[0, 1]</td>\n",
       "      <td>2</td>\n",
       "    </tr>\n",
       "    <tr>\n",
       "      <th>11</th>\n",
       "      <td>currency_crises</td>\n",
       "      <td>[0, 1, 2]</td>\n",
       "      <td>3</td>\n",
       "    </tr>\n",
       "    <tr>\n",
       "      <th>12</th>\n",
       "      <td>inflation_crises</td>\n",
       "      <td>[0, 1]</td>\n",
       "      <td>2</td>\n",
       "    </tr>\n",
       "    <tr>\n",
       "      <th>13</th>\n",
       "      <td>banking_crisis</td>\n",
       "      <td>[crisis, no_crisis]</td>\n",
       "      <td>2</td>\n",
       "    </tr>\n",
       "  </tbody>\n",
       "</table>\n",
       "</div>"
      ],
      "text/plain": [
       "                             column  \\\n",
       "0                              case   \n",
       "1                               cc3   \n",
       "2                           country   \n",
       "3                              year   \n",
       "4                   systemic_crisis   \n",
       "5                          exch_usd   \n",
       "6          domestic_debt_in_default   \n",
       "7   sovereign_external_debt_default   \n",
       "8              gdp_weighted_default   \n",
       "9              inflation_annual_cpi   \n",
       "10                     independence   \n",
       "11                  currency_crises   \n",
       "12                 inflation_crises   \n",
       "13                   banking_crisis   \n",
       "\n",
       "                                       unique_entries  \\\n",
       "0   [1, 2, 10, 15, 19, 35, 38, 40, 45, 56, 63, 69,...   \n",
       "1   [DZA, AGO, CAF, CIV, EGY, KEN, MUS, MAR, NGA, ...   \n",
       "2   [Algeria, Angola, Central African Republic, Iv...   \n",
       "3   [1870, 1871, 1872, 1873, 1874, 1875, 1876, 187...   \n",
       "4                                              [1, 0]   \n",
       "5   [0.052264, 0.052798000000000005, 0.052274, 0.0...   \n",
       "6                                              [0, 1]   \n",
       "7                                              [0, 1]   \n",
       "8                  [0.0, 0.23, 0.4, 0.13, 0.36, 0.06]   \n",
       "9   [3.4414556960000002, 14.14913958, -3.718592965...   \n",
       "10                                             [0, 1]   \n",
       "11                                          [0, 1, 2]   \n",
       "12                                             [0, 1]   \n",
       "13                                [crisis, no_crisis]   \n",
       "\n",
       "    number_of_unique_entries  \n",
       "0                         13  \n",
       "1                         13  \n",
       "2                         13  \n",
       "3                        155  \n",
       "4                          2  \n",
       "5                        772  \n",
       "6                          2  \n",
       "7                          2  \n",
       "8                          6  \n",
       "9                       1022  \n",
       "10                         2  \n",
       "11                         3  \n",
       "12                         2  \n",
       "13                         2  "
      ]
     },
     "execution_count": 41,
     "metadata": {},
     "output_type": "execute_result"
    }
   ],
   "source": [
    "meta_data"
   ]
  },
  {
   "cell_type": "code",
   "execution_count": 42,
   "metadata": {},
   "outputs": [
    {
     "data": {
      "text/plain": [
       "array(['Algeria', 'Angola', 'Central African Republic', 'Ivory Coast',\n",
       "       'Egypt', 'Kenya', 'Mauritius', 'Morocco', 'Nigeria',\n",
       "       'South Africa', 'Tunisia', 'Zambia', 'Zimbabwe'], dtype=object)"
      ]
     },
     "execution_count": 42,
     "metadata": {},
     "output_type": "execute_result"
    }
   ],
   "source": [
    "african_economy['country'].unique()"
   ]
  },
  {
   "cell_type": "markdown",
   "metadata": {},
   "source": [
    "# Assignment"
   ]
  },
  {
   "cell_type": "markdown",
   "metadata": {},
   "source": [
    "1_a. Choose one variable and plot that variable four different ways."
   ]
  },
  {
   "cell_type": "code",
   "execution_count": null,
   "metadata": {},
   "outputs": [],
   "source": []
  },
  {
   "cell_type": "markdown",
   "metadata": {},
   "source": [
    "1_b. Choose two continuous variables, and plot them three different ways."
   ]
  },
  {
   "cell_type": "code",
   "execution_count": null,
   "metadata": {},
   "outputs": [],
   "source": []
  },
  {
   "cell_type": "markdown",
   "metadata": {},
   "source": [
    "1_c. Choose one continuous variable and one categorical variable, and plot them six different ways."
   ]
  },
  {
   "cell_type": "code",
   "execution_count": null,
   "metadata": {},
   "outputs": [],
   "source": []
  },
  {
   "cell_type": "markdown",
   "metadata": {},
   "source": [
    "1_d. Give the pros and cons of each plot you create. You can use variables from multiple datasets if you like."
   ]
  },
  {
   "cell_type": "code",
   "execution_count": null,
   "metadata": {},
   "outputs": [],
   "source": []
  },
  {
   "cell_type": "markdown",
   "metadata": {},
   "source": [
    "2. Find a dataset with at least four continuous variables and one categorical variable. Create one master plot that gives insight into the variables and their interrelationships, including:\n",
    "        \n",
    "        a. Probability distributions\n",
    "        b. Bivariate relationships\n",
    "        c. Whether the distributions or the relationships vary across groups\n",
    "        d. Accompany your plot with a written description of what you see.\n"
   ]
  },
  {
   "cell_type": "code",
   "execution_count": null,
   "metadata": {},
   "outputs": [],
   "source": []
  }
 ],
 "metadata": {
  "kernelspec": {
   "display_name": "Python 3",
   "language": "python",
   "name": "python3"
  },
  "language_info": {
   "codemirror_mode": {
    "name": "ipython",
    "version": 3
   },
   "file_extension": ".py",
   "mimetype": "text/x-python",
   "name": "python",
   "nbconvert_exporter": "python",
   "pygments_lexer": "ipython3",
   "version": "3.7.3"
  }
 },
 "nbformat": 4,
 "nbformat_minor": 2
}
