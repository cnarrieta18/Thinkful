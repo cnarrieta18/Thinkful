{
 "cells": [
  {
   "cell_type": "markdown",
   "metadata": {},
   "source": [
    "Hi Seye, maybe we can use this for practice with github process! (push, pull, merge, branches, etc.)\n",
    "\n",
    "I have it sorted so latest sessions come up first.  \n",
    "\n",
    "---\n",
    "You can find the Current/Upcoming Session at top.  Followed by:\n",
    "   - reminder check on questions from previous session \n",
    "   - hw entry (either from lecture or from previous session)\n",
    "   - notes and questions (**???**) from lectures I have gone over since our previous session \n",
    "---\n",
    "You can find the Previous Sessions right after in descending order (later ones at the bottom):\n",
    "   - for answered questions, I ended the line with **[ANSWERED]** and answer is on a new line\n",
    "   - feel free to let me know if the answer I put in isn't good enough/shows I'm not completely understanding it"
   ]
  },
  {
   "cell_type": "markdown",
   "metadata": {},
   "source": [
    "---\n",
    "---\n",
    "# CURRENT/UPCOMING SESSION!"
   ]
  },
  {
   "cell_type": "markdown",
   "metadata": {},
   "source": [
    "### Any Unanswered Questions From Previous Session Below?"
   ]
  },
  {
   "cell_type": "markdown",
   "metadata": {},
   "source": [
    "---\n",
    "## Tuesday, October 22\n",
    "\n",
    "### Module 13: Data Visualization and Exploration\n",
    "- Seaborn Assignment\n",
    "    - https://github.com/cnarrieta18/Thinkful/blob/master/Thinkful_Module_13_Seaborn_Assignment_v2.ipynb\n",
    "\n",
    "- Challenge\n",
    "    - https://github.com/cnarrieta18/Thinkful/blob/master/Thinkful_Module_13_Data_Validation_Challenge.ipynb\n"
   ]
  },
  {
   "cell_type": "markdown",
   "metadata": {},
   "source": [
    "---\n",
    "## Friday, October 18\n",
    "\n",
    "### SQL Foundation\n",
    "- What is a schema __??__\n",
    "- [Module 11 Drill](https://github.com/cnarrieta18/Thinkful/blob/master/Thinkful_Module_11_Drills.txt)\n",
    "\n",
    "    6. There are 2 tables, hof_inducted and hof_not_inducted, indicating successful and unsuccessful inductions into the Baseball Hall of Fame, respectively.\n",
    "    \t\n",
    "            b. Get a distinct list of all player IDs for players who have been put up for HOF induction.\n",
    "\n",
    "            SELECT playerid FROM hof_inducted\n",
    "            UNION \n",
    "            SELECT playerid FROM hof_not_inducted\n",
    "            GROUP BY playerid;\n",
    "\n",
    "            ?? Why does the solution not need GROUP BY ??\n",
    "\n",
    "    7. Write a query that returns the last name, first name (see people table), and total recorded salaries for all players found in the salaries table. \n",
    "\n",
    "            SELECT namelast, namefirst, SUM(salary)\n",
    "            FROM people INNER JOIN salaries\n",
    "            ON people.playerid = salaries.playerid\n",
    "            GROUP BY namelast, namefirst;\n",
    "\n",
    "            ?? Why does solution use LEFT OUTER JOIN ??\n",
    "\n",
    "    8. Write a query that returns all records from the hof_inducted and hof_not_inducted tables that include playerid, yearid, namefirst, and namelast. Hint: Each FROM statement will include a LEFT OUTER JOIN!\n",
    "\n",
    "            SELECT hof_inducted.playerid, yearid, namefirst, namelast FROM hof_inducted LEFT OUTER JOIN people\n",
    "            ON hof_inducted.playerid = people.playerid\n",
    "            UNION\n",
    "            SELECT hof_not_inducted.playerid, yearid, namefirst, namelast FROM hof_not_inducted LEFT OUTER JOIN people\n",
    "            ON hof_not_inducted.playerid = people.playerid;\n",
    "\n",
    "            ?? Why does the solution use UNION ALL ??\n",
    "\n",
    "    9. Return a table including all records from both hof_inducted and hof_not_inducted, and include a new field, namefull, which is formatted as namelast , namefirst (in other words, the last name, followed by a comma, then a space, then the first name). The query should also return the yearid and inducted fields. Include only records since 1980 from both tables. Sort the resulting table by yearid, then inducted so that Y comes before N. Finally, sort by the namefull field, A to Z.\n",
    "\n",
    "            WITH all_hof AS\n",
    "            (\n",
    "            SELECT * FROM hof_inducted\n",
    "            UNION\n",
    "            SELECT * FROM hof_not_inducted\n",
    "            )\t\n",
    "            SELECT CONCAT(namelast,', ',namefirst) AS namefull, yearid, inducted\n",
    "            FROM all_hof LEFT OUTER JOIN people\n",
    "            ON all_hof.playerid = people.playerid\n",
    "            WHERE yearid >= 1980\n",
    "            ORDER BY yearid, inducted DESC, namefull;\n",
    "\n",
    "            ?? solution is different, does this solution have potential errors. And how do I check if my query is correct in general. ??\n",
    "\n",
    "    11. Select birthyear, deathyear, namefirst, and namelast of all the players born since the birth year of Babe Ruth (playerid = ruthba01). Sort the results by birth year from low to high.\n",
    "\n",
    "            SELECT birthyear, deathyear, namefirst, namelast FROM people\n",
    "            WHERE birthyear >= (SELECT birthyear FROM people WHERE playerid = 'ruthba01')\n",
    "            ORDER BY birthyear;\n",
    "\n",
    "            ?? Why does the solution need ANY when the subquery output is only one item ??\n",
    "\n",
    "- [Module 12 SQL Exam](https://github.com/cnarrieta18/Thinkful/blob/master/Thinkful_Module_12_SQL_Exam.txt)"
   ]
  },
  {
   "cell_type": "markdown",
   "metadata": {},
   "source": [
    "---\n",
    "---\n",
    "# PREVIOUS SESSIONS"
   ]
  },
  {
   "cell_type": "markdown",
   "metadata": {},
   "source": [
    "---\n",
    "## Wednesday, October 16\n",
    "\n",
    "### Module 11: SQL Foundation III\n",
    "- relational database v non-relational database?\n",
    "    NoSQL: for data that can vary\n",
    "- issues with saving queries; no access to some folders. **???**\n",
    "- check python-sql answers\n",
    "    https://github.com/cnarrieta18/Thinkful/blob/master/Thinkful_Module_11_5_SQL_Python.ipynb\n",
    "- need help understanding Primary Key and Foreign Key\n",
    "    - follow up from Seye\n",
    "    - FK is PK ambassador\n",
    "    - PK to PK is one-to-one\n",
    "    - PK to FK is one-to-many"
   ]
  },
  {
   "cell_type": "markdown",
   "metadata": {},
   "source": [
    "---\n",
    "## Tuesday, October 8\n",
    "\n",
    "### Module 9: SQL Foundation I\n",
    "- [Drill assignment](https://github.com/cnarrieta18/Thinkful/blob/master/Thinkful%20Module%209%20Drills.rtf)\n",
    "    - this is rtf format, not sure how to make txt file on mac\n"
   ]
  },
  {
   "cell_type": "markdown",
   "metadata": {},
   "source": [
    "---\n",
    "## Thursday, October 2\n",
    "\n",
    "### Updates\n",
    "- Done with Capstone 1!\n",
    "- Done with real estate class!\n",
    "- Went to a networking event with OpenOakland, civic hacking group\n",
    "    - joined open budget https://openbudgetoakland.org/\n",
    "- signed up to volunteer for West ODSC 2019 (end of October)\n",
    "    - also signed up for their career fair just in case\n",
    "\n",
    "### 8.2 Crafting Narrative\n",
    "- In progress...\n",
    "\n",
    "### 8.4 Cold Outreach\n",
    "- Picked 3 profiles on Linkedin, but have not written messages yet.\n",
    "- https://docs.google.com/document/d/1KyS5o-zOpt6s1vsTI28mjwnkqfr85x0zyeCY5moqUAM/edit\n",
    "- https://docs.google.com/spreadsheets/d/1ANMKPzo1o-Ov4D4CW5sMwzfae7zty9RjETvTKlTDLpY/edit#gid=0\n",
    "\n",
    "### 9.1 SQL Foundations 1\n",
    "- having issues downloading PostgreSQL\n",
    "    - something about ports and locale?\n",
    "- https://www.postgresql.org/download/macosx/"
   ]
  },
  {
   "cell_type": "markdown",
   "metadata": {},
   "source": [
    "---\n",
    "## Friday, August 23\n",
    "\n",
    "Seye I have been procrastinating! [Capstone 1 folder](https://github.com/cnarrieta18/Thinkful/tree/master/Capstone_1) \n",
    "\n",
    "Did get the qq plot, but not sure what to make of it\n",
    "- try to standardize the series\n",
    "\n",
    "Got the rates plotted over time\n",
    "\n",
    "Converted the 'DATE' columns, but I realized the days of the month don't line up.  Maybe just drop the day and only list in format `Y%-m%`"
   ]
  },
  {
   "cell_type": "markdown",
   "metadata": {},
   "source": [
    "---\n",
    "## Tuesday, August 20"
   ]
  },
  {
   "cell_type": "markdown",
   "metadata": {},
   "source": [
    "### Capstone 1: Analytic Report and Research Proposal\n",
    "\n",
    "**See new Capstone 1 folder**\n",
    "\n",
    "**Do independent research now about the field of data science, or discuss the topic with your mentor, to decide which potential techniques you could use.**\n",
    "\n",
    "**Goal:** to give us an understanding of your dataset and the behaviors present in it\n",
    "\t\n",
    "**Requirements:** \n",
    "- describe data set\n",
    "    - is it bias or incomplete\n",
    "\t- where it’s from, background, whats in it. \n",
    "\t- why is it important or interesting. \n",
    "\t- summary stats and visualizations of the variables\n",
    "\t- distributions of the variables\n",
    "- ask and answer analytical questions\n",
    "\t- how is this different from summary stats above?\n",
    "\t- specify assumptions\n",
    "\t- 2-3 different types of charts (bar, scatter, line, box, pie, violin)\n",
    "- propose further research\n",
    "\t- one clear question\n",
    "\t- what techniques do you want to learn and apply\n",
    "        - regression, classification, dimension reduction, cluster **???**\n",
    "\n",
    "**Capstone review:** Possible questions from person presenting to\n",
    "- Did you have any challenges with this data?\n",
    "- Why did you choose this dataset?\n",
    "- How did your dataset inform the questions you chose to explore?\n",
    "- What issues did you run into while analyzing your data?\n",
    "- Imagine someone sees this visualization out in the wild, separated from your report. What conclusions would you expect them to draw? Is that the conclusion that you want them to draw?\n",
    "- How could you make your conclusions more rigorous?\n",
    "\n",
    "**Grading Concerns:** [rubric](https://docs.google.com/spreadsheets/d/18Z0aaE6mWIhUomdzfVZqYeAzw51-iEz_lGHIPwM-3ls/edit#gid=0)\n",
    "- fully pep8 compliant\n",
    "- The student uses summary stats and statistical tests to compliment their visuals in a clear and compelling way.\n",
    "- accommodates any relevant outside information or assumptions\n",
    "- The student chooses complex questions and then breaks them down to either multiple subquestions or presents different ways of reaching a conclusion and evaluates those merits. The questions also build on each other, leading to robust and engaging conclusions."
   ]
  },
  {
   "cell_type": "markdown",
   "metadata": {},
   "source": [
    "---\n",
    "## Friday, August 16"
   ]
  },
  {
   "cell_type": "markdown",
   "metadata": {},
   "source": [
    "### HW/Module Assignments\n",
    "\n",
    "Let me know what I did well on, and where I missed and can improve on. Thanks!\n",
    "\n",
    "- [See distributions assignment.](https://github.com/cnarrieta18/Thinkful/blob/master/distributions_hw.ipynb)\n",
    "    - can we go over how descriptive stats (mean and std) provide useful information on the different distributions **??? [ANSWERED]**\n",
    "        - this ties into central limit theory (CLT). knowing the distribution provides a lot of information on the population.  however, if the distribution is unknown, which is the case with most information in the real world, these descriptive stats along with understanding of CLT can be used on sample set to learn more about the population with unknown distribution.  \n",
    "- [See central limit theory assignment.](https://github.com/cnarrieta18/Thinkful/blob/master/central_limit_theorem_hw.ipynb)"
   ]
  },
  {
   "cell_type": "markdown",
   "metadata": {},
   "source": [
    "### 6.8 Data Distributions\n",
    "\n",
    "**Normal Distribution**\n",
    "- mean and median are same because concentration is centered\n",
    "\t- so how about skews…are they no longer considered normal **??? [ANSWERED]**\n",
    "\t\t- assymetric prob: the mean is no longer a measure of \"central\" tendency, as it does not fall in the center, and the standard deviation no longer describes how much variance there is.\n",
    "- the area under the graph is 1? this is only after “normalizing”? wait is that where the word normalizing comes from **??? [ANSWERED]**\n",
    "    - normalizing is shifting center of normal distribution to 0 by subtracting mean and then scaling the range of distribution by dividing by standard deviation.  \n",
    "- “any variable that measures an outcome produced by many small effects acting additively and independently will have a close to normal distribution”\n",
    "\t- …brain fart here **[TRANSLATED BELOW]**\n",
    "        - in the real world, the compounding effects of independent variables result in a variable that resembles a normal distribution.  \n",
    "- “Lots of common scores (percentiles, z-scores) and statistical tests (t-tests, ANOVAs, bell-curve grading) assume a normal distribution”\n",
    "\t- are theses tests no longer valid outside a normal distribution **??? [ANSWERED]**\n",
    "        - these is where central limit theory comes in because the sample sets will have statistic values that are normally distributed to math the true population values \n",
    "- whether or not the test says your data is normal has more to do with how much data you have than the distribution of your data\n",
    "- **qq plot**: plotting normally distributed variable against variable with unknown distribution to determine distribution\n",
    "\n",
    "    `plt.plot(norm,rand)`\n",
    "    - **Seye, can you send a sample code that uses a non-normal distribution as the known distribution to plot against an unknown distribution?  Thanks!**\n",
    "\n",
    "**PMF (mass) v PDF (density)** \n",
    "- So I am told that mass is for discrete and density is for continuous.  Mass is concentrated on the discrete values and density is spread over the range of values **??? [ANSWERED]**\n",
    "    - Plotting histogram of PMFs will have known x-ccordinates because events are known; plotting histogram of PDFs will have high variability of x-coordinates because number of events are unknown and can be looked at as approaching infinity.\n",
    "\n",
    "**Bernoulli Distribution and Binomial Distribution**\n",
    "- why is binomial a pmf, looks like density to me.  sure it is discrete, but if n trials is made relatively large then can it be considered continuous **??? [ANSWERED]**\n",
    "    - As stated above, if amount of possible events are known/fixed and not infinite, it is PMF.\n",
    "\n",
    "**Gamma Distribution and Poisson Distribution**\n",
    "- what is the difference **??? [ANSWERED]**\n",
    "    - gamma is interested in learning about the probability of an event after a certain interval; poisson is interested in the probability of an event within different intervals. \n",
    "- Poisson is the limit of the binomial distribution for large n **???**\n",
    "\n",
    "**Conditional Distribution**\n",
    "- so this is just using a filter; distribution of a subset **???**\n",
    "\n"
   ]
  },
  {
   "cell_type": "markdown",
   "metadata": {},
   "source": [
    "### 6.9 Sampling and the Central Limit Theorem\n",
    "\n",
    "“When sampling from a population (of any distribution), as the sample size gets larger the sample means tend to follow a normal probability distribution, clustering around the true population mean.”\n",
    "- well yea, the closer to 100% then the closer to estimating the population stats summary.  but how does this help us deal with unknown distributions **???**\n",
    "\n",
    "**t-value** is the difference in sample mean of two population relative to combined variance\n",
    "- the difference between means of two different samples of two different populations\n",
    "- why is combined variance over sample size n and not (n-1) **???**\n",
    "- larger t-value means the difference in mean is less likely due to chance\n",
    "- why does noisy data have smaller difference **??? [ANSWERED]**\n",
    "    - not necessarily, noisy data just makes it hard to evaluate if the two samples are actually from different populations\n",
    "- One way to interpret a t-value is as the number of standard errors worth of space separating the group means\n",
    "    - t-value of 2 would indicate that the means are two standard errors apart **???**\n",
    "        - the standard error, which quantifies uncertainty in the estimate of the sample mean; ‘margin of error’\n",
    "\n",
    "**p-value**\n",
    "- probability that the t-value would occur by chance\n",
    "- low is good, but p-hacking bad\n",
    "- how likely we get the sample data if the two population means are actually same"
   ]
  },
  {
   "cell_type": "markdown",
   "metadata": {},
   "source": [
    "### Random Questions...\n",
    "\n",
    "- Is Spark making Hive obsolete **???**"
   ]
  },
  {
   "cell_type": "markdown",
   "metadata": {},
   "source": [
    "---\n",
    "## Tuesday, August 13"
   ]
  },
  {
   "cell_type": "code",
   "execution_count": 2,
   "metadata": {},
   "outputs": [
    {
     "data": {
      "text/plain": [
       "'555'"
      ]
     },
     "execution_count": 2,
     "metadata": {},
     "output_type": "execute_result"
    }
   ],
   "source": [
    "#Codewars Area Code HW\n",
    "def area_code(text):\n",
    "    import re #wow I hate regex\n",
    "    \n",
    "    #extract strings inside parentheses\n",
    "    text_inside_parenthesis = re.findall('\\(([^)]+)',text)\n",
    "\n",
    "    #check for number string\n",
    "    for item in text_inside_parenthesis:\n",
    "        try: \n",
    "            int(item)\n",
    "            return item\n",
    "        except ValueError:\n",
    "            pass #if list item not a string\n",
    "        \n",
    "text = \"The 88 supplier's (phone) number is (555) 867-5309\"\n",
    "area_code(text)"
   ]
  },
  {
   "cell_type": "markdown",
   "metadata": {},
   "source": [
    "**Module Assignments**\n",
    "Let me know what I did well on, and where I missed and can improve on.  Thanks!\n",
    "\n",
    "- [See stats summary assignment.](https://github.com/cnarrieta18/Thinkful/blob/master/summary_stats_hw.ipynb)\n",
    "     \n",
    "- [See probability basics assignment.](https://github.com/cnarrieta18/Thinkful/blob/master/probability_basics_hw.ipynb) \n",
    "    - The very last problem I am getting a different probability. **[ANSWERED]**\n",
    "        - the solution provided uses complement: p_wrong = 1 - p_correct\n",
    "        - where p_correct = (p_positive_given_disease x p_disease) + (p_negative_given_no_disease x p_no_disease)\n",
    "        - similarly, p_wrong = (p_negative_given_disease x p_disease) + (p_positive_given_no_disease x p_no_disease)\n",
    "            - why multiply conditional probability by marginal likelihood instead of just combining the two conditionals **?? [ANSWERED]**\n",
    "                - conditional probability is not scaled  for the population. multiplying by the marginal likelihood provides the probability of the condition within all sets of conditions. \n",
    "\n",
    "- [See evaluating data source assignment.](https://github.com/cnarrieta18/Thinkful/blob/master/evaluating_data_sources_hw.ipynb)"
   ]
  },
  {
   "cell_type": "markdown",
   "metadata": {},
   "source": [
    "### 6.5 Summary Statistics \n",
    "[OpenIntro Statistics](https://www.openintro.org/stat/labs.php?stat_lab_software=R)\n",
    "\n",
    "**Bias vs Unbias**\n",
    "- what is population value **??? [ANSWERED]** \n",
    "    - when summary statistics are derived from the population not just sample/subset\n",
    "- unbiased is when the estimates converge to population value. Estimates of sample variance divide by n - 1 (aka Bessel's correction) because dividing by n would underestimate the population variance, creating bias.\n",
    "    \n",
    "**Variance is exciting!** \n",
    "- how much variables differ from central tendency and from each other\n",
    "- highlights where some case/data points are different….good place to start asking “why is that?” \n",
    "- the average of the differences between x and mean is 0 (positives and negatives cancel out); this might explain the delta plot in previous hw\n",
    "- higher variance means higher error from actual mean\n",
    "- why square the difference over just getting absolute value **???** what is the mathematical advantage **??? [ANSWERED]**\n",
    "    - squaring the difference reduces loss of information, so standard deviation can be more descriptive of the spread.  the formula looks similar to distance between points: (x_2 - x_1)^2 + (y_2 - y_1)^2, but I'm having a hard time trying to understand how they conceptually tie together.   \n",
    "- larger sample size can help with finding mean of high variance populations **???**\n",
    "\n",
    "**Standard Deviation**\n",
    "- what is it other than square root of variance **??? [ANSWERED]**\n",
    "    - while var. gives you a rough idea of spread, the standard deviation is more concrete, giving you exact distances from the mean\n",
    "- `np.std(df['age'], ddof=1)` difference between population std (n) and sample std (n-1); when do we want which one **??? [ANSWERED]**\n",
    "    - Bessel's correction (n-1) when sample set is not too big that it is almost same size as population; when sample set is not too small that estimates are likely to be entirely off anyway.\n",
    "\n",
    "**Standard Error**\n",
    "- precision of sample mean estimate\n",
    "- aka margin of error\n",
    "\n",
    "**Pandas**\n",
    "- `.describe()` and `.value_counts()` for EDA"
   ]
  },
  {
   "cell_type": "markdown",
   "metadata": {},
   "source": [
    "### 6.6 Basics of Probability\n",
    "\n",
    "**Frequentist vs Bayesian**\n",
    "- fixed probability vs. continuously-adjusting probability\n",
    "\n",
    "**Independent vs Dependent**\n",
    "- difference between independence and mutual exclusivity **??? [ANSWERED]**\n",
    "    - independent events do not affect each other's probability\n",
    "    - mutually exclusive event have 0 probability of happening together\n",
    "\n",
    "**Baye's Rule and Conditional Probability**\n",
    "- I feel like there should be more covered on this...\n",
    "\n",
    "**Combinations and Permutations (not covered)**\n",
    "- I am still confused on when to apply which **???**\n",
    "\n",
    "**anything important missed in this module?** "
   ]
  },
  {
   "cell_type": "markdown",
   "metadata": {},
   "source": [
    "### 6.7 Evaluating Data Sources\n",
    "- what are your practices for checking quality of data **???**"
   ]
  },
  {
   "cell_type": "markdown",
   "metadata": {},
   "source": [
    "### Additional Resource...\n",
    "\n",
    "Hey Seye, I just saw this [online course](https://cdn.www.getsmarter.com/uploads/course/info_pack/125/mit_commercial_real_estate_analysis_and_investment_online_short_program_brochure.pdf) on real estate investment analysis.  I am interested in taking it along with the data science course to build domain knowledge and build my projects around the topic of real estate invesment.  It starts this Wednesday and they are still accepting enrollment.  The class is only 7-10 hours per week so I should be able to squeeze it in, I think.  Curious if you have thoughts on this."
   ]
  },
  {
   "cell_type": "markdown",
   "metadata": {},
   "source": [
    "---\n",
    "## Thursday, August 8"
   ]
  },
  {
   "cell_type": "markdown",
   "metadata": {},
   "source": [
    "### 6.2 Numpy And Pandas Basics\n",
    "\n",
    "**Pandas**:\n",
    "   - why do you need to import Numpy separately when Pandas is built on Numpy **??? [ANSWERED]**\n",
    "       - Pandas is a module.  It contains several functions that use* `import Numpy`, *but Numpy methods cannot be accessed directly from importing Pandas.\n",
    "   \n",
    "   - with dataframe filters, why is lambda considered more robust **??? [ANSWERED]**\n",
    "       - lambda allows for more complex filters. ex:\n",
    "          \n",
    "         `df.loc[lambda df: df['column'] > 1 and df['column'] < 5, :]`"
   ]
  },
  {
   "cell_type": "markdown",
   "metadata": {},
   "source": [
    "### 6.3 Working With Files\n",
    "\n",
    "   - csv is **structured** vs. JSON and XML which are **semi-structured** \n",
    "       - what is the difference **??? [ANSWERED]**\n",
    "           - Each new line of csv file will have the same count of items separated by commas.\n",
    "           - Whereas each new key-value pair of a JSON file may have different items under value\n",
    "\n",
    "[**JSON**:](https://www.json.org/)\n",
    "   - normalizing and requests; what are these, but more importantly, why are these important **??? [ANSWERED]** \n",
    "       - this describes the interaction when transferring JSON files\n",
    "\n",
    "**io.py**: `open()`, `close()`, `with`, `write()`, `readline()`, `readlines()`, mode; this is what was covered\n",
    "   - when is `open()` preferred over pandas read methods like `read_csv()`, `read_html()`, etc. **??? [ANSWERED]**\n",
    "       - when data is not a fixed size, and there is a need to access new entries to update model\n",
    "   - how important is this in the professional world **??? [ANSWERED]**\n",
    "       - as data scientist, pandas read methods are mostly used to to perform EDA\n",
    "    \n",
    "**encoding issues**: \n",
    "   - have you had experience with this **???**  how did you know how to address the problem **???** (method, resources, etc) **[ANSWERED]**\n",
    "       - a good library will throw errors specifying the non-standard encoding (UTF8) of a file.  Pandas also has argument to skip lines that are not readable  "
   ]
  },
  {
   "cell_type": "markdown",
   "metadata": {},
   "source": [
    "### 6.4 Plotting Basics\n",
    "\n",
    "- In the lecture, it was recommended to end with `plt.show()`.  My plots are showing fine without it.  Why is this the practice they're recommending **??? [ANSWERED]**\n",
    "    - prior to the `%matplotlib inline` the plotting methods only configured the plot without directly calling out the plot to display.  similar to how specifying a variable does not automatically output the variable value.\n",
    "\n",
    "\n",
    "- There are 2 boxplots in the end of the lecture.  Compared to the first boxplot, the second boxplot is presented to show only fliers above.  The code provided shows the size argument inside `np.random.normal()` is different between the 2 boxplots.  I don't understand why this is resulting in no fliers below for the second boxplot **???**\n",
    "\n",
    "\n",
    "- In the paragraph just above the second boxplot, it states:\n",
    "\n",
    "    \"Then there are the whiskers above and below the box (these plots are sometimes called \"box and whisker plots\"). The whiskers will extend up and down up to a distance of 1.5x the IQR away from the top and bottom of the box. If all values are within that range, the whiskers will go to the max and min of the variable.\"\n",
    "\n",
    "  Is the last part saying: If there are no outliers, the whiskers represent the max and min values **??? [ANSWERED]**  \n",
    "     - I think that what it's saying.  I'm just having a brain fart right now.\n",
    "\n",
    "\n",
    "- [See plotting assignment.](https://github.com/cnarrieta18/Thinkful/blob/master/plotting_sample.ipynb)\n",
    "    Let me know what I did well on, and where I missed and can improve on.  Thanks!"
   ]
  },
  {
   "cell_type": "markdown",
   "metadata": {},
   "source": [
    "---\n",
    "## Tuesday, August 6\n",
    "\n",
    "### Resources\n",
    "\n",
    "NoSQL:"
   ]
  }
 ],
 "metadata": {
  "kernelspec": {
   "display_name": "Python 3",
   "language": "python",
   "name": "python3"
  },
  "language_info": {
   "codemirror_mode": {
    "name": "ipython",
    "version": 3
   },
   "file_extension": ".py",
   "mimetype": "text/x-python",
   "name": "python",
   "nbconvert_exporter": "python",
   "pygments_lexer": "ipython3",
   "version": "3.7.3"
  },
  "latex_envs": {
   "LaTeX_envs_menu_present": true,
   "autoclose": false,
   "autocomplete": true,
   "bibliofile": "biblio.bib",
   "cite_by": "apalike",
   "current_citInitial": 1,
   "eqLabelWithNumbers": true,
   "eqNumInitial": 1,
   "hotkeys": {
    "equation": "Ctrl-E",
    "itemize": "Ctrl-I"
   },
   "labels_anchors": false,
   "latex_user_defs": false,
   "report_style_numbering": false,
   "user_envs_cfg": false
  }
 },
 "nbformat": 4,
 "nbformat_minor": 2
}
