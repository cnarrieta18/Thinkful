{
 "cells": [
  {
   "cell_type": "markdown",
   "metadata": {},
   "source": [
    "# Assignment\n",
    "\n",
    "In this assignment, you'll be working with the [U.S. Education Dataset](https://www.kaggle.com/noriuk/us-education-datasets-unification-project) from Kaggle. The data gives detailed state level information on several facets of the state of education on an annual basis. To learn more about the data and the column descriptions, click the Kaggle link above.\n",
    "\n",
    "### Context\n",
    "\n",
    "This dataset is designed to bring together multiple facets of U.S. education data into one convenient CSV (states_all.csv). The recommended way to familiarize yourself with the data is to download and run the Data Tools Notebook.\n",
    "\n",
    "### Contents\n",
    "\n",
    "- states_all.csv: The primary data file. Contains aggregates from all state-level sources in one CSV.\n",
    "\n",
    "- states_all_extended.csv: An extended version of states_all.csv; contains detailed enrollment data for race and gender.\n",
    "\n",
    "- aggregates.zip\n",
    "\n",
    "    - naep_states.csv: Aggregated results from the National Assessment of Educational Progress (NAEP) for states.\n",
    "\n",
    "    - finance_states.csv: Aggregated financial data for states.\n",
    "\n",
    "    - finance_districts.csv: Aggregated financial data for school districts.\n",
    "\n",
    "    - enroll_states.csv: Aggregated enrollment data for states.\n",
    "\n",
    "- elsect.zip, NDE.zip, nces_enroll.zip: Source files used to create the aggregates.\n",
    "\n",
    "- sanity_check.txt: An auto-generated file that reports on nulls found in states_all.csv.\n",
    "\n",
    "- enroll_sanity_check.txt: An auto-generated file that reports on nulls found in enrollment data.\n",
    "\n",
    "### Column Breakdown\n",
    "__Identification__\n",
    "- PRIMARY_KEY: A combination of the year and state name.\n",
    "- YEAR\n",
    "- STATE\n",
    "\n",
    "__Enrollment__\n",
    "\n",
    "A breakdown of students enrolled in schools by school year.\n",
    "\n",
    "- GRADES_PK: Number of students in Pre-Kindergarten education.\n",
    "\n",
    "- GRADES_4: Number of students in fourth grade.\n",
    "\n",
    "- GRADES_8: Number of students in eighth grade.\n",
    "\n",
    "- GRADES_12: Number of students in twelfth grade.\n",
    "\n",
    "- GRADES_1_8: Number of students in the first through eighth grades.\n",
    "\n",
    "- GRADES 9_12: Number of students in the ninth through twelfth grades.\n",
    "\n",
    "- GRADES_KG_12: Number of students in Kindergarten through twelfth grade.\n",
    "\n",
    "- GRADES_ALL: The count of all students in the state. Comparable to ENROLL in the financial data (which is the U.S. Census Bureau's estimate for students in the state).\n",
    "\n",
    "The extended version of states_all contains additional columns that breakdown enrollment by race and gender. For example:\n",
    "\n",
    "- Grades_ALL_AS: Number of students whose ethnicity was classified as \"Asian\".\n",
    "\n",
    "- Grades_ALL_ASM: Number of male students whose ethnicity was classified as \"Asian\".\n",
    "\n",
    "- Grades_ALL_ASF: Number of female students whose ethnicity was classified as \"Asian\".\n",
    "\n",
    "The represented races include AM (American Indian or Alaska Native), AS (Asian), HI (Hispanic/Latino), BL (Black or African American), WH (White), HP (Hawaiian Native/Pacific Islander), and TR (Two or More Races). The represented genders include M (Male) and F (Female).\n",
    "\n",
    "__Financials__\n",
    "\n",
    "A breakdown of states by revenue and expenditure.\n",
    "\n",
    "- ENROLL: The U.S. Census Bureau's count for students in the state. Should be comparable to GRADES_ALL (which is the NCES's estimate for students in the state).\n",
    "\n",
    "- TOTAL REVENUE: The total amount of revenue for the state.\n",
    "    - FEDERAL_REVENUE\n",
    "    - STATE_REVENUE\n",
    "    - LOCAL_REVENUE\n",
    "\n",
    "- TOTAL_EXPENDITURE: The total expenditure for the state.\n",
    "    - INSTRUCTION_EXPENDITURE\n",
    "    - SUPPORT_SERVICES_EXPENDITURE\n",
    "    - CAPITAL_OUTLAY_EXPENDITURE\n",
    "    - OTHER_EXPENDITURE\n",
    "\n",
    "__Academic Achievement__\n",
    "\n",
    "A breakdown of student performance as assessed by the corresponding exams (math and reading, grades 4 and 8).\n",
    "\n",
    "- AVG_MATH_4_SCORE: The state's average score for fourth graders taking the NAEP math exam.\n",
    "\n",
    "- AVG_MATH_8_SCORE: The state's average score for eight graders taking the NAEP math exam.\n",
    "\n",
    "- AVG_READING_4_SCORE: The state's average score for fourth graders taking the NAEP reading exam.\n",
    "\n",
    "- AVG_READING_8_SCORE: The state's average score for eighth graders taking the NAEP reading exam.\n",
    "\n",
    "### Data Processing\n",
    "\n",
    "The original sources can be found here:\n",
    "\n",
    "```\n",
    "#Enrollment\n",
    "https://nces.ed.gov/ccd/stnfis.asp\n",
    "#Financials\n",
    "https://www.census.gov/programs-surveys/school-finances/data/tables.html\n",
    "#Academic Achievement\n",
    "https://www.nationsreportcard.gov/ndecore/xplore/NDE\n",
    "```\n",
    "\n",
    "Data was aggregated using a Python program I wrote. The code (and an explanation of how it works) can be found here.\n",
    "\n",
    "### Methodology Notes\n",
    "\n",
    "- Spreadsheets for NCES enrollment data for 2014, 2011, 2010, and 2009 were modified to place key data on the same sheet, making scripting easier.\n",
    "\n",
    "- The column 'ENROLL' represents the U.S. Census Bureau data value (financial data), while the column 'GRADES_ALL' represents the NCES data value (demographic data). Though the two organizations correspond on this matter, these values (which are ostensibly the same) do vary. Their documentation chalks this up to differences in membership (i.e. what is and is not a fourth grade student).\n",
    "\n",
    "- Enrollment data from NCES has seen a number of changes across survey years. One of the more notable is that data on student gender does not appear to have been collected until 2009. The information in states_all_extended.csv reflects this.\n",
    "\n",
    "- NAEP test score data is only available for certain years\n",
    "\n",
    "- The current version of this data is concerned with state-level patterns. It is the author's hope that future versions will allow for school district-level granularity.\n",
    "\n",
    "### Acknowledgements\n",
    "\n",
    "Data is sourced from the U.S. Census Bureau and the National Center for Education Statistics (NCES).\n",
    "Licensing Notes\n",
    "\n",
    "The licensing of these datasets state that it must not be used to identify specific students or schools. So don't do that.\n",
    "\n",
    "### Future Goals\n",
    "\n",
    "- Expand the assessment data processing to include race and gender.\n",
    "- Expand all data sources to work at the district level, in addition to the state level.\n",
    "- Create a version of the financial data that accounts for inflation.\n",
    "- Add college data from my other Kaggle datasets.\n",
    "- Build a validation tool that can check for incorrect data.\n"
   ]
  },
  {
   "cell_type": "code",
   "execution_count": 3,
   "metadata": {},
   "outputs": [],
   "source": [
    "import pandas as pd\n",
    "import numpy as np\n",
    "import matplotlib.pyplot as plt\n",
    "from sqlalchemy import create_engine\n",
    "import warnings\n",
    "\n",
    "warnings.filterwarnings('ignore')"
   ]
  },
  {
   "cell_type": "code",
   "execution_count": 4,
   "metadata": {},
   "outputs": [],
   "source": [
    "pd.set_option('display.max_columns', None)\n",
    "pd.set_option('display.max_rows', None)\n",
    "#pd.set_option('display.precision', None) #data output display settings\n"
   ]
  },
  {
   "cell_type": "markdown",
   "metadata": {},
   "source": [
    "Access this data from the Thinkful database using the following credentials:"
   ]
  },
  {
   "cell_type": "code",
   "execution_count": null,
   "metadata": {},
   "outputs": [],
   "source": [
    "postgres_user = 'dsbc_student'\n",
    "postgres_pw = '7*.8G9QH21'\n",
    "postgres_host = '142.93.121.174'\n",
    "postgres_port = '5432'\n",
    "postgres_db = 'useducation'\n",
    "\n",
    "engine = create_engine('postgresql://{}:{}@{}:{}/{}'.format(\n",
    "    postgres_user, postgres_pw, postgres_host, postgres_port, postgres_db))\n",
    "\n",
    "useducation_df = pd.read_sql_query('select * from useducation',con=engine)\n",
    "\n",
    "# no need for an open connection, \n",
    "# as we're only doing a single query\n",
    "engine.dispose()"
   ]
  },
  {
   "cell_type": "code",
   "execution_count": null,
   "metadata": {},
   "outputs": [],
   "source": [
    "useducation_df.to_csv('useducation.csv',index=False)"
   ]
  },
  {
   "cell_type": "code",
   "execution_count": 5,
   "metadata": {},
   "outputs": [],
   "source": [
    "useducation_df = pd.read_csv('useducation.csv')"
   ]
  },
  {
   "cell_type": "code",
   "execution_count": 6,
   "metadata": {},
   "outputs": [
    {
     "data": {
      "text/html": [
       "<div>\n",
       "<style scoped>\n",
       "    .dataframe tbody tr th:only-of-type {\n",
       "        vertical-align: middle;\n",
       "    }\n",
       "\n",
       "    .dataframe tbody tr th {\n",
       "        vertical-align: top;\n",
       "    }\n",
       "\n",
       "    .dataframe thead th {\n",
       "        text-align: right;\n",
       "    }\n",
       "</style>\n",
       "<table border=\"1\" class=\"dataframe\">\n",
       "  <thead>\n",
       "    <tr style=\"text-align: right;\">\n",
       "      <th></th>\n",
       "      <th>PRIMARY_KEY</th>\n",
       "      <th>STATE</th>\n",
       "      <th>YEAR</th>\n",
       "      <th>ENROLL</th>\n",
       "      <th>TOTAL_REVENUE</th>\n",
       "      <th>FEDERAL_REVENUE</th>\n",
       "      <th>STATE_REVENUE</th>\n",
       "      <th>LOCAL_REVENUE</th>\n",
       "      <th>TOTAL_EXPENDITURE</th>\n",
       "      <th>INSTRUCTION_EXPENDITURE</th>\n",
       "      <th>SUPPORT_SERVICES_EXPENDITURE</th>\n",
       "      <th>OTHER_EXPENDITURE</th>\n",
       "      <th>CAPITAL_OUTLAY_EXPENDITURE</th>\n",
       "      <th>GRADES_PK_G</th>\n",
       "      <th>GRADES_KG_G</th>\n",
       "      <th>GRADES_4_G</th>\n",
       "      <th>GRADES_8_G</th>\n",
       "      <th>GRADES_12_G</th>\n",
       "      <th>GRADES_1_8_G</th>\n",
       "      <th>GRADES_9_12_G</th>\n",
       "      <th>GRADES_ALL_G</th>\n",
       "      <th>AVG_MATH_4_SCORE</th>\n",
       "      <th>AVG_MATH_8_SCORE</th>\n",
       "      <th>AVG_READING_4_SCORE</th>\n",
       "      <th>AVG_READING_8_SCORE</th>\n",
       "    </tr>\n",
       "  </thead>\n",
       "  <tbody>\n",
       "    <tr>\n",
       "      <th>0</th>\n",
       "      <td>1992_ALABAMA</td>\n",
       "      <td>ALABAMA</td>\n",
       "      <td>1992</td>\n",
       "      <td>NaN</td>\n",
       "      <td>2678885.0</td>\n",
       "      <td>304177.0</td>\n",
       "      <td>1659028.0</td>\n",
       "      <td>715680.0</td>\n",
       "      <td>2653798.0</td>\n",
       "      <td>1481703.0</td>\n",
       "      <td>735036.0</td>\n",
       "      <td>NaN</td>\n",
       "      <td>174053.0</td>\n",
       "      <td>8224.0</td>\n",
       "      <td>55460.0</td>\n",
       "      <td>57948.0</td>\n",
       "      <td>58025.0</td>\n",
       "      <td>41167.0</td>\n",
       "      <td>471564.0</td>\n",
       "      <td>196386.0</td>\n",
       "      <td>676174.0</td>\n",
       "      <td>208.327876</td>\n",
       "      <td>252.187522</td>\n",
       "      <td>207.963517</td>\n",
       "      <td>NaN</td>\n",
       "    </tr>\n",
       "    <tr>\n",
       "      <th>1</th>\n",
       "      <td>1992_ALASKA</td>\n",
       "      <td>ALASKA</td>\n",
       "      <td>1992</td>\n",
       "      <td>NaN</td>\n",
       "      <td>1049591.0</td>\n",
       "      <td>106780.0</td>\n",
       "      <td>720711.0</td>\n",
       "      <td>222100.0</td>\n",
       "      <td>972488.0</td>\n",
       "      <td>498362.0</td>\n",
       "      <td>350902.0</td>\n",
       "      <td>NaN</td>\n",
       "      <td>37451.0</td>\n",
       "      <td>2371.0</td>\n",
       "      <td>10152.0</td>\n",
       "      <td>9748.0</td>\n",
       "      <td>8789.0</td>\n",
       "      <td>6714.0</td>\n",
       "      <td>79117.0</td>\n",
       "      <td>30847.0</td>\n",
       "      <td>112335.0</td>\n",
       "      <td>NaN</td>\n",
       "      <td>NaN</td>\n",
       "      <td>NaN</td>\n",
       "      <td>258.859712</td>\n",
       "    </tr>\n",
       "    <tr>\n",
       "      <th>2</th>\n",
       "      <td>1992_ARIZONA</td>\n",
       "      <td>ARIZONA</td>\n",
       "      <td>1992</td>\n",
       "      <td>NaN</td>\n",
       "      <td>3258079.0</td>\n",
       "      <td>297888.0</td>\n",
       "      <td>1369815.0</td>\n",
       "      <td>1590376.0</td>\n",
       "      <td>3401580.0</td>\n",
       "      <td>1435908.0</td>\n",
       "      <td>1007732.0</td>\n",
       "      <td>NaN</td>\n",
       "      <td>609114.0</td>\n",
       "      <td>2544.0</td>\n",
       "      <td>53497.0</td>\n",
       "      <td>55433.0</td>\n",
       "      <td>49081.0</td>\n",
       "      <td>37410.0</td>\n",
       "      <td>437127.0</td>\n",
       "      <td>175210.0</td>\n",
       "      <td>614881.0</td>\n",
       "      <td>215.253932</td>\n",
       "      <td>265.366278</td>\n",
       "      <td>206.212716</td>\n",
       "      <td>262.169895</td>\n",
       "    </tr>\n",
       "    <tr>\n",
       "      <th>3</th>\n",
       "      <td>1992_ARKANSAS</td>\n",
       "      <td>ARKANSAS</td>\n",
       "      <td>1992</td>\n",
       "      <td>NaN</td>\n",
       "      <td>1711959.0</td>\n",
       "      <td>178571.0</td>\n",
       "      <td>958785.0</td>\n",
       "      <td>574603.0</td>\n",
       "      <td>1743022.0</td>\n",
       "      <td>964323.0</td>\n",
       "      <td>483488.0</td>\n",
       "      <td>NaN</td>\n",
       "      <td>145212.0</td>\n",
       "      <td>808.0</td>\n",
       "      <td>33511.0</td>\n",
       "      <td>34632.0</td>\n",
       "      <td>36011.0</td>\n",
       "      <td>27651.0</td>\n",
       "      <td>281338.0</td>\n",
       "      <td>123113.0</td>\n",
       "      <td>405259.0</td>\n",
       "      <td>210.206028</td>\n",
       "      <td>256.312090</td>\n",
       "      <td>208.634458</td>\n",
       "      <td>264.619665</td>\n",
       "    </tr>\n",
       "    <tr>\n",
       "      <th>4</th>\n",
       "      <td>1992_CALIFORNIA</td>\n",
       "      <td>CALIFORNIA</td>\n",
       "      <td>1992</td>\n",
       "      <td>NaN</td>\n",
       "      <td>26260025.0</td>\n",
       "      <td>2072470.0</td>\n",
       "      <td>16546514.0</td>\n",
       "      <td>7641041.0</td>\n",
       "      <td>27138832.0</td>\n",
       "      <td>14358922.0</td>\n",
       "      <td>8520926.0</td>\n",
       "      <td>NaN</td>\n",
       "      <td>2044688.0</td>\n",
       "      <td>59067.0</td>\n",
       "      <td>431763.0</td>\n",
       "      <td>418418.0</td>\n",
       "      <td>363296.0</td>\n",
       "      <td>270675.0</td>\n",
       "      <td>3286034.0</td>\n",
       "      <td>1372011.0</td>\n",
       "      <td>4717112.0</td>\n",
       "      <td>208.398961</td>\n",
       "      <td>260.892247</td>\n",
       "      <td>196.764414</td>\n",
       "      <td>NaN</td>\n",
       "    </tr>\n",
       "  </tbody>\n",
       "</table>\n",
       "</div>"
      ],
      "text/plain": [
       "       PRIMARY_KEY       STATE  YEAR  ENROLL  TOTAL_REVENUE  FEDERAL_REVENUE  \\\n",
       "0     1992_ALABAMA     ALABAMA  1992     NaN      2678885.0         304177.0   \n",
       "1      1992_ALASKA      ALASKA  1992     NaN      1049591.0         106780.0   \n",
       "2     1992_ARIZONA     ARIZONA  1992     NaN      3258079.0         297888.0   \n",
       "3    1992_ARKANSAS    ARKANSAS  1992     NaN      1711959.0         178571.0   \n",
       "4  1992_CALIFORNIA  CALIFORNIA  1992     NaN     26260025.0        2072470.0   \n",
       "\n",
       "   STATE_REVENUE  LOCAL_REVENUE  TOTAL_EXPENDITURE  INSTRUCTION_EXPENDITURE  \\\n",
       "0      1659028.0       715680.0          2653798.0                1481703.0   \n",
       "1       720711.0       222100.0           972488.0                 498362.0   \n",
       "2      1369815.0      1590376.0          3401580.0                1435908.0   \n",
       "3       958785.0       574603.0          1743022.0                 964323.0   \n",
       "4     16546514.0      7641041.0         27138832.0               14358922.0   \n",
       "\n",
       "   SUPPORT_SERVICES_EXPENDITURE  OTHER_EXPENDITURE  \\\n",
       "0                      735036.0                NaN   \n",
       "1                      350902.0                NaN   \n",
       "2                     1007732.0                NaN   \n",
       "3                      483488.0                NaN   \n",
       "4                     8520926.0                NaN   \n",
       "\n",
       "   CAPITAL_OUTLAY_EXPENDITURE  GRADES_PK_G  GRADES_KG_G  GRADES_4_G  \\\n",
       "0                    174053.0       8224.0      55460.0     57948.0   \n",
       "1                     37451.0       2371.0      10152.0      9748.0   \n",
       "2                    609114.0       2544.0      53497.0     55433.0   \n",
       "3                    145212.0        808.0      33511.0     34632.0   \n",
       "4                   2044688.0      59067.0     431763.0    418418.0   \n",
       "\n",
       "   GRADES_8_G  GRADES_12_G  GRADES_1_8_G  GRADES_9_12_G  GRADES_ALL_G  \\\n",
       "0     58025.0      41167.0      471564.0       196386.0      676174.0   \n",
       "1      8789.0       6714.0       79117.0        30847.0      112335.0   \n",
       "2     49081.0      37410.0      437127.0       175210.0      614881.0   \n",
       "3     36011.0      27651.0      281338.0       123113.0      405259.0   \n",
       "4    363296.0     270675.0     3286034.0      1372011.0     4717112.0   \n",
       "\n",
       "   AVG_MATH_4_SCORE  AVG_MATH_8_SCORE  AVG_READING_4_SCORE  \\\n",
       "0        208.327876        252.187522           207.963517   \n",
       "1               NaN               NaN                  NaN   \n",
       "2        215.253932        265.366278           206.212716   \n",
       "3        210.206028        256.312090           208.634458   \n",
       "4        208.398961        260.892247           196.764414   \n",
       "\n",
       "   AVG_READING_8_SCORE  \n",
       "0                  NaN  \n",
       "1           258.859712  \n",
       "2           262.169895  \n",
       "3           264.619665  \n",
       "4                  NaN  "
      ]
     },
     "execution_count": 6,
     "metadata": {},
     "output_type": "execute_result"
    }
   ],
   "source": [
    "useducation_df.head(5)"
   ]
  },
  {
   "cell_type": "markdown",
   "metadata": {},
   "source": [
    "Don't forget to apply the most suitable missing value filling techniques from the previous checkpoint to the data. Provide the answers to the following only *after* you've addressed missing values!"
   ]
  },
  {
   "cell_type": "code",
   "execution_count": 7,
   "metadata": {},
   "outputs": [],
   "source": [
    "useducation2_df = useducation_df.copy()\n",
    "\n",
    "fill_list = [\"ENROLL\", \"TOTAL_REVENUE\", \"FEDERAL_REVENUE\", \n",
    "             \"STATE_REVENUE\", \"LOCAL_REVENUE\", \"TOTAL_EXPENDITURE\", \n",
    "             \"INSTRUCTION_EXPENDITURE\", \"SUPPORT_SERVICES_EXPENDITURE\",\n",
    "             \"OTHER_EXPENDITURE\", \"CAPITAL_OUTLAY_EXPENDITURE\", \"GRADES_PK_G\", \n",
    "             \"GRADES_KG_G\", \"GRADES_4_G\", \"GRADES_8_G\", \"GRADES_12_G\", \"GRADES_1_8_G\", \n",
    "             \"GRADES_9_12_G\", \"GRADES_ALL_G\"]\n",
    "\n",
    "states = useducation2_df[\"STATE\"].unique()\n",
    "\n",
    "# for col in fill_list:\n",
    "#     for year in years:\n",
    "#         useducation2_df.loc[useducation2_df[\"YEAR\"] == year, col] = useducation2_df.loc[useducation2_df[\"YEAR\"] == year, col].fillna(\n",
    "#             useducation2_df[useducation2_df[\"YEAR\"] == year][col].mean())\n",
    "\n",
    "# for col in fill_list:\n",
    "#     useducation2_df.loc[:, col] = useducation2_df.loc[:, col].interpolate(limit_direction='both')\n",
    "\n",
    "for state in states:\n",
    "    useducation2_df.loc[useducation2_df[\"STATE\"] == state, fill_list] = useducation2_df.loc[useducation2_df[\"STATE\"] == state, fill_list].interpolate()\n",
    "\n",
    "# we drop the null values after interpolation\n",
    "useducation2_df.dropna(inplace=True)"
   ]
  },
  {
   "cell_type": "code",
   "execution_count": 8,
   "metadata": {},
   "outputs": [
    {
     "name": "stdout",
     "output_type": "stream",
     "text": [
      "<class 'pandas.core.frame.DataFrame'>\n",
      "Int64Index: 466 entries, 209 to 1491\n",
      "Data columns (total 25 columns):\n",
      "PRIMARY_KEY                     466 non-null object\n",
      "STATE                           466 non-null object\n",
      "YEAR                            466 non-null int64\n",
      "ENROLL                          466 non-null float64\n",
      "TOTAL_REVENUE                   466 non-null float64\n",
      "FEDERAL_REVENUE                 466 non-null float64\n",
      "STATE_REVENUE                   466 non-null float64\n",
      "LOCAL_REVENUE                   466 non-null float64\n",
      "TOTAL_EXPENDITURE               466 non-null float64\n",
      "INSTRUCTION_EXPENDITURE         466 non-null float64\n",
      "SUPPORT_SERVICES_EXPENDITURE    466 non-null float64\n",
      "OTHER_EXPENDITURE               466 non-null float64\n",
      "CAPITAL_OUTLAY_EXPENDITURE      466 non-null float64\n",
      "GRADES_PK_G                     466 non-null float64\n",
      "GRADES_KG_G                     466 non-null float64\n",
      "GRADES_4_G                      466 non-null float64\n",
      "GRADES_8_G                      466 non-null float64\n",
      "GRADES_12_G                     466 non-null float64\n",
      "GRADES_1_8_G                    466 non-null float64\n",
      "GRADES_9_12_G                   466 non-null float64\n",
      "GRADES_ALL_G                    466 non-null float64\n",
      "AVG_MATH_4_SCORE                466 non-null float64\n",
      "AVG_MATH_8_SCORE                466 non-null float64\n",
      "AVG_READING_4_SCORE             466 non-null float64\n",
      "AVG_READING_8_SCORE             466 non-null float64\n",
      "dtypes: float64(22), int64(1), object(2)\n",
      "memory usage: 94.7+ KB\n"
     ]
    }
   ],
   "source": [
    "useducation2_df.info()"
   ]
  },
  {
   "cell_type": "markdown",
   "metadata": {},
   "source": [
    "### 1. Consider the two variables: *TOTAL_REVENUE* and *TOTAL_EXPENDITURE*. Do these variables have outlier values?"
   ]
  },
  {
   "cell_type": "code",
   "execution_count": 9,
   "metadata": {},
   "outputs": [
    {
     "data": {
      "image/png": "[encoded data removed]",
      "text/plain": [
       "<Figure size 1440x360 with 2 Axes>"
      ]
     },
     "metadata": {
      "needs_background": "light"
     },
     "output_type": "display_data"
    }
   ],
   "source": [
    "plt.figure(figsize = [20,5])\n",
    "\n",
    "plt.subplot(1,2,1)\n",
    "plt.boxplot(useducation2_df['TOTAL_REVENUE'])\n",
    "plt.title('Total Revenue')\n",
    "\n",
    "plt.subplot(1,2,2)\n",
    "plt.boxplot(useducation2_df['TOTAL_EXPENDITURE'])\n",
    "plt.title('Total Expenditure');"
   ]
  },
  {
   "cell_type": "markdown",
   "metadata": {},
   "source": [
    "### 2. If you detect outliers in the *TOTAL_REVENUE* and *TOTAL_EXPENDITURE* variables, apply the techniques you learned in this checkpoint to eliminate them and validate that there's no outlier values after you handled them."
   ]
  },
  {
   "cell_type": "code",
   "execution_count": 10,
   "metadata": {},
   "outputs": [
    {
     "data": {
      "image/png": "[encoded data removed]",
      "text/plain": [
       "<Figure size 1440x360 with 2 Axes>"
      ]
     },
     "metadata": {
      "needs_background": "light"
     },
     "output_type": "display_data"
    }
   ],
   "source": [
    "#cap method\n",
    "useducation3_df = useducation2_df.copy()\n",
    "\n",
    "from scipy.stats.mstats import winsorize\n",
    "# We apply one-way winsorization to the highest end\n",
    "# of the value distribution. As we have a lot of extreme\n",
    "# values, we set the values of the outliers to the \n",
    "# value of the 90th percentile. \n",
    "winsorized_total_rev = winsorize(useducation3_df['TOTAL_REVENUE'], (0, 0.10))\n",
    "winsorized_total_exp = winsorize(useducation3_df['TOTAL_REVENUE'], (0, 0.10))\n",
    "\n",
    "plt.figure(figsize = [20,5])\n",
    "\n",
    "plt.subplot(1,2,1)\n",
    "plt.boxplot(winsorized_total_rev)\n",
    "plt.title('Total Revenue')\n",
    "\n",
    "plt.subplot(1,2,2)\n",
    "plt.boxplot(winsorized_total_exp)\n",
    "plt.title('Total Expenditure');"
   ]
  },
  {
   "cell_type": "code",
   "execution_count": 11,
   "metadata": {},
   "outputs": [
    {
     "data": {
      "image/png": "[encoded data removed]",
      "text/plain": [
       "<Figure size 1440x360 with 2 Axes>"
      ]
     },
     "metadata": {
      "needs_background": "light"
     },
     "output_type": "display_data"
    }
   ],
   "source": [
    "#transformation method\n",
    "#keeps information\n",
    "useducation4_df = useducation2_df.copy()\n",
    "\n",
    "plt.figure(figsize = [20,5])\n",
    "\n",
    "plt.subplot(1,2,1)\n",
    "plt.boxplot(np.log(useducation4_df['TOTAL_REVENUE']))\n",
    "plt.title('Total Revenue')\n",
    "\n",
    "plt.subplot(1,2,2)\n",
    "plt.boxplot(np.log(useducation4_df['TOTAL_EXPENDITURE']))\n",
    "plt.title('Total Expenditure');"
   ]
  },
  {
   "cell_type": "markdown",
   "metadata": {},
   "source": [
    "### 3. Create another variable by subtracting the original *TOTAL_EXPENDITURE* from *TOTAL_REVENUE* (before you eliminated the outliers). You can think of it as a kind of budget deficit in education. Do you find any outlier values in this new variable? If so, eliminate them using the technique you think most suitable."
   ]
  },
  {
   "cell_type": "code",
   "execution_count": 44,
   "metadata": {
    "scrolled": true
   },
   "outputs": [
    {
     "data": {
      "image/png": "[encoded data removed]",
      "text/plain": [
       "<Figure size 1440x360 with 2 Axes>"
      ]
     },
     "metadata": {
      "needs_background": "light"
     },
     "output_type": "display_data"
    }
   ],
   "source": [
    "budget_deficit = useducation2_df['TOTAL_REVENUE'] - useducation2_df['TOTAL_EXPENDITURE']\n",
    "\n",
    "plt.figure(figsize=[20,5])\n",
    "plt.suptitle('budget_deficit')\n",
    "\n",
    "plt.subplot(1,2,1)\n",
    "plt.boxplot(budget_deficit, whis=5)\n",
    "plt.title('boxplot')\n",
    "\n",
    "plt.subplot(1,2,2)\n",
    "plt.hist(budget_deficit)\n",
    "plt.title('histogram');"
   ]
  },
  {
   "cell_type": "code",
   "execution_count": 45,
   "metadata": {},
   "outputs": [
    {
     "data": {
      "image/png": "[encoded data removed]",
      "text/plain": [
       "<Figure size 432x288 with 1 Axes>"
      ]
     },
     "metadata": {
      "needs_background": "light"
     },
     "output_type": "display_data"
    }
   ],
   "source": [
    "winsorized_budget_deficit = pd.Series(winsorize(budget_deficit, (0.05, 0.05)))\n",
    "\n",
    "plt.boxplot(winsorized_budget_deficit)\n",
    "plt.title('winsorized_budget_deficit');"
   ]
  },
  {
   "cell_type": "code",
   "execution_count": 33,
   "metadata": {},
   "outputs": [
    {
     "data": {
      "image/png": "[encoded data removed]",
      "text/plain": [
       "<Figure size 1440x360 with 2 Axes>"
      ]
     },
     "metadata": {
      "needs_background": "light"
     },
     "output_type": "display_data"
    }
   ],
   "source": [
    "plt.figure(figsize=[20,5])\n",
    "plt.suptitle('transformed budget_deficit')\n",
    "\n",
    "plt.subplot(1,2,1)\n",
    "plt.boxplot(np.log(budget_deficit))   # what happened to boxplot?\n",
    "plt.title('boxplot')\n",
    "\n",
    "plt.subplot(1,2,2)\n",
    "plt.hist(np.log(budget_deficit))\n",
    "plt.title('histogram');"
   ]
  },
  {
   "cell_type": "markdown",
   "metadata": {},
   "source": [
    "### 4. Now create another variable by subtracting the *TOTAL_EXPENDITURE* from *TOTAL_REVENUE*. This time, use the outlier eliminated versions of *TOTAL_EXPENDITURE* from *TOTAL_REVENUE*. In this newly created variable, can you find any outliers? If so, eliminate them."
   ]
  },
  {
   "cell_type": "code",
   "execution_count": 26,
   "metadata": {},
   "outputs": [
    {
     "data": {
      "image/png": "[encoded data removed]",
      "text/plain": [
       "<Figure size 1440x360 with 2 Axes>"
      ]
     },
     "metadata": {
      "needs_background": "light"
     },
     "output_type": "display_data"
    }
   ],
   "source": [
    "log_budget_deficit = np.log(useducation4_df['TOTAL_REVENUE']) - np.log(useducation4_df['TOTAL_EXPENDITURE'])\n",
    "\n",
    "plt.figure(figsize=[20,5])\n",
    "plt.suptitle('log_budget_deficit')\n",
    "\n",
    "plt.subplot(1,2,1)\n",
    "plt.boxplot(log_budget_deficit)\n",
    "plt.title('boxplot')\n",
    "\n",
    "plt.subplot(1,2,2)\n",
    "plt.hist(log_budget_deficit)\n",
    "plt.title('histogram');"
   ]
  },
  {
   "cell_type": "code",
   "execution_count": 46,
   "metadata": {},
   "outputs": [
    {
     "data": {
      "image/png": "[encoded data removed]",
      "text/plain": [
       "<Figure size 432x288 with 1 Axes>"
      ]
     },
     "metadata": {
      "needs_background": "light"
     },
     "output_type": "display_data"
    }
   ],
   "source": [
    "winsorized_log_budget_deficit = pd.Series(winsorize(log_budget_deficit, (0.05, 0.05)))\n",
    "\n",
    "plt.boxplot(winsorized_log_budget_deficit)\n",
    "plt.title('winsorized_log_budget_deficit');"
   ]
  },
  {
   "cell_type": "code",
   "execution_count": 34,
   "metadata": {},
   "outputs": [
    {
     "data": {
      "image/png": "[encoded data removed]",
      "text/plain": [
       "<Figure size 1440x360 with 2 Axes>"
      ]
     },
     "metadata": {
      "needs_background": "light"
     },
     "output_type": "display_data"
    }
   ],
   "source": [
    "plt.figure(figsize=[20,5])\n",
    "plt.suptitle('transformed log_budget_deficit')\n",
    "\n",
    "plt.subplot(1,2,1)\n",
    "plt.boxplot(np.log(log_budget_deficit))\n",
    "plt.title('boxplot')\n",
    "\n",
    "plt.subplot(1,2,2)\n",
    "plt.hist(np.log(log_budget_deficit))\n",
    "plt.title('histogram');"
   ]
  },
  {
   "cell_type": "markdown",
   "metadata": {},
   "source": [
    "### 5. Compare some basic descriptive statistics of the budget variables you end up with in the 3rd and the 4th questions. Do you see any differences?"
   ]
  },
  {
   "cell_type": "code",
   "execution_count": 47,
   "metadata": {},
   "outputs": [
    {
     "data": {
      "text/html": [
       "<div>\n",
       "<style scoped>\n",
       "    .dataframe tbody tr th:only-of-type {\n",
       "        vertical-align: middle;\n",
       "    }\n",
       "\n",
       "    .dataframe tbody tr th {\n",
       "        vertical-align: top;\n",
       "    }\n",
       "\n",
       "    .dataframe thead th {\n",
       "        text-align: right;\n",
       "    }\n",
       "</style>\n",
       "<table border=\"1\" class=\"dataframe\">\n",
       "  <thead>\n",
       "    <tr style=\"text-align: right;\">\n",
       "      <th></th>\n",
       "      <th>budget_deficit</th>\n",
       "      <th>win_budget_deficit</th>\n",
       "      <th>transfomed_budget_deficit</th>\n",
       "      <th>win_logbudget_deficit</th>\n",
       "      <th>transformed_log_budget_deficit</th>\n",
       "    </tr>\n",
       "  </thead>\n",
       "  <tbody>\n",
       "    <tr>\n",
       "      <th>count</th>\n",
       "      <td>4.660000e+02</td>\n",
       "      <td>466.000000</td>\n",
       "      <td>210.000000</td>\n",
       "      <td>466.000000</td>\n",
       "      <td>210.000000</td>\n",
       "    </tr>\n",
       "    <tr>\n",
       "      <th>mean</th>\n",
       "      <td>-8.094882e+04</td>\n",
       "      <td>-58733.012876</td>\n",
       "      <td>11.563910</td>\n",
       "      <td>-0.004379</td>\n",
       "      <td>-3.989854</td>\n",
       "    </tr>\n",
       "    <tr>\n",
       "      <th>std</th>\n",
       "      <td>6.144222e+05</td>\n",
       "      <td>341300.816505</td>\n",
       "      <td>1.530029</td>\n",
       "      <td>0.035994</td>\n",
       "      <td>1.212102</td>\n",
       "    </tr>\n",
       "    <tr>\n",
       "      <th>min</th>\n",
       "      <td>-5.487742e+06</td>\n",
       "      <td>-913765.000000</td>\n",
       "      <td>4.890349</td>\n",
       "      <td>-0.078248</td>\n",
       "      <td>-10.671270</td>\n",
       "    </tr>\n",
       "    <tr>\n",
       "      <th>25%</th>\n",
       "      <td>-1.965748e+05</td>\n",
       "      <td>-196574.750000</td>\n",
       "      <td>10.614953</td>\n",
       "      <td>-0.027006</td>\n",
       "      <td>-4.558066</td>\n",
       "    </tr>\n",
       "    <tr>\n",
       "      <th>50%</th>\n",
       "      <td>-8.872500e+03</td>\n",
       "      <td>-8872.500000</td>\n",
       "      <td>11.743080</td>\n",
       "      <td>-0.002581</td>\n",
       "      <td>-3.891711</td>\n",
       "    </tr>\n",
       "    <tr>\n",
       "      <th>75%</th>\n",
       "      <td>1.013948e+05</td>\n",
       "      <td>101394.750000</td>\n",
       "      <td>12.669830</td>\n",
       "      <td>0.017292</td>\n",
       "      <td>-3.161971</td>\n",
       "    </tr>\n",
       "    <tr>\n",
       "      <th>max</th>\n",
       "      <td>3.897129e+06</td>\n",
       "      <td>560511.000000</td>\n",
       "      <td>15.175751</td>\n",
       "      <td>0.062606</td>\n",
       "      <td>-1.185737</td>\n",
       "    </tr>\n",
       "  </tbody>\n",
       "</table>\n",
       "</div>"
      ],
      "text/plain": [
       "       budget_deficit  win_budget_deficit  transfomed_budget_deficit  \\\n",
       "count    4.660000e+02          466.000000                 210.000000   \n",
       "mean    -8.094882e+04       -58733.012876                  11.563910   \n",
       "std      6.144222e+05       341300.816505                   1.530029   \n",
       "min     -5.487742e+06      -913765.000000                   4.890349   \n",
       "25%     -1.965748e+05      -196574.750000                  10.614953   \n",
       "50%     -8.872500e+03        -8872.500000                  11.743080   \n",
       "75%      1.013948e+05       101394.750000                  12.669830   \n",
       "max      3.897129e+06       560511.000000                  15.175751   \n",
       "\n",
       "       win_logbudget_deficit  transformed_log_budget_deficit  \n",
       "count             466.000000                      210.000000  \n",
       "mean               -0.004379                       -3.989854  \n",
       "std                 0.035994                        1.212102  \n",
       "min                -0.078248                      -10.671270  \n",
       "25%                -0.027006                       -4.558066  \n",
       "50%                -0.002581                       -3.891711  \n",
       "75%                 0.017292                       -3.161971  \n",
       "max                 0.062606                       -1.185737  "
      ]
     },
     "execution_count": 47,
     "metadata": {},
     "output_type": "execute_result"
    }
   ],
   "source": [
    "budget_df = pd.concat([budget_deficit, \n",
    "                       winsorized_budget_deficit, \n",
    "                       np.log(budget_deficit), \n",
    "                       winsorized_log_budget_deficit, \n",
    "                       np.log(log_budget_deficit)\n",
    "                      ], \n",
    "                      axis=1).describe()\n",
    "budget_df.columns = ['budget_deficit', \n",
    "                     'win_budget_deficit', \n",
    "                     'transfomed_budget_deficit', \n",
    "                     'win_logbudget_deficit', \n",
    "                     'transformed_log_budget_deficit']\n",
    "\n",
    "budget_df\n",
    "# why does the log transformation reduce the count from 466 to 210?"
   ]
  },
  {
   "cell_type": "markdown",
   "metadata": {},
   "source": [
    "### 6. If our variable of interest is the budget deficit variable, which method do you think is the appropriate in dealing with the outliers in this variable: the method in the 3rd question or the one in the 4th question?"
   ]
  },
  {
   "cell_type": "markdown",
   "metadata": {},
   "source": [
    "It looks like doing a cap after transformation is not a good way to remove outliers; the change in the data set does not seem to make sense.  The first cap method directly done on the copy of the original dataset is most appropriate since it most closely resembles the original data set. "
   ]
  },
  {
   "cell_type": "code",
   "execution_count": null,
   "metadata": {},
   "outputs": [],
   "source": []
  }
 ],
 "metadata": {
  "kernelspec": {
   "display_name": "Python 3",
   "language": "python",
   "name": "python3"
  },
  "language_info": {
   "codemirror_mode": {
    "name": "ipython",
    "version": 3
   },
   "file_extension": ".py",
   "mimetype": "text/x-python",
   "name": "python",
   "nbconvert_exporter": "python",
   "pygments_lexer": "ipython3",
   "version": "3.7.3"
  }
 },
 "nbformat": 4,
 "nbformat_minor": 2
}
