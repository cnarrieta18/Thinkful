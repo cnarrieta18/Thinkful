{
 "cells": [
  {
   "cell_type": "markdown",
   "metadata": {},
   "source": [
    "# Describe the Dataset"
   ]
  },
  {
   "cell_type": "markdown",
   "metadata": {},
   "source": [
    "What does your data contain and what is its background? **Conditions/Assumptions:**\n",
    "\n",
    "**Data Source:** check for bias and nulls\n",
    "There are two datasets used in this project.  The first source is from Fred Economic Data [link here](https://fred.stlouisfed.org/series/MORTGAGE30US). The second source is from [link here](\n",
    "https://www.kaggle.com/federalreserve/interest-rates/version/1).\n",
    "\n",
    "Why is it interesting or significant? \n",
    "\n",
    "**Metrics:** \n",
    "- Summary stats (mean, median, mode, std)\n",
    "- variable visualization (distributions and qq plots ie: gamma)\n",
    "    - mortgage rate\n",
    "    - inflation rate\n",
    "\n",
    "summary statistics \n",
    "\n",
    "visualizations for the variables (distributions and qq plots)\n",
    "\n",
    "**Tools:** Python, Pandas, Numpy, Matplotlib"
   ]
  },
  {
   "cell_type": "markdown",
   "metadata": {},
   "source": [
    "# The Dataset\n",
    "\n",
    "There are two datasets collected and analyzed for this capstone project:"
   ]
  },
  {
   "cell_type": "markdown",
   "metadata": {},
   "source": [
    "### Mortgage Rates\n",
    "\n",
    "Mortgage rates obviously affect the real estate market, which further influences the US economy.  Lower mortgage rates can make the net cost of homeownership more affordable to more people.  However, it can also be said that the increase in affordability introduces more competing buyers that lead to increase in sale price.  \n",
    "\n",
    "The drop in mortgage rates continues to stimulate the real estate market and the economy. Home purchase demand is up five percent from a year ago and has noticeably strengthened since the early summer months, while refinances surged to their highest share in three and a half years. Households that refinanced in the second quarter of 2019 will save an average of $1,700 a year, which is equivalent to about $140 each month. The benefit of lower mortgage rates is not only shoring up home sales, but also providing support to homeowner balance sheets via higher monthly cash flow and steadily rising home equity."
   ]
  },
  {
   "cell_type": "markdown",
   "metadata": {},
   "source": [
    "## Interest Rates and Economic Indicator\n",
    "\n",
    "Context\n",
    "\n",
    "The Federal Reserve sets interest rates to promote conditions that achieve the mandate set by the Congress — high employment, low and stable inflation, sustainable economic growth, and moderate long-term interest rates. Interest rates set by the Fed directly influence the cost of borrowing money. Lower interest rates encourage more people to obtain a mortgage for a new home or to borrow money for an automobile or for home improvement. Lower rates encourage businesses to borrow funds to invest in expansion such as purchasing new equipment, updating plants, or hiring more workers. Higher interest rates restrain such borrowing by consumers and businesses.\n",
    "\n",
    "Content\n",
    "\n",
    "This dataset includes data on the economic conditions in the United States on a monthly basis since 1954. The federal funds rate is the interest rate at which depository institutions trade federal funds (balances held at Federal Reserve Banks) with each other overnight. The rate that the borrowing institution pays to the lending institution is determined between the two banks; the weighted average rate for all of these types of negotiations is called the effective federal funds rate. The effective federal funds rate is determined by the market but is influenced by the Federal Reserve through open market operations to reach the federal funds rate target. The Federal Open Market Committee (FOMC) meets eight times a year to determine the federal funds target rate; the target rate transitioned to a target range with an upper and lower limit in December 2008. The real gross domestic product is calculated as the seasonally adjusted quarterly rate of change in the gross domestic product based on chained 2009 dollars. The unemployment rate represents the number of unemployed as a seasonally adjusted percentage of the labor force. The inflation rate reflects the monthly change in the Consumer Price Index of products excluding food and energy.\n",
    "\n",
    "Acknowledgements\n",
    "\n",
    "The interest rate data was published by the Federal Reserve Bank of St. Louis' economic data portal. The gross domestic product data was provided by the US Bureau of Economic Analysis; the unemployment and consumer price index data was provided by the US Bureau of Labor Statistics.\n",
    "\n",
    "Inspiration\n",
    "\n",
    "How does economic growth, unemployment, and inflation impact the Federal Reserve's interest rates decisions? How has the interest rate policy changed over time? Can you predict the Federal Reserve's next decision? Will the target range set in March 2017 be increased, decreased, or remain the same?"
   ]
  },
  {
   "cell_type": "markdown",
   "metadata": {},
   "source": []
  },
  {
   "cell_type": "markdown",
   "metadata": {},
   "source": [
    "# Ask and Answer Analytical Questions"
   ]
  },
  {
   "cell_type": "markdown",
   "metadata": {},
   "source": [
    "Ask three analytic questions; use statistics and visualizations. can focus on individuals behaviors or comparisons of the population."
   ]
  },
  {
   "cell_type": "markdown",
   "metadata": {},
   "source": [
    "# DATA INSIGHTS"
   ]
  },
  {
   "cell_type": "markdown",
   "metadata": {},
   "source": [
    "**Question 1:** From plotting the 30yr US Mortgage rate, the all time high of +18% is said to be in response to the high inflation rate at the time (1980s recession). Is there a correlation between mortgage rate and inflation rate after 1980?"
   ]
  },
  {
   "cell_type": "markdown",
   "metadata": {},
   "source": [
    "**Question 2:** The federal funds rate (interest rate) is reactive and manually set by the government.  With economic health as a big concern, we can expect it to respond to the behavior of inflation.  What behaviors are observed between the two rates based on the data?"
   ]
  },
  {
   "cell_type": "markdown",
   "metadata": {},
   "source": [
    "**Question 3:** Average duraton between interest rates (federal funds rate) cut and interest rates increase (need to specify tolerance to define significant interest hikes).  There is a belief that when Feds lower the interest rate, an increase will take a long time. "
   ]
  },
  {
   "cell_type": "markdown",
   "metadata": {},
   "source": [
    "**Conclusion/Recommendations**"
   ]
  },
  {
   "cell_type": "markdown",
   "metadata": {},
   "source": [
    "# FUTURE MODELING\n",
    "\n",
    "models to use: OLS then maybe time-series\n",
    "\n",
    "\n",
    "proposal using data science techniques\n",
    "\n",
    "one or more clear questions\n",
    "\n",
    "describe the techniques to answer\n",
    "\n",
    "Goal, Why, and How"
   ]
  },
  {
   "cell_type": "markdown",
   "metadata": {},
   "source": [
    "# APPENDIX\n",
    "\n",
    "python codes\n",
    "\n",
    "additional tables\n",
    "\n",
    "additional plots\n",
    "\n",
    "challenges/issues"
   ]
  }
 ],
 "metadata": {
  "kernelspec": {
   "display_name": "Python 3",
   "language": "python",
   "name": "python3"
  },
  "language_info": {
   "codemirror_mode": {
    "name": "ipython",
    "version": 3
   },
   "file_extension": ".py",
   "mimetype": "text/x-python",
   "name": "python",
   "nbconvert_exporter": "python",
   "pygments_lexer": "ipython3",
   "version": "3.7.3"
  }
 },
 "nbformat": 4,
 "nbformat_minor": 2
}
