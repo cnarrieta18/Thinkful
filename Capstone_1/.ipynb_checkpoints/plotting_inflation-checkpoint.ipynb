{
 "cells": [
  {
   "cell_type": "code",
   "execution_count": 1,
   "metadata": {},
   "outputs": [],
   "source": [
    "%matplotlib inline\n",
    "import matplotlib.pyplot as plt\n",
    "import pandas as pd\n",
    "import numpy as np"
   ]
  },
  {
   "cell_type": "code",
   "execution_count": 2,
   "metadata": {},
   "outputs": [],
   "source": [
    "#data output display settings\n",
    "pd.set_option('display.max_columns', None)\n",
    "pd.set_option('display.max_rows', 12)\n",
    "#pd.set_option('display.precision', 3)) "
   ]
  },
  {
   "cell_type": "markdown",
   "metadata": {},
   "source": [
    "# Inflation Rates Dataset\n",
    "\n",
    "https://www.kaggle.com/federalreserve/interest-rates/downloads/interest-rates.zip/1"
   ]
  },
  {
   "cell_type": "code",
   "execution_count": 3,
   "metadata": {},
   "outputs": [],
   "source": [
    "inflation_rates = pd.read_csv('../sample_data/index.csv')"
   ]
  },
  {
   "cell_type": "markdown",
   "metadata": {},
   "source": [
    "# Exploring the data"
   ]
  },
  {
   "cell_type": "code",
   "execution_count": 4,
   "metadata": {},
   "outputs": [
    {
     "data": {
      "text/html": [
       "<div>\n",
       "<style scoped>\n",
       "    .dataframe tbody tr th:only-of-type {\n",
       "        vertical-align: middle;\n",
       "    }\n",
       "\n",
       "    .dataframe tbody tr th {\n",
       "        vertical-align: top;\n",
       "    }\n",
       "\n",
       "    .dataframe thead th {\n",
       "        text-align: right;\n",
       "    }\n",
       "</style>\n",
       "<table border=\"1\" class=\"dataframe\">\n",
       "  <thead>\n",
       "    <tr style=\"text-align: right;\">\n",
       "      <th></th>\n",
       "      <th>Year</th>\n",
       "      <th>Month</th>\n",
       "      <th>Day</th>\n",
       "      <th>Federal Funds Target Rate</th>\n",
       "      <th>Federal Funds Upper Target</th>\n",
       "      <th>Federal Funds Lower Target</th>\n",
       "      <th>Effective Federal Funds Rate</th>\n",
       "      <th>Real GDP (Percent Change)</th>\n",
       "      <th>Unemployment Rate</th>\n",
       "      <th>Inflation Rate</th>\n",
       "    </tr>\n",
       "  </thead>\n",
       "  <tbody>\n",
       "    <tr>\n",
       "      <th>0</th>\n",
       "      <td>1954</td>\n",
       "      <td>7</td>\n",
       "      <td>1</td>\n",
       "      <td>NaN</td>\n",
       "      <td>NaN</td>\n",
       "      <td>NaN</td>\n",
       "      <td>0.80</td>\n",
       "      <td>4.6</td>\n",
       "      <td>5.8</td>\n",
       "      <td>NaN</td>\n",
       "    </tr>\n",
       "    <tr>\n",
       "      <th>1</th>\n",
       "      <td>1954</td>\n",
       "      <td>8</td>\n",
       "      <td>1</td>\n",
       "      <td>NaN</td>\n",
       "      <td>NaN</td>\n",
       "      <td>NaN</td>\n",
       "      <td>1.22</td>\n",
       "      <td>NaN</td>\n",
       "      <td>6.0</td>\n",
       "      <td>NaN</td>\n",
       "    </tr>\n",
       "    <tr>\n",
       "      <th>2</th>\n",
       "      <td>1954</td>\n",
       "      <td>9</td>\n",
       "      <td>1</td>\n",
       "      <td>NaN</td>\n",
       "      <td>NaN</td>\n",
       "      <td>NaN</td>\n",
       "      <td>1.06</td>\n",
       "      <td>NaN</td>\n",
       "      <td>6.1</td>\n",
       "      <td>NaN</td>\n",
       "    </tr>\n",
       "    <tr>\n",
       "      <th>3</th>\n",
       "      <td>1954</td>\n",
       "      <td>10</td>\n",
       "      <td>1</td>\n",
       "      <td>NaN</td>\n",
       "      <td>NaN</td>\n",
       "      <td>NaN</td>\n",
       "      <td>0.85</td>\n",
       "      <td>8.0</td>\n",
       "      <td>5.7</td>\n",
       "      <td>NaN</td>\n",
       "    </tr>\n",
       "    <tr>\n",
       "      <th>4</th>\n",
       "      <td>1954</td>\n",
       "      <td>11</td>\n",
       "      <td>1</td>\n",
       "      <td>NaN</td>\n",
       "      <td>NaN</td>\n",
       "      <td>NaN</td>\n",
       "      <td>0.83</td>\n",
       "      <td>NaN</td>\n",
       "      <td>5.3</td>\n",
       "      <td>NaN</td>\n",
       "    </tr>\n",
       "    <tr>\n",
       "      <th>5</th>\n",
       "      <td>1954</td>\n",
       "      <td>12</td>\n",
       "      <td>1</td>\n",
       "      <td>NaN</td>\n",
       "      <td>NaN</td>\n",
       "      <td>NaN</td>\n",
       "      <td>1.28</td>\n",
       "      <td>NaN</td>\n",
       "      <td>5.0</td>\n",
       "      <td>NaN</td>\n",
       "    </tr>\n",
       "    <tr>\n",
       "      <th>...</th>\n",
       "      <td>...</td>\n",
       "      <td>...</td>\n",
       "      <td>...</td>\n",
       "      <td>...</td>\n",
       "      <td>...</td>\n",
       "      <td>...</td>\n",
       "      <td>...</td>\n",
       "      <td>...</td>\n",
       "      <td>...</td>\n",
       "      <td>...</td>\n",
       "    </tr>\n",
       "    <tr>\n",
       "      <th>898</th>\n",
       "      <td>2016</td>\n",
       "      <td>12</td>\n",
       "      <td>1</td>\n",
       "      <td>NaN</td>\n",
       "      <td>0.50</td>\n",
       "      <td>0.25</td>\n",
       "      <td>0.54</td>\n",
       "      <td>NaN</td>\n",
       "      <td>4.7</td>\n",
       "      <td>2.2</td>\n",
       "    </tr>\n",
       "    <tr>\n",
       "      <th>899</th>\n",
       "      <td>2016</td>\n",
       "      <td>12</td>\n",
       "      <td>14</td>\n",
       "      <td>NaN</td>\n",
       "      <td>0.75</td>\n",
       "      <td>0.50</td>\n",
       "      <td>NaN</td>\n",
       "      <td>NaN</td>\n",
       "      <td>NaN</td>\n",
       "      <td>NaN</td>\n",
       "    </tr>\n",
       "    <tr>\n",
       "      <th>900</th>\n",
       "      <td>2017</td>\n",
       "      <td>1</td>\n",
       "      <td>1</td>\n",
       "      <td>NaN</td>\n",
       "      <td>0.75</td>\n",
       "      <td>0.50</td>\n",
       "      <td>0.65</td>\n",
       "      <td>NaN</td>\n",
       "      <td>4.8</td>\n",
       "      <td>2.3</td>\n",
       "    </tr>\n",
       "    <tr>\n",
       "      <th>901</th>\n",
       "      <td>2017</td>\n",
       "      <td>2</td>\n",
       "      <td>1</td>\n",
       "      <td>NaN</td>\n",
       "      <td>0.75</td>\n",
       "      <td>0.50</td>\n",
       "      <td>0.66</td>\n",
       "      <td>NaN</td>\n",
       "      <td>4.7</td>\n",
       "      <td>2.2</td>\n",
       "    </tr>\n",
       "    <tr>\n",
       "      <th>902</th>\n",
       "      <td>2017</td>\n",
       "      <td>3</td>\n",
       "      <td>1</td>\n",
       "      <td>NaN</td>\n",
       "      <td>0.75</td>\n",
       "      <td>0.50</td>\n",
       "      <td>NaN</td>\n",
       "      <td>NaN</td>\n",
       "      <td>NaN</td>\n",
       "      <td>NaN</td>\n",
       "    </tr>\n",
       "    <tr>\n",
       "      <th>903</th>\n",
       "      <td>2017</td>\n",
       "      <td>3</td>\n",
       "      <td>16</td>\n",
       "      <td>NaN</td>\n",
       "      <td>1.00</td>\n",
       "      <td>0.75</td>\n",
       "      <td>NaN</td>\n",
       "      <td>NaN</td>\n",
       "      <td>NaN</td>\n",
       "      <td>NaN</td>\n",
       "    </tr>\n",
       "  </tbody>\n",
       "</table>\n",
       "<p>904 rows × 10 columns</p>\n",
       "</div>"
      ],
      "text/plain": [
       "     Year  Month  Day  Federal Funds Target Rate  Federal Funds Upper Target  \\\n",
       "0    1954      7    1                        NaN                         NaN   \n",
       "1    1954      8    1                        NaN                         NaN   \n",
       "2    1954      9    1                        NaN                         NaN   \n",
       "3    1954     10    1                        NaN                         NaN   \n",
       "4    1954     11    1                        NaN                         NaN   \n",
       "5    1954     12    1                        NaN                         NaN   \n",
       "..    ...    ...  ...                        ...                         ...   \n",
       "898  2016     12    1                        NaN                        0.50   \n",
       "899  2016     12   14                        NaN                        0.75   \n",
       "900  2017      1    1                        NaN                        0.75   \n",
       "901  2017      2    1                        NaN                        0.75   \n",
       "902  2017      3    1                        NaN                        0.75   \n",
       "903  2017      3   16                        NaN                        1.00   \n",
       "\n",
       "     Federal Funds Lower Target  Effective Federal Funds Rate  \\\n",
       "0                           NaN                          0.80   \n",
       "1                           NaN                          1.22   \n",
       "2                           NaN                          1.06   \n",
       "3                           NaN                          0.85   \n",
       "4                           NaN                          0.83   \n",
       "5                           NaN                          1.28   \n",
       "..                          ...                           ...   \n",
       "898                        0.25                          0.54   \n",
       "899                        0.50                           NaN   \n",
       "900                        0.50                          0.65   \n",
       "901                        0.50                          0.66   \n",
       "902                        0.50                           NaN   \n",
       "903                        0.75                           NaN   \n",
       "\n",
       "     Real GDP (Percent Change)  Unemployment Rate  Inflation Rate  \n",
       "0                          4.6                5.8             NaN  \n",
       "1                          NaN                6.0             NaN  \n",
       "2                          NaN                6.1             NaN  \n",
       "3                          8.0                5.7             NaN  \n",
       "4                          NaN                5.3             NaN  \n",
       "5                          NaN                5.0             NaN  \n",
       "..                         ...                ...             ...  \n",
       "898                        NaN                4.7             2.2  \n",
       "899                        NaN                NaN             NaN  \n",
       "900                        NaN                4.8             2.3  \n",
       "901                        NaN                4.7             2.2  \n",
       "902                        NaN                NaN             NaN  \n",
       "903                        NaN                NaN             NaN  \n",
       "\n",
       "[904 rows x 10 columns]"
      ]
     },
     "execution_count": 4,
     "metadata": {},
     "output_type": "execute_result"
    }
   ],
   "source": [
    "#preview the dataframe we're working with\n",
    "inflation_rates"
   ]
  },
  {
   "cell_type": "code",
   "execution_count": 5,
   "metadata": {},
   "outputs": [
    {
     "name": "stdout",
     "output_type": "stream",
     "text": [
      "<class 'pandas.core.frame.DataFrame'>\n",
      "RangeIndex: 904 entries, 0 to 903\n",
      "Data columns (total 10 columns):\n",
      "Year                            904 non-null int64\n",
      "Month                           904 non-null int64\n",
      "Day                             904 non-null int64\n",
      "Federal Funds Target Rate       462 non-null float64\n",
      "Federal Funds Upper Target      103 non-null float64\n",
      "Federal Funds Lower Target      103 non-null float64\n",
      "Effective Federal Funds Rate    752 non-null float64\n",
      "Real GDP (Percent Change)       250 non-null float64\n",
      "Unemployment Rate               752 non-null float64\n",
      "Inflation Rate                  710 non-null float64\n",
      "dtypes: float64(7), int64(3)\n",
      "memory usage: 70.7 KB\n"
     ]
    }
   ],
   "source": [
    "#check for data types and null values\n",
    "inflation_rates.info()"
   ]
  },
  {
   "cell_type": "code",
   "execution_count": 6,
   "metadata": {},
   "outputs": [
    {
     "data": {
      "text/plain": [
       "array([1954, 1955, 1956, 1957, 1958, 1959, 1960, 1961, 1962, 1963, 1964,\n",
       "       1965, 1966, 1967, 1968, 1969, 1970, 1971, 1972, 1973, 1974, 1975,\n",
       "       1976, 1977, 1978, 1979, 1980, 1981, 1982, 1983, 1984, 1985, 1986,\n",
       "       1987, 1988, 1989, 1990, 1991, 1992, 1993, 1994, 1995, 1996, 1997,\n",
       "       1998, 1999, 2000, 2001, 2002, 2003, 2004, 2005, 2006, 2007, 2008,\n",
       "       2009, 2010, 2011, 2012, 2013, 2014, 2015, 2016, 2017])"
      ]
     },
     "execution_count": 6,
     "metadata": {},
     "output_type": "execute_result"
    }
   ],
   "source": [
    "inflation_rates['Year'].unique()"
   ]
  },
  {
   "cell_type": "code",
   "execution_count": 6,
   "metadata": {},
   "outputs": [],
   "source": [
    "# filter by date to match mortgage rate data\n",
    "inflation_rates = inflation_rates[(inflation_rates['Day'] == 1) & (inflation_rates['Year'] > 1970)].reset_index()\n",
    "\n",
    "# drop last row wth null inflation rate\n",
    "inflation_rates.drop(axis=0,index=len(inflation_rates)-1,inplace=True)\n",
    "# inflation_rates['Inflation Rate'].dropna(axis=0, how='any', inplace=True)"
   ]
  },
  {
   "cell_type": "code",
   "execution_count": 8,
   "metadata": {},
   "outputs": [
    {
     "name": "stdout",
     "output_type": "stream",
     "text": [
      "<class 'pandas.core.frame.DataFrame'>\n",
      "Int64Index: 554 entries, 0 to 553\n",
      "Data columns (total 11 columns):\n",
      "index                           554 non-null int64\n",
      "Year                            554 non-null int64\n",
      "Month                           554 non-null int64\n",
      "Day                             554 non-null int64\n",
      "Federal Funds Target Rate       315 non-null float64\n",
      "Federal Funds Upper Target      98 non-null float64\n",
      "Federal Funds Lower Target      98 non-null float64\n",
      "Effective Federal Funds Rate    554 non-null float64\n",
      "Real GDP (Percent Change)       184 non-null float64\n",
      "Unemployment Rate               554 non-null float64\n",
      "Inflation Rate                  554 non-null float64\n",
      "dtypes: float64(7), int64(4)\n",
      "memory usage: 51.9 KB\n"
     ]
    }
   ],
   "source": [
    "inflation_rates.info()"
   ]
  },
  {
   "cell_type": "code",
   "execution_count": 7,
   "metadata": {
    "scrolled": true
   },
   "outputs": [
    {
     "data": {
      "text/html": [
       "<div>\n",
       "<style scoped>\n",
       "    .dataframe tbody tr th:only-of-type {\n",
       "        vertical-align: middle;\n",
       "    }\n",
       "\n",
       "    .dataframe tbody tr th {\n",
       "        vertical-align: top;\n",
       "    }\n",
       "\n",
       "    .dataframe thead th {\n",
       "        text-align: right;\n",
       "    }\n",
       "</style>\n",
       "<table border=\"1\" class=\"dataframe\">\n",
       "  <thead>\n",
       "    <tr style=\"text-align: right;\">\n",
       "      <th></th>\n",
       "      <th>index</th>\n",
       "      <th>Year</th>\n",
       "      <th>Month</th>\n",
       "      <th>Day</th>\n",
       "      <th>Federal Funds Target Rate</th>\n",
       "      <th>Federal Funds Upper Target</th>\n",
       "      <th>Federal Funds Lower Target</th>\n",
       "      <th>Effective Federal Funds Rate</th>\n",
       "      <th>Real GDP (Percent Change)</th>\n",
       "      <th>Unemployment Rate</th>\n",
       "      <th>Inflation Rate</th>\n",
       "    </tr>\n",
       "  </thead>\n",
       "  <tbody>\n",
       "    <tr>\n",
       "      <th>0</th>\n",
       "      <td>198</td>\n",
       "      <td>1971-1-1</td>\n",
       "      <td>1</td>\n",
       "      <td>1</td>\n",
       "      <td>NaN</td>\n",
       "      <td>NaN</td>\n",
       "      <td>NaN</td>\n",
       "      <td>4.14</td>\n",
       "      <td>11.1</td>\n",
       "      <td>5.9</td>\n",
       "      <td>6.3</td>\n",
       "    </tr>\n",
       "    <tr>\n",
       "      <th>1</th>\n",
       "      <td>199</td>\n",
       "      <td>1971-2-1</td>\n",
       "      <td>2</td>\n",
       "      <td>1</td>\n",
       "      <td>NaN</td>\n",
       "      <td>NaN</td>\n",
       "      <td>NaN</td>\n",
       "      <td>3.72</td>\n",
       "      <td>NaN</td>\n",
       "      <td>5.9</td>\n",
       "      <td>5.8</td>\n",
       "    </tr>\n",
       "    <tr>\n",
       "      <th>2</th>\n",
       "      <td>200</td>\n",
       "      <td>1971-3-1</td>\n",
       "      <td>3</td>\n",
       "      <td>1</td>\n",
       "      <td>NaN</td>\n",
       "      <td>NaN</td>\n",
       "      <td>NaN</td>\n",
       "      <td>3.71</td>\n",
       "      <td>NaN</td>\n",
       "      <td>6.0</td>\n",
       "      <td>5.2</td>\n",
       "    </tr>\n",
       "    <tr>\n",
       "      <th>3</th>\n",
       "      <td>201</td>\n",
       "      <td>1971-4-1</td>\n",
       "      <td>4</td>\n",
       "      <td>1</td>\n",
       "      <td>NaN</td>\n",
       "      <td>NaN</td>\n",
       "      <td>NaN</td>\n",
       "      <td>4.15</td>\n",
       "      <td>2.3</td>\n",
       "      <td>5.9</td>\n",
       "      <td>5.0</td>\n",
       "    </tr>\n",
       "    <tr>\n",
       "      <th>4</th>\n",
       "      <td>202</td>\n",
       "      <td>1971-5-1</td>\n",
       "      <td>5</td>\n",
       "      <td>1</td>\n",
       "      <td>NaN</td>\n",
       "      <td>NaN</td>\n",
       "      <td>NaN</td>\n",
       "      <td>4.63</td>\n",
       "      <td>NaN</td>\n",
       "      <td>5.9</td>\n",
       "      <td>5.2</td>\n",
       "    </tr>\n",
       "    <tr>\n",
       "      <th>5</th>\n",
       "      <td>203</td>\n",
       "      <td>1971-6-1</td>\n",
       "      <td>6</td>\n",
       "      <td>1</td>\n",
       "      <td>NaN</td>\n",
       "      <td>NaN</td>\n",
       "      <td>NaN</td>\n",
       "      <td>4.91</td>\n",
       "      <td>NaN</td>\n",
       "      <td>5.9</td>\n",
       "      <td>4.9</td>\n",
       "    </tr>\n",
       "    <tr>\n",
       "      <th>...</th>\n",
       "      <td>...</td>\n",
       "      <td>...</td>\n",
       "      <td>...</td>\n",
       "      <td>...</td>\n",
       "      <td>...</td>\n",
       "      <td>...</td>\n",
       "      <td>...</td>\n",
       "      <td>...</td>\n",
       "      <td>...</td>\n",
       "      <td>...</td>\n",
       "      <td>...</td>\n",
       "    </tr>\n",
       "    <tr>\n",
       "      <th>548</th>\n",
       "      <td>895</td>\n",
       "      <td>2016-9-1</td>\n",
       "      <td>9</td>\n",
       "      <td>1</td>\n",
       "      <td>NaN</td>\n",
       "      <td>0.50</td>\n",
       "      <td>0.25</td>\n",
       "      <td>0.40</td>\n",
       "      <td>NaN</td>\n",
       "      <td>4.9</td>\n",
       "      <td>2.2</td>\n",
       "    </tr>\n",
       "    <tr>\n",
       "      <th>549</th>\n",
       "      <td>896</td>\n",
       "      <td>2016-10-1</td>\n",
       "      <td>10</td>\n",
       "      <td>1</td>\n",
       "      <td>NaN</td>\n",
       "      <td>0.50</td>\n",
       "      <td>0.25</td>\n",
       "      <td>0.40</td>\n",
       "      <td>1.9</td>\n",
       "      <td>4.8</td>\n",
       "      <td>2.1</td>\n",
       "    </tr>\n",
       "    <tr>\n",
       "      <th>550</th>\n",
       "      <td>897</td>\n",
       "      <td>2016-11-1</td>\n",
       "      <td>11</td>\n",
       "      <td>1</td>\n",
       "      <td>NaN</td>\n",
       "      <td>0.50</td>\n",
       "      <td>0.25</td>\n",
       "      <td>0.41</td>\n",
       "      <td>NaN</td>\n",
       "      <td>4.6</td>\n",
       "      <td>2.1</td>\n",
       "    </tr>\n",
       "    <tr>\n",
       "      <th>551</th>\n",
       "      <td>898</td>\n",
       "      <td>2016-12-1</td>\n",
       "      <td>12</td>\n",
       "      <td>1</td>\n",
       "      <td>NaN</td>\n",
       "      <td>0.50</td>\n",
       "      <td>0.25</td>\n",
       "      <td>0.54</td>\n",
       "      <td>NaN</td>\n",
       "      <td>4.7</td>\n",
       "      <td>2.2</td>\n",
       "    </tr>\n",
       "    <tr>\n",
       "      <th>552</th>\n",
       "      <td>900</td>\n",
       "      <td>2017-1-1</td>\n",
       "      <td>1</td>\n",
       "      <td>1</td>\n",
       "      <td>NaN</td>\n",
       "      <td>0.75</td>\n",
       "      <td>0.50</td>\n",
       "      <td>0.65</td>\n",
       "      <td>NaN</td>\n",
       "      <td>4.8</td>\n",
       "      <td>2.3</td>\n",
       "    </tr>\n",
       "    <tr>\n",
       "      <th>553</th>\n",
       "      <td>901</td>\n",
       "      <td>2017-2-1</td>\n",
       "      <td>2</td>\n",
       "      <td>1</td>\n",
       "      <td>NaN</td>\n",
       "      <td>0.75</td>\n",
       "      <td>0.50</td>\n",
       "      <td>0.66</td>\n",
       "      <td>NaN</td>\n",
       "      <td>4.7</td>\n",
       "      <td>2.2</td>\n",
       "    </tr>\n",
       "  </tbody>\n",
       "</table>\n",
       "<p>554 rows × 11 columns</p>\n",
       "</div>"
      ],
      "text/plain": [
       "     index       Year  Month  Day  Federal Funds Target Rate  \\\n",
       "0      198   1971-1-1      1    1                        NaN   \n",
       "1      199   1971-2-1      2    1                        NaN   \n",
       "2      200   1971-3-1      3    1                        NaN   \n",
       "3      201   1971-4-1      4    1                        NaN   \n",
       "4      202   1971-5-1      5    1                        NaN   \n",
       "5      203   1971-6-1      6    1                        NaN   \n",
       "..     ...        ...    ...  ...                        ...   \n",
       "548    895   2016-9-1      9    1                        NaN   \n",
       "549    896  2016-10-1     10    1                        NaN   \n",
       "550    897  2016-11-1     11    1                        NaN   \n",
       "551    898  2016-12-1     12    1                        NaN   \n",
       "552    900   2017-1-1      1    1                        NaN   \n",
       "553    901   2017-2-1      2    1                        NaN   \n",
       "\n",
       "     Federal Funds Upper Target  Federal Funds Lower Target  \\\n",
       "0                           NaN                         NaN   \n",
       "1                           NaN                         NaN   \n",
       "2                           NaN                         NaN   \n",
       "3                           NaN                         NaN   \n",
       "4                           NaN                         NaN   \n",
       "5                           NaN                         NaN   \n",
       "..                          ...                         ...   \n",
       "548                        0.50                        0.25   \n",
       "549                        0.50                        0.25   \n",
       "550                        0.50                        0.25   \n",
       "551                        0.50                        0.25   \n",
       "552                        0.75                        0.50   \n",
       "553                        0.75                        0.50   \n",
       "\n",
       "     Effective Federal Funds Rate  Real GDP (Percent Change)  \\\n",
       "0                            4.14                       11.1   \n",
       "1                            3.72                        NaN   \n",
       "2                            3.71                        NaN   \n",
       "3                            4.15                        2.3   \n",
       "4                            4.63                        NaN   \n",
       "5                            4.91                        NaN   \n",
       "..                            ...                        ...   \n",
       "548                          0.40                        NaN   \n",
       "549                          0.40                        1.9   \n",
       "550                          0.41                        NaN   \n",
       "551                          0.54                        NaN   \n",
       "552                          0.65                        NaN   \n",
       "553                          0.66                        NaN   \n",
       "\n",
       "     Unemployment Rate  Inflation Rate  \n",
       "0                  5.9             6.3  \n",
       "1                  5.9             5.8  \n",
       "2                  6.0             5.2  \n",
       "3                  5.9             5.0  \n",
       "4                  5.9             5.2  \n",
       "5                  5.9             4.9  \n",
       "..                 ...             ...  \n",
       "548                4.9             2.2  \n",
       "549                4.8             2.1  \n",
       "550                4.6             2.1  \n",
       "551                4.7             2.2  \n",
       "552                4.8             2.3  \n",
       "553                4.7             2.2  \n",
       "\n",
       "[554 rows x 11 columns]"
      ]
     },
     "execution_count": 7,
     "metadata": {},
     "output_type": "execute_result"
    }
   ],
   "source": [
    "#combine date columns under one column\n",
    "inflation_rates.loc[:, ['Year']] = inflation_rates['Year'].astype(str) + '-' + inflation_rates['Month'].astype(str) + '-' + inflation_rates['Day'].astype(str)\n",
    "inflation_rates"
   ]
  },
  {
   "cell_type": "code",
   "execution_count": 8,
   "metadata": {
    "scrolled": true
   },
   "outputs": [
    {
     "data": {
      "text/html": [
       "<div>\n",
       "<style scoped>\n",
       "    .dataframe tbody tr th:only-of-type {\n",
       "        vertical-align: middle;\n",
       "    }\n",
       "\n",
       "    .dataframe tbody tr th {\n",
       "        vertical-align: top;\n",
       "    }\n",
       "\n",
       "    .dataframe thead th {\n",
       "        text-align: right;\n",
       "    }\n",
       "</style>\n",
       "<table border=\"1\" class=\"dataframe\">\n",
       "  <thead>\n",
       "    <tr style=\"text-align: right;\">\n",
       "      <th></th>\n",
       "      <th>DATE</th>\n",
       "      <th>Federal Funds Target Rate</th>\n",
       "      <th>Federal Funds Upper Target</th>\n",
       "      <th>Federal Funds Lower Target</th>\n",
       "      <th>Effective Federal Funds Rate</th>\n",
       "      <th>Real GDP (Percent Change)</th>\n",
       "      <th>Unemployment Rate</th>\n",
       "      <th>Inflation Rate</th>\n",
       "    </tr>\n",
       "  </thead>\n",
       "  <tbody>\n",
       "    <tr>\n",
       "      <th>0</th>\n",
       "      <td>1971-1-1</td>\n",
       "      <td>NaN</td>\n",
       "      <td>NaN</td>\n",
       "      <td>NaN</td>\n",
       "      <td>4.14</td>\n",
       "      <td>11.1</td>\n",
       "      <td>5.9</td>\n",
       "      <td>6.3</td>\n",
       "    </tr>\n",
       "    <tr>\n",
       "      <th>1</th>\n",
       "      <td>1971-2-1</td>\n",
       "      <td>NaN</td>\n",
       "      <td>NaN</td>\n",
       "      <td>NaN</td>\n",
       "      <td>3.72</td>\n",
       "      <td>NaN</td>\n",
       "      <td>5.9</td>\n",
       "      <td>5.8</td>\n",
       "    </tr>\n",
       "    <tr>\n",
       "      <th>2</th>\n",
       "      <td>1971-3-1</td>\n",
       "      <td>NaN</td>\n",
       "      <td>NaN</td>\n",
       "      <td>NaN</td>\n",
       "      <td>3.71</td>\n",
       "      <td>NaN</td>\n",
       "      <td>6.0</td>\n",
       "      <td>5.2</td>\n",
       "    </tr>\n",
       "    <tr>\n",
       "      <th>3</th>\n",
       "      <td>1971-4-1</td>\n",
       "      <td>NaN</td>\n",
       "      <td>NaN</td>\n",
       "      <td>NaN</td>\n",
       "      <td>4.15</td>\n",
       "      <td>2.3</td>\n",
       "      <td>5.9</td>\n",
       "      <td>5.0</td>\n",
       "    </tr>\n",
       "    <tr>\n",
       "      <th>4</th>\n",
       "      <td>1971-5-1</td>\n",
       "      <td>NaN</td>\n",
       "      <td>NaN</td>\n",
       "      <td>NaN</td>\n",
       "      <td>4.63</td>\n",
       "      <td>NaN</td>\n",
       "      <td>5.9</td>\n",
       "      <td>5.2</td>\n",
       "    </tr>\n",
       "    <tr>\n",
       "      <th>5</th>\n",
       "      <td>1971-6-1</td>\n",
       "      <td>NaN</td>\n",
       "      <td>NaN</td>\n",
       "      <td>NaN</td>\n",
       "      <td>4.91</td>\n",
       "      <td>NaN</td>\n",
       "      <td>5.9</td>\n",
       "      <td>4.9</td>\n",
       "    </tr>\n",
       "    <tr>\n",
       "      <th>...</th>\n",
       "      <td>...</td>\n",
       "      <td>...</td>\n",
       "      <td>...</td>\n",
       "      <td>...</td>\n",
       "      <td>...</td>\n",
       "      <td>...</td>\n",
       "      <td>...</td>\n",
       "      <td>...</td>\n",
       "    </tr>\n",
       "    <tr>\n",
       "      <th>548</th>\n",
       "      <td>2016-9-1</td>\n",
       "      <td>NaN</td>\n",
       "      <td>0.50</td>\n",
       "      <td>0.25</td>\n",
       "      <td>0.40</td>\n",
       "      <td>NaN</td>\n",
       "      <td>4.9</td>\n",
       "      <td>2.2</td>\n",
       "    </tr>\n",
       "    <tr>\n",
       "      <th>549</th>\n",
       "      <td>2016-10-1</td>\n",
       "      <td>NaN</td>\n",
       "      <td>0.50</td>\n",
       "      <td>0.25</td>\n",
       "      <td>0.40</td>\n",
       "      <td>1.9</td>\n",
       "      <td>4.8</td>\n",
       "      <td>2.1</td>\n",
       "    </tr>\n",
       "    <tr>\n",
       "      <th>550</th>\n",
       "      <td>2016-11-1</td>\n",
       "      <td>NaN</td>\n",
       "      <td>0.50</td>\n",
       "      <td>0.25</td>\n",
       "      <td>0.41</td>\n",
       "      <td>NaN</td>\n",
       "      <td>4.6</td>\n",
       "      <td>2.1</td>\n",
       "    </tr>\n",
       "    <tr>\n",
       "      <th>551</th>\n",
       "      <td>2016-12-1</td>\n",
       "      <td>NaN</td>\n",
       "      <td>0.50</td>\n",
       "      <td>0.25</td>\n",
       "      <td>0.54</td>\n",
       "      <td>NaN</td>\n",
       "      <td>4.7</td>\n",
       "      <td>2.2</td>\n",
       "    </tr>\n",
       "    <tr>\n",
       "      <th>552</th>\n",
       "      <td>2017-1-1</td>\n",
       "      <td>NaN</td>\n",
       "      <td>0.75</td>\n",
       "      <td>0.50</td>\n",
       "      <td>0.65</td>\n",
       "      <td>NaN</td>\n",
       "      <td>4.8</td>\n",
       "      <td>2.3</td>\n",
       "    </tr>\n",
       "    <tr>\n",
       "      <th>553</th>\n",
       "      <td>2017-2-1</td>\n",
       "      <td>NaN</td>\n",
       "      <td>0.75</td>\n",
       "      <td>0.50</td>\n",
       "      <td>0.66</td>\n",
       "      <td>NaN</td>\n",
       "      <td>4.7</td>\n",
       "      <td>2.2</td>\n",
       "    </tr>\n",
       "  </tbody>\n",
       "</table>\n",
       "<p>554 rows × 8 columns</p>\n",
       "</div>"
      ],
      "text/plain": [
       "          DATE  Federal Funds Target Rate  Federal Funds Upper Target  \\\n",
       "0     1971-1-1                        NaN                         NaN   \n",
       "1     1971-2-1                        NaN                         NaN   \n",
       "2     1971-3-1                        NaN                         NaN   \n",
       "3     1971-4-1                        NaN                         NaN   \n",
       "4     1971-5-1                        NaN                         NaN   \n",
       "5     1971-6-1                        NaN                         NaN   \n",
       "..         ...                        ...                         ...   \n",
       "548   2016-9-1                        NaN                        0.50   \n",
       "549  2016-10-1                        NaN                        0.50   \n",
       "550  2016-11-1                        NaN                        0.50   \n",
       "551  2016-12-1                        NaN                        0.50   \n",
       "552   2017-1-1                        NaN                        0.75   \n",
       "553   2017-2-1                        NaN                        0.75   \n",
       "\n",
       "     Federal Funds Lower Target  Effective Federal Funds Rate  \\\n",
       "0                           NaN                          4.14   \n",
       "1                           NaN                          3.72   \n",
       "2                           NaN                          3.71   \n",
       "3                           NaN                          4.15   \n",
       "4                           NaN                          4.63   \n",
       "5                           NaN                          4.91   \n",
       "..                          ...                           ...   \n",
       "548                        0.25                          0.40   \n",
       "549                        0.25                          0.40   \n",
       "550                        0.25                          0.41   \n",
       "551                        0.25                          0.54   \n",
       "552                        0.50                          0.65   \n",
       "553                        0.50                          0.66   \n",
       "\n",
       "     Real GDP (Percent Change)  Unemployment Rate  Inflation Rate  \n",
       "0                         11.1                5.9             6.3  \n",
       "1                          NaN                5.9             5.8  \n",
       "2                          NaN                6.0             5.2  \n",
       "3                          2.3                5.9             5.0  \n",
       "4                          NaN                5.9             5.2  \n",
       "5                          NaN                5.9             4.9  \n",
       "..                         ...                ...             ...  \n",
       "548                        NaN                4.9             2.2  \n",
       "549                        1.9                4.8             2.1  \n",
       "550                        NaN                4.6             2.1  \n",
       "551                        NaN                4.7             2.2  \n",
       "552                        NaN                4.8             2.3  \n",
       "553                        NaN                4.7             2.2  \n",
       "\n",
       "[554 rows x 8 columns]"
      ]
     },
     "execution_count": 8,
     "metadata": {},
     "output_type": "execute_result"
    }
   ],
   "source": [
    "inflation_rates.drop(['index', 'Month', 'Day'], axis=1, inplace=True)\n",
    "inflation_rates.columns = ['DATE', 'Federal Funds Target Rate', \n",
    "                           'Federal Funds Upper Target', 'Federal Funds Lower Target',\n",
    "                           'Effective Federal Funds Rate', 'Real GDP (Percent Change)',\n",
    "                           'Unemployment Rate', 'Inflation Rate']\n",
    "inflation_rates"
   ]
  },
  {
   "cell_type": "code",
   "execution_count": 9,
   "metadata": {},
   "outputs": [],
   "source": [
    "inflation_rates['DATE'] = pd.to_datetime(inflation_rates['DATE'], format='%Y-%m-%d')"
   ]
  },
  {
   "cell_type": "markdown",
   "metadata": {},
   "source": [
    "# Scatterplot"
   ]
  },
  {
   "cell_type": "code",
   "execution_count": 48,
   "metadata": {},
   "outputs": [
    {
     "data": {
      "image/png": "[encoded data removed]",
      "text/plain": [
       "<Figure size 1440x576 with 1 Axes>"
      ]
     },
     "metadata": {
      "needs_background": "light"
     },
     "output_type": "display_data"
    }
   ],
   "source": [
    "# matplotlib date format modules\n",
    "from matplotlib.dates import DateFormatter\n",
    "import matplotlib.dates as mdates\n",
    "\n",
    "# define the date format\n",
    "myFmt = mdates.DateFormatter('%Y')\n",
    "\n",
    "# plot the data\n",
    "fig, ax = plt.subplots(figsize=(20,8))\n",
    "ax.plot(inflation_rates['DATE'], inflation_rates['Inflation Rate'], label='inflation rate', linewidth=5)\n",
    "ax.plot(inflation_rates['DATE'], inflation_rates['Unemployment Rate'], label='Unemployment rate')\n",
    "ax.plot(inflation_rates['DATE'], inflation_rates['Effective Federal Funds Rate'], label='Effective Federal Fund rate')\n",
    "ax.set(ylabel='rates', xlabel='timeline')\n",
    "ax.set_title('US Metrics from {} to {}'.format(inflation_rates['DATE'].min().strftime('%Y'), inflation_rates['DATE'].max().strftime('%Y')))\n",
    "ax.legend()\n",
    "\n",
    "# inform axis that it is plotting dates\n",
    "ax.xaxis_date() \n",
    "\n",
    "# use format specified as myFmt\n",
    "ax.xaxis.set_major_formatter(myFmt);"
   ]
  },
  {
   "cell_type": "markdown",
   "metadata": {},
   "source": [
    "This scatterplot represents the different inflation rates in the US over time, between 1954 and 2017.  It shows a downward trend for the majority of the timeline, with the maximum rate peaking close to 14%.  There are a few \"mini\" peaks, and we need to check if dates correspond to financial crisis in the US (ie. early and mid 1980's, 1990, 2000, and 2007) "
   ]
  },
  {
   "cell_type": "markdown",
   "metadata": {},
   "source": [
    "# Inflation Rate"
   ]
  },
  {
   "cell_type": "code",
   "execution_count": 10,
   "metadata": {
    "scrolled": false
   },
   "outputs": [
    {
     "data": {
      "image/png": "[encoded data removed]",
      "text/plain": [
       "<Figure size 432x288 with 1 Axes>"
      ]
     },
     "metadata": {
      "needs_background": "light"
     },
     "output_type": "display_data"
    }
   ],
   "source": [
    "# histogram\n",
    "plt.hist(inflation_rates['Inflation Rate'], bins=10)\n",
    "plt.title('US Inflation Rate Distribution')\n",
    "plt.xlabel('inflation rates')\n",
    "plt.ylabel('frequency');"
   ]
  },
  {
   "cell_type": "markdown",
   "metadata": {},
   "source": [
    "From this spread, it is comforting to know that +7% rates are not the most common.  It looks like a gamma distribution.  "
   ]
  },
  {
   "cell_type": "code",
   "execution_count": 19,
   "metadata": {},
   "outputs": [],
   "source": [
    "# QQ plot\n",
    "\n",
    "# \n",
    "inflation = inflation_rates['Inflation Rate']\n",
    "\n",
    "# Sorting the values in ascending order.\n",
    "inflation.sort_values()\n",
    "\n",
    "# Making two variables.\n",
    "rand1 = np.random.normal(0, 1, len(inflation_rates))\n",
    "rand2 = np.random.gamma(5,1, len(inflation_rates))\n",
    "\n",
    "# Sorting the values in ascending order.\n",
    "rand1.sort()\n",
    "rand2.sort()"
   ]
  },
  {
   "cell_type": "code",
   "execution_count": 20,
   "metadata": {},
   "outputs": [
    {
     "data": {
      "image/png": "[encoded data removed]",
      "text/plain": [
       "<Figure size 432x288 with 1 Axes>"
      ]
     },
     "metadata": {
      "needs_background": "light"
     },
     "output_type": "display_data"
    }
   ],
   "source": [
    "# Plotting the variable rand1 against norm in qqplots.\n",
    "plt.plot(inflation, rand1, \"o\") \n",
    "plt.show()"
   ]
  },
  {
   "cell_type": "code",
   "execution_count": 21,
   "metadata": {},
   "outputs": [
    {
     "data": {
      "image/png": "[encoded data removed]",
      "text/plain": [
       "<Figure size 432x288 with 1 Axes>"
      ]
     },
     "metadata": {
      "needs_background": "light"
     },
     "output_type": "display_data"
    }
   ],
   "source": [
    "# Plotting the variable rand2 against norm in qqplots.\n",
    "plt.plot(inflation, rand2, \"o\") \n",
    "plt.show()"
   ]
  },
  {
   "cell_type": "code",
   "execution_count": 22,
   "metadata": {},
   "outputs": [
    {
     "data": {
      "image/png": "[encoded data removed]",
      "text/plain": [
       "<Figure size 432x288 with 1 Axes>"
      ]
     },
     "metadata": {
      "needs_background": "light"
     },
     "output_type": "display_data"
    }
   ],
   "source": [
    "# boxplot\n",
    "plt.boxplot(inflation_rates['Inflation Rate'].dropna())\n",
    "plt.title('US Inflation Rate Range')\n",
    "plt.ylabel('rates')\n",
    "plt.grid();"
   ]
  },
  {
   "cell_type": "code",
   "execution_count": 23,
   "metadata": {},
   "outputs": [
    {
     "name": "stdout",
     "output_type": "stream",
     "text": [
      "mean: 4.02454873646209\n",
      "median: 3.0\n",
      "min: 0.6\n",
      "max: 13.6\n"
     ]
    }
   ],
   "source": [
    "mean = inflation_rates['Inflation Rate'].mean()\n",
    "median = inflation_rates['Inflation Rate'].median()\n",
    "rate_min = inflation_rates['Inflation Rate'].min()\n",
    "rate_max = inflation_rates['Inflation Rate'].max()\n",
    "\n",
    "print('mean: {}\\nmedian: {}\\nmin: {}\\nmax: {}'.format(mean, median, rate_min, rate_max))"
   ]
  },
  {
   "cell_type": "markdown",
   "metadata": {},
   "source": [
    "# Unemployment Rate"
   ]
  },
  {
   "cell_type": "code",
   "execution_count": 50,
   "metadata": {},
   "outputs": [
    {
     "data": {
      "image/png": "[encoded data removed]",
      "text/plain": [
       "<Figure size 432x288 with 1 Axes>"
      ]
     },
     "metadata": {
      "needs_background": "light"
     },
     "output_type": "display_data"
    }
   ],
   "source": [
    "# histogram\n",
    "plt.hist(inflation_rates['Unemployment Rate'], bins=10)\n",
    "plt.title('US Unemployment Rate')\n",
    "plt.xlabel('unemplyment rate')\n",
    "plt.ylabel('frequency');"
   ]
  },
  {
   "cell_type": "markdown",
   "metadata": {},
   "source": [
    "Looks like another gamma distribution."
   ]
  },
  {
   "cell_type": "code",
   "execution_count": 24,
   "metadata": {},
   "outputs": [
    {
     "data": {
      "text/plain": [
       "351     3.8\n",
       "359     3.9\n",
       "358     3.9\n",
       "357     3.9\n",
       "356     3.9\n",
       "352     4.0\n",
       "       ... \n",
       "146    10.3\n",
       "141    10.4\n",
       "144    10.4\n",
       "145    10.4\n",
       "143    10.8\n",
       "142    10.8\n",
       "Name: Unemployment Rate, Length: 554, dtype: float64"
      ]
     },
     "execution_count": 24,
     "metadata": {},
     "output_type": "execute_result"
    }
   ],
   "source": [
    "# QQ plot\n",
    "\n",
    "# \n",
    "unemployment = inflation_rates['Unemployment Rate']\n",
    "\n",
    "# Sorting the values in ascending order.\n",
    "unemployment.sort_values()"
   ]
  },
  {
   "cell_type": "code",
   "execution_count": 25,
   "metadata": {},
   "outputs": [
    {
     "data": {
      "image/png": "[encoded data removed]",
      "text/plain": [
       "<Figure size 432x288 with 1 Axes>"
      ]
     },
     "metadata": {
      "needs_background": "light"
     },
     "output_type": "display_data"
    }
   ],
   "source": [
    "# Plotting the variable rand1 against norm in qqplots.\n",
    "plt.plot(unemployment, rand1, \"o\") \n",
    "plt.show()"
   ]
  },
  {
   "cell_type": "code",
   "execution_count": 26,
   "metadata": {},
   "outputs": [
    {
     "data": {
      "image/png": "[encoded data removed]",
      "text/plain": [
       "<Figure size 432x288 with 1 Axes>"
      ]
     },
     "metadata": {
      "needs_background": "light"
     },
     "output_type": "display_data"
    }
   ],
   "source": [
    "# Plotting the variable rand2 against norm in qqplots.\n",
    "plt.plot(unemployment, rand2, \"o\") \n",
    "plt.show()"
   ]
  },
  {
   "cell_type": "code",
   "execution_count": 27,
   "metadata": {},
   "outputs": [
    {
     "data": {
      "image/png": "[encoded data removed]",
      "text/plain": [
       "<Figure size 432x288 with 1 Axes>"
      ]
     },
     "metadata": {
      "needs_background": "light"
     },
     "output_type": "display_data"
    }
   ],
   "source": [
    "# boxplot\n",
    "plt.boxplot(inflation_rates['Unemployment Rate'])\n",
    "plt.title('US Unemployment Rate Range')\n",
    "plt.ylabel('rates')\n",
    "plt.grid();"
   ]
  },
  {
   "cell_type": "code",
   "execution_count": 28,
   "metadata": {},
   "outputs": [
    {
     "name": "stdout",
     "output_type": "stream",
     "text": [
      "mean: 6.368411552346567\n",
      "median: 5.9\n",
      "min: 3.8\n",
      "max: 10.8\n"
     ]
    }
   ],
   "source": [
    "mean = inflation_rates['Unemployment Rate'].mean()\n",
    "median = inflation_rates['Unemployment Rate'].median()\n",
    "rate_min = inflation_rates['Unemployment Rate'].min()\n",
    "rate_max = inflation_rates['Unemployment Rate'].max()\n",
    "\n",
    "print('mean: {}\\nmedian: {}\\nmin: {}\\nmax: {}'.format(mean, median, rate_min, rate_max))"
   ]
  },
  {
   "cell_type": "markdown",
   "metadata": {},
   "source": [
    "# Effective Federal Funds Rate"
   ]
  },
  {
   "cell_type": "code",
   "execution_count": 51,
   "metadata": {},
   "outputs": [
    {
     "data": {
      "image/png": "[encoded data removed]",
      "text/plain": [
       "<Figure size 432x288 with 1 Axes>"
      ]
     },
     "metadata": {
      "needs_background": "light"
     },
     "output_type": "display_data"
    }
   ],
   "source": [
    "# histogram\n",
    "plt.hist(inflation_rates['Effective Federal Funds Rate'], bins=10)\n",
    "plt.title('US Effective Federal Funds Rate Distribution')\n",
    "plt.xlabel('rates')\n",
    "plt.ylabel('frequency');"
   ]
  },
  {
   "cell_type": "code",
   "execution_count": 30,
   "metadata": {},
   "outputs": [
    {
     "data": {
      "text/plain": [
       "486     0.07\n",
       "491     0.07\n",
       "489     0.07\n",
       "516     0.07\n",
       "517     0.07\n",
       "492     0.08\n",
       "       ...  \n",
       "127    17.82\n",
       "124    18.52\n",
       "119    18.90\n",
       "126    19.04\n",
       "120    19.08\n",
       "125    19.10\n",
       "Name: Effective Federal Funds Rate, Length: 554, dtype: float64"
      ]
     },
     "execution_count": 30,
     "metadata": {},
     "output_type": "execute_result"
    }
   ],
   "source": [
    "# QQ plot\n",
    "\n",
    "# \n",
    "RFF = inflation_rates['Effective Federal Funds Rate']\n",
    "\n",
    "# Sorting the values in ascending order.\n",
    "RFF.sort_values()"
   ]
  },
  {
   "cell_type": "code",
   "execution_count": 31,
   "metadata": {},
   "outputs": [
    {
     "data": {
      "image/png": "[encoded data removed]",
      "text/plain": [
       "<Figure size 432x288 with 1 Axes>"
      ]
     },
     "metadata": {
      "needs_background": "light"
     },
     "output_type": "display_data"
    }
   ],
   "source": [
    "# Plotting the variable rand1 against norm in qqplots.\n",
    "plt.plot(RFF, rand1, \"o\") \n",
    "plt.show()"
   ]
  },
  {
   "cell_type": "code",
   "execution_count": 32,
   "metadata": {},
   "outputs": [
    {
     "data": {
      "image/png": "[encoded data removed]",
      "text/plain": [
       "<Figure size 432x288 with 1 Axes>"
      ]
     },
     "metadata": {
      "needs_background": "light"
     },
     "output_type": "display_data"
    }
   ],
   "source": [
    "# Plotting the variable rand2 against norm in qqplots.\n",
    "plt.plot(RFF, rand2, \"o\") \n",
    "plt.show()"
   ]
  },
  {
   "cell_type": "code",
   "execution_count": null,
   "metadata": {},
   "outputs": [],
   "source": [
    "# boxplot\n",
    "plt.boxplot(inflation_rates['Effective Federal Funds Rate'])\n",
    "plt.title('US Federal Fund Rate Range')\n",
    "plt.ylabel('rates')\n",
    "plt.grid();"
   ]
  },
  {
   "cell_type": "code",
   "execution_count": null,
   "metadata": {},
   "outputs": [],
   "source": [
    "mean = inflation_rates['Effective Federal Funds Rate'].mean()\n",
    "median = inflation_rates['Effective Federal Funds Rate'].median()\n",
    "rate_min = inflation_rates['Effective Federal Funds Rate'].min()\n",
    "rate_max = inflation_rates['Effective Federal Funds Rate'].max()\n",
    "\n",
    "print('mean: {}\\nmedian: {}\\nmin: {}\\nmax: {}'.format(mean, median, rate_min, rate_max))"
   ]
  },
  {
   "cell_type": "markdown",
   "metadata": {},
   "source": [
    "# Summary of Histogram Plots"
   ]
  },
  {
   "cell_type": "code",
   "execution_count": null,
   "metadata": {},
   "outputs": [],
   "source": [
    "plt.figure(figsize=(15,10))\n",
    "\n",
    "plt.subplot(2,2,1)\n",
    "plt.hist(inflation_rates['Inflation Rate'])\n",
    "plt.title('Histogram')\n",
    "plt.xlabel('inflation rates')\n",
    "plt.ylabel('frequency')\n",
    "\n",
    "plt.subplot(2,2,2)\n",
    "plt.hist(inflation_rates['Unemployment Rate'])\n",
    "plt.title('Histogram')\n",
    "plt.xlabel('unemployment rates')\n",
    "plt.ylabel('frequency')\n",
    "\n",
    "plt.subplot(2,2,3)\n",
    "plt.hist(inflation_rates['Effective Federal Funds Rate'])\n",
    "plt.title('Histogram')\n",
    "plt.xlabel('federal reserve funds rate')\n",
    "plt.ylabel('frequency')\n",
    "\n",
    "plt.tight_layout();"
   ]
  },
  {
   "cell_type": "code",
   "execution_count": null,
   "metadata": {},
   "outputs": [],
   "source": []
  }
 ],
 "metadata": {
  "kernelspec": {
   "display_name": "Python 3",
   "language": "python",
   "name": "python3"
  },
  "language_info": {
   "codemirror_mode": {
    "name": "ipython",
    "version": 3
   },
   "file_extension": ".py",
   "mimetype": "text/x-python",
   "name": "python",
   "nbconvert_exporter": "python",
   "pygments_lexer": "ipython3",
   "version": "3.7.3"
  }
 },
 "nbformat": 4,
 "nbformat_minor": 2
}
