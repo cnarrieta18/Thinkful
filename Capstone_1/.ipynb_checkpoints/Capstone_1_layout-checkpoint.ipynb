{
 "cells": [
  {
   "cell_type": "markdown",
   "metadata": {},
   "source": [
    "# INTRODUCTION\n",
    "\n",
    "**Goal:**\n",
    "\n",
    "**Why?**\n",
    "\n",
    "**How?**"
   ]
  },
  {
   "cell_type": "markdown",
   "metadata": {},
   "source": [
    "# METHODOLOGY\n",
    "\n",
    "**Data Source:** check for bias and nulls\n",
    "- http://data.un.org/Data.aspx?d=ComTrade&f=_l1Code%3a1#ComTrade\n",
    "- https://comtrade.un.org/\n",
    "\n",
    "**Conditions/Assumptions:**\n",
    "\n",
    "**Metrics:** \n",
    "- Summary stats (mean, median, mode, std)\n",
    "- variable distributions (use qq plots gamma)\n",
    "    - mortgage rate\n",
    "    - inflation rate\n",
    "\n",
    "**Tools:** Python, Pandas, Numpy, Matplotlib"
   ]
  },
  {
   "cell_type": "markdown",
   "metadata": {},
   "source": [
    "# DATA INSIGHTS"
   ]
  },
  {
   "cell_type": "markdown",
   "metadata": {},
   "source": [
    "**Question 1:** From plotting the 30yr US Mortgage rate, the all time high of +18% is said to be in response to the high inflation rate at the time (1980s recession). Is there a correlation between mortgage rate and inflation rate after 1980?"
   ]
  },
  {
   "cell_type": "markdown",
   "metadata": {},
   "source": [
    "**Question 2:** The federal funds rate (interest rate) is reactive and manually set by the government.  With economic health as a big concern, we can expect it to respond to the behavior of inflation.  What behaviors are observed between the two rates based on the data?"
   ]
  },
  {
   "cell_type": "markdown",
   "metadata": {},
   "source": [
    "**Question 3:** Average duraton between interest rates (federal funds rate) cut and interest rates increase (need to specify tolerance to define significant interest hikes).  There is a belief that when Feds lower the interest rate, an increase will take a long time. "
   ]
  },
  {
   "cell_type": "markdown",
   "metadata": {},
   "source": [
    "**Conclusion/Recommendations**"
   ]
  },
  {
   "cell_type": "markdown",
   "metadata": {},
   "source": [
    "# FUTURE MODELING\n",
    "\n",
    "models to use: OLS then maybe time-series"
   ]
  },
  {
   "cell_type": "markdown",
   "metadata": {},
   "source": [
    "# APPENDIX\n",
    "\n",
    "python codes\n",
    "\n",
    "additional tables\n",
    "\n",
    "additional plots\n",
    "\n",
    "challenges/issues"
   ]
  }
 ],
 "metadata": {
  "kernelspec": {
   "display_name": "Python 3",
   "language": "python",
   "name": "python3"
  },
  "language_info": {
   "codemirror_mode": {
    "name": "ipython",
    "version": 3
   },
   "file_extension": ".py",
   "mimetype": "text/x-python",
   "name": "python",
   "nbconvert_exporter": "python",
   "pygments_lexer": "ipython3",
   "version": "3.7.3"
  }
 },
 "nbformat": 4,
 "nbformat_minor": 2
}
